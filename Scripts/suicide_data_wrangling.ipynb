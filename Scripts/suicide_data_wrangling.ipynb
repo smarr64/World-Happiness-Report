{
 "cells": [
  {
   "cell_type": "markdown",
   "id": "28de80d1",
   "metadata": {
    "heading_collapsed": true
   },
   "source": [
    "# Table of Contents"
   ]
  },
  {
   "cell_type": "markdown",
   "id": "8ab34363",
   "metadata": {
    "heading_collapsed": true,
    "hidden": true
   },
   "source": [
    "## Import Libraries and Data\n",
    "## Wrangle and Format Data\n",
    "## Wrangle World Happiness Report 2019\n",
    "## Merge Data Sets\n",
    "## Correlation Matrix\n",
    "## Visualizations"
   ]
  },
  {
   "cell_type": "markdown",
   "id": "a1a06923",
   "metadata": {},
   "source": [
    "# Import Libraries and Data"
   ]
  },
  {
   "cell_type": "code",
   "execution_count": 1,
   "id": "363b346b",
   "metadata": {
    "ExecuteTime": {
     "end_time": "2022-09-22T03:03:40.280920Z",
     "start_time": "2022-09-22T03:03:38.039763Z"
    }
   },
   "outputs": [],
   "source": [
    "# import libraries\n",
    "import pandas as pd\n",
    "import numpy as np\n",
    "import os\n",
    "import scipy\n",
    "import matplotlib.pyplot as plt\n",
    "import matplotlib\n",
    "import seaborn as sns"
   ]
  },
  {
   "cell_type": "code",
   "execution_count": 2,
   "id": "ddb9b0d1",
   "metadata": {
    "ExecuteTime": {
     "end_time": "2022-09-22T03:03:40.301593Z",
     "start_time": "2022-09-22T03:03:40.287192Z"
    }
   },
   "outputs": [],
   "source": [
    "# create path\n",
    "path = r'C:\\Users\\18602\\Documents\\Data Analytics\\Data Immersion\\Month 6\\A6 Project'"
   ]
  },
  {
   "cell_type": "code",
   "execution_count": 6,
   "id": "1c27dcbf",
   "metadata": {
    "ExecuteTime": {
     "end_time": "2022-09-22T03:03:42.981362Z",
     "start_time": "2022-09-22T03:03:42.965345Z"
    }
   },
   "outputs": [],
   "source": [
    "# import happiness 2019 data\n",
    "happy = pd.read_csv(os.path.join(path, '02 Data', 'Prepared Data', 'happy_2019.csv'),index_col = False)"
   ]
  },
  {
   "cell_type": "code",
   "execution_count": 7,
   "id": "4f433391",
   "metadata": {
    "ExecuteTime": {
     "end_time": "2022-09-22T03:03:43.013347Z",
     "start_time": "2022-09-22T03:03:42.981362Z"
    }
   },
   "outputs": [
    {
     "data": {
      "text/html": [
       "<div>\n",
       "<style scoped>\n",
       "    .dataframe tbody tr th:only-of-type {\n",
       "        vertical-align: middle;\n",
       "    }\n",
       "\n",
       "    .dataframe tbody tr th {\n",
       "        vertical-align: top;\n",
       "    }\n",
       "\n",
       "    .dataframe thead th {\n",
       "        text-align: right;\n",
       "    }\n",
       "</style>\n",
       "<table border=\"1\" class=\"dataframe\">\n",
       "  <thead>\n",
       "    <tr style=\"text-align: right;\">\n",
       "      <th></th>\n",
       "      <th>Unnamed: 0</th>\n",
       "      <th>Rank</th>\n",
       "      <th>Country</th>\n",
       "      <th>Score</th>\n",
       "      <th>Economy</th>\n",
       "      <th>Social Support</th>\n",
       "      <th>Life Expectancy</th>\n",
       "      <th>Freedom</th>\n",
       "      <th>Generosity</th>\n",
       "      <th>Government Trust</th>\n",
       "      <th>Year</th>\n",
       "    </tr>\n",
       "  </thead>\n",
       "  <tbody>\n",
       "    <tr>\n",
       "      <th>0</th>\n",
       "      <td>0</td>\n",
       "      <td>1</td>\n",
       "      <td>Finland</td>\n",
       "      <td>7.769</td>\n",
       "      <td>1.340</td>\n",
       "      <td>1.587</td>\n",
       "      <td>0.986</td>\n",
       "      <td>0.596</td>\n",
       "      <td>0.153</td>\n",
       "      <td>0.393</td>\n",
       "      <td>2019</td>\n",
       "    </tr>\n",
       "    <tr>\n",
       "      <th>1</th>\n",
       "      <td>1</td>\n",
       "      <td>2</td>\n",
       "      <td>Denmark</td>\n",
       "      <td>7.600</td>\n",
       "      <td>1.383</td>\n",
       "      <td>1.573</td>\n",
       "      <td>0.996</td>\n",
       "      <td>0.592</td>\n",
       "      <td>0.252</td>\n",
       "      <td>0.410</td>\n",
       "      <td>2019</td>\n",
       "    </tr>\n",
       "    <tr>\n",
       "      <th>2</th>\n",
       "      <td>2</td>\n",
       "      <td>3</td>\n",
       "      <td>Norway</td>\n",
       "      <td>7.554</td>\n",
       "      <td>1.488</td>\n",
       "      <td>1.582</td>\n",
       "      <td>1.028</td>\n",
       "      <td>0.603</td>\n",
       "      <td>0.271</td>\n",
       "      <td>0.341</td>\n",
       "      <td>2019</td>\n",
       "    </tr>\n",
       "    <tr>\n",
       "      <th>3</th>\n",
       "      <td>3</td>\n",
       "      <td>4</td>\n",
       "      <td>Iceland</td>\n",
       "      <td>7.494</td>\n",
       "      <td>1.380</td>\n",
       "      <td>1.624</td>\n",
       "      <td>1.026</td>\n",
       "      <td>0.591</td>\n",
       "      <td>0.354</td>\n",
       "      <td>0.118</td>\n",
       "      <td>2019</td>\n",
       "    </tr>\n",
       "    <tr>\n",
       "      <th>4</th>\n",
       "      <td>4</td>\n",
       "      <td>5</td>\n",
       "      <td>Netherlands</td>\n",
       "      <td>7.488</td>\n",
       "      <td>1.396</td>\n",
       "      <td>1.522</td>\n",
       "      <td>0.999</td>\n",
       "      <td>0.557</td>\n",
       "      <td>0.322</td>\n",
       "      <td>0.298</td>\n",
       "      <td>2019</td>\n",
       "    </tr>\n",
       "  </tbody>\n",
       "</table>\n",
       "</div>"
      ],
      "text/plain": [
       "   Unnamed: 0  Rank      Country  Score  Economy  Social Support  \\\n",
       "0           0     1      Finland  7.769    1.340           1.587   \n",
       "1           1     2      Denmark  7.600    1.383           1.573   \n",
       "2           2     3       Norway  7.554    1.488           1.582   \n",
       "3           3     4      Iceland  7.494    1.380           1.624   \n",
       "4           4     5  Netherlands  7.488    1.396           1.522   \n",
       "\n",
       "   Life Expectancy  Freedom  Generosity  Government Trust  Year  \n",
       "0            0.986    0.596       0.153             0.393  2019  \n",
       "1            0.996    0.592       0.252             0.410  2019  \n",
       "2            1.028    0.603       0.271             0.341  2019  \n",
       "3            1.026    0.591       0.354             0.118  2019  \n",
       "4            0.999    0.557       0.322             0.298  2019  "
      ]
     },
     "execution_count": 7,
     "metadata": {},
     "output_type": "execute_result"
    }
   ],
   "source": [
    "# check output\n",
    "happy.head()"
   ]
  },
  {
   "cell_type": "code",
   "execution_count": 75,
   "id": "5c916e61",
   "metadata": {
    "ExecuteTime": {
     "end_time": "2022-09-22T03:18:27.342518Z",
     "start_time": "2022-09-22T03:18:27.314836Z"
    }
   },
   "outputs": [],
   "source": [
    "# import alternate data\n",
    "newsuicide = pd.read_csv(os.path.join(path, '02 Data','Prepared Data','suicide2.csv'))"
   ]
  },
  {
   "cell_type": "code",
   "execution_count": 76,
   "id": "1e135cc5",
   "metadata": {
    "ExecuteTime": {
     "end_time": "2022-09-22T03:18:28.031784Z",
     "start_time": "2022-09-22T03:18:28.006624Z"
    }
   },
   "outputs": [
    {
     "data": {
      "text/html": [
       "<div>\n",
       "<style scoped>\n",
       "    .dataframe tbody tr th:only-of-type {\n",
       "        vertical-align: middle;\n",
       "    }\n",
       "\n",
       "    .dataframe tbody tr th {\n",
       "        vertical-align: top;\n",
       "    }\n",
       "\n",
       "    .dataframe thead th {\n",
       "        text-align: right;\n",
       "    }\n",
       "</style>\n",
       "<table border=\"1\" class=\"dataframe\">\n",
       "  <thead>\n",
       "    <tr style=\"text-align: right;\">\n",
       "      <th></th>\n",
       "      <th>Country</th>\n",
       "      <th>All</th>\n",
       "      <th>Male</th>\n",
       "      <th>Female</th>\n",
       "    </tr>\n",
       "  </thead>\n",
       "  <tbody>\n",
       "    <tr>\n",
       "      <th>0</th>\n",
       "      <td>Afghanistan</td>\n",
       "      <td>6.0</td>\n",
       "      <td>6.2</td>\n",
       "      <td>5.7</td>\n",
       "    </tr>\n",
       "    <tr>\n",
       "      <th>1</th>\n",
       "      <td>Albania</td>\n",
       "      <td>3.7</td>\n",
       "      <td>5.3</td>\n",
       "      <td>2.2</td>\n",
       "    </tr>\n",
       "    <tr>\n",
       "      <th>2</th>\n",
       "      <td>Algeria</td>\n",
       "      <td>2.6</td>\n",
       "      <td>3.3</td>\n",
       "      <td>1.9</td>\n",
       "    </tr>\n",
       "    <tr>\n",
       "      <th>3</th>\n",
       "      <td>Angola</td>\n",
       "      <td>12.6</td>\n",
       "      <td>21.7</td>\n",
       "      <td>4.7</td>\n",
       "    </tr>\n",
       "    <tr>\n",
       "      <th>4</th>\n",
       "      <td>Antigua and Barbuda</td>\n",
       "      <td>0.3</td>\n",
       "      <td>0.0</td>\n",
       "      <td>0.6</td>\n",
       "    </tr>\n",
       "  </tbody>\n",
       "</table>\n",
       "</div>"
      ],
      "text/plain": [
       "               Country   All  Male  Female\n",
       "0          Afghanistan   6.0   6.2     5.7\n",
       "1              Albania   3.7   5.3     2.2\n",
       "2              Algeria   2.6   3.3     1.9\n",
       "3               Angola  12.6  21.7     4.7\n",
       "4  Antigua and Barbuda   0.3   0.0     0.6"
      ]
     },
     "execution_count": 76,
     "metadata": {},
     "output_type": "execute_result"
    }
   ],
   "source": [
    "# check output\n",
    "newsuicide.head()"
   ]
  },
  {
   "cell_type": "markdown",
   "id": "da785b70",
   "metadata": {},
   "source": [
    "# Wrange and Format Data"
   ]
  },
  {
   "cell_type": "code",
   "execution_count": 77,
   "id": "54887a3f",
   "metadata": {
    "ExecuteTime": {
     "end_time": "2022-09-22T03:18:30.421658Z",
     "start_time": "2022-09-22T03:18:30.397869Z"
    }
   },
   "outputs": [
    {
     "data": {
      "text/plain": [
       "Index(['Country', 'All', 'Male', 'Female'], dtype='object')"
      ]
     },
     "execution_count": 77,
     "metadata": {},
     "output_type": "execute_result"
    }
   ],
   "source": [
    "# columns\n",
    "newsuicide.columns"
   ]
  },
  {
   "cell_type": "code",
   "execution_count": 78,
   "id": "01677c7f",
   "metadata": {
    "ExecuteTime": {
     "end_time": "2022-09-22T03:18:31.572464Z",
     "start_time": "2022-09-22T03:18:31.548731Z"
    }
   },
   "outputs": [
    {
     "data": {
      "text/plain": [
       "(189, 4)"
      ]
     },
     "execution_count": 78,
     "metadata": {},
     "output_type": "execute_result"
    }
   ],
   "source": [
    "# shape\n",
    "newsuicide.shape"
   ]
  },
  {
   "cell_type": "code",
   "execution_count": 79,
   "id": "cafcaf87",
   "metadata": {
    "ExecuteTime": {
     "end_time": "2022-09-22T03:18:33.565188Z",
     "start_time": "2022-09-22T03:18:33.531748Z"
    }
   },
   "outputs": [
    {
     "data": {
      "text/html": [
       "<div>\n",
       "<style scoped>\n",
       "    .dataframe tbody tr th:only-of-type {\n",
       "        vertical-align: middle;\n",
       "    }\n",
       "\n",
       "    .dataframe tbody tr th {\n",
       "        vertical-align: top;\n",
       "    }\n",
       "\n",
       "    .dataframe thead th {\n",
       "        text-align: right;\n",
       "    }\n",
       "</style>\n",
       "<table border=\"1\" class=\"dataframe\">\n",
       "  <thead>\n",
       "    <tr style=\"text-align: right;\">\n",
       "      <th></th>\n",
       "      <th>All</th>\n",
       "      <th>Male</th>\n",
       "      <th>Female</th>\n",
       "    </tr>\n",
       "  </thead>\n",
       "  <tbody>\n",
       "    <tr>\n",
       "      <th>count</th>\n",
       "      <td>189.000000</td>\n",
       "      <td>189.000000</td>\n",
       "      <td>189.000000</td>\n",
       "    </tr>\n",
       "    <tr>\n",
       "      <th>mean</th>\n",
       "      <td>10.101058</td>\n",
       "      <td>16.114815</td>\n",
       "      <td>4.579894</td>\n",
       "    </tr>\n",
       "    <tr>\n",
       "      <th>std</th>\n",
       "      <td>8.548429</td>\n",
       "      <td>14.710612</td>\n",
       "      <td>3.545602</td>\n",
       "    </tr>\n",
       "    <tr>\n",
       "      <th>min</th>\n",
       "      <td>0.300000</td>\n",
       "      <td>0.000000</td>\n",
       "      <td>0.200000</td>\n",
       "    </tr>\n",
       "    <tr>\n",
       "      <th>25%</th>\n",
       "      <td>5.300000</td>\n",
       "      <td>7.900000</td>\n",
       "      <td>2.300000</td>\n",
       "    </tr>\n",
       "    <tr>\n",
       "      <th>50%</th>\n",
       "      <td>8.300000</td>\n",
       "      <td>13.300000</td>\n",
       "      <td>3.900000</td>\n",
       "    </tr>\n",
       "    <tr>\n",
       "      <th>75%</th>\n",
       "      <td>12.300000</td>\n",
       "      <td>19.600000</td>\n",
       "      <td>6.100000</td>\n",
       "    </tr>\n",
       "    <tr>\n",
       "      <th>max</th>\n",
       "      <td>87.500000</td>\n",
       "      <td>146.900000</td>\n",
       "      <td>34.600000</td>\n",
       "    </tr>\n",
       "  </tbody>\n",
       "</table>\n",
       "</div>"
      ],
      "text/plain": [
       "              All        Male      Female\n",
       "count  189.000000  189.000000  189.000000\n",
       "mean    10.101058   16.114815    4.579894\n",
       "std      8.548429   14.710612    3.545602\n",
       "min      0.300000    0.000000    0.200000\n",
       "25%      5.300000    7.900000    2.300000\n",
       "50%      8.300000   13.300000    3.900000\n",
       "75%     12.300000   19.600000    6.100000\n",
       "max     87.500000  146.900000   34.600000"
      ]
     },
     "execution_count": 79,
     "metadata": {},
     "output_type": "execute_result"
    }
   ],
   "source": [
    "# describe\n",
    "newsuicide.describe()"
   ]
  },
  {
   "cell_type": "code",
   "execution_count": 80,
   "id": "7b141053",
   "metadata": {
    "ExecuteTime": {
     "end_time": "2022-09-22T03:18:36.322930Z",
     "start_time": "2022-09-22T03:18:36.297488Z"
    }
   },
   "outputs": [],
   "source": [
    "# remove unnecessary columns\n",
    "newsuicide = newsuicide[['Country','All']]"
   ]
  },
  {
   "cell_type": "code",
   "execution_count": 81,
   "id": "024ae68a",
   "metadata": {
    "ExecuteTime": {
     "end_time": "2022-09-22T03:18:43.624398Z",
     "start_time": "2022-09-22T03:18:43.589389Z"
    }
   },
   "outputs": [
    {
     "data": {
      "text/plain": [
       "Country    0\n",
       "All        0\n",
       "dtype: int64"
      ]
     },
     "execution_count": 81,
     "metadata": {},
     "output_type": "execute_result"
    }
   ],
   "source": [
    "# check for nulls\n",
    "newsuicide.isnull().sum()"
   ]
  },
  {
   "cell_type": "code",
   "execution_count": 82,
   "id": "38c519dc",
   "metadata": {
    "ExecuteTime": {
     "end_time": "2022-09-22T03:18:46.928868Z",
     "start_time": "2022-09-22T03:18:46.911190Z"
    }
   },
   "outputs": [],
   "source": [
    "# format column titles\n",
    "newsuicide.rename(columns = {'All' : 'Suicides / 100,000'}, inplace = True)"
   ]
  },
  {
   "cell_type": "code",
   "execution_count": 83,
   "id": "95a929da",
   "metadata": {
    "ExecuteTime": {
     "end_time": "2022-09-22T03:18:48.421962Z",
     "start_time": "2022-09-22T03:18:48.397896Z"
    }
   },
   "outputs": [
    {
     "data": {
      "text/plain": [
       "Index(['Country', 'Suicides / 100,000'], dtype='object')"
      ]
     },
     "execution_count": 83,
     "metadata": {},
     "output_type": "execute_result"
    }
   ],
   "source": [
    "newsuicide.columns"
   ]
  },
  {
   "cell_type": "code",
   "execution_count": 84,
   "id": "1fb70ba1",
   "metadata": {
    "ExecuteTime": {
     "end_time": "2022-09-22T03:18:50.062529Z",
     "start_time": "2022-09-22T03:18:50.040519Z"
    }
   },
   "outputs": [
    {
     "data": {
      "text/plain": [
       "Country                object\n",
       "Suicides / 100,000    float64\n",
       "dtype: object"
      ]
     },
     "execution_count": 84,
     "metadata": {},
     "output_type": "execute_result"
    }
   ],
   "source": [
    "# check dtypes\n",
    "newsuicide.dtypes"
   ]
  },
  {
   "cell_type": "code",
   "execution_count": 85,
   "id": "a9417b75",
   "metadata": {
    "ExecuteTime": {
     "end_time": "2022-09-22T03:18:52.868853Z",
     "start_time": "2022-09-22T03:18:52.852185Z"
    }
   },
   "outputs": [],
   "source": [
    "# duplicates\n",
    "df_dups = newsuicide[newsuicide.duplicated()]"
   ]
  },
  {
   "cell_type": "code",
   "execution_count": 86,
   "id": "85676279",
   "metadata": {
    "ExecuteTime": {
     "end_time": "2022-09-22T03:18:53.709225Z",
     "start_time": "2022-09-22T03:18:53.693221Z"
    }
   },
   "outputs": [
    {
     "data": {
      "text/html": [
       "<div>\n",
       "<style scoped>\n",
       "    .dataframe tbody tr th:only-of-type {\n",
       "        vertical-align: middle;\n",
       "    }\n",
       "\n",
       "    .dataframe tbody tr th {\n",
       "        vertical-align: top;\n",
       "    }\n",
       "\n",
       "    .dataframe thead th {\n",
       "        text-align: right;\n",
       "    }\n",
       "</style>\n",
       "<table border=\"1\" class=\"dataframe\">\n",
       "  <thead>\n",
       "    <tr style=\"text-align: right;\">\n",
       "      <th></th>\n",
       "      <th>Country</th>\n",
       "      <th>Suicides / 100,000</th>\n",
       "    </tr>\n",
       "  </thead>\n",
       "  <tbody>\n",
       "  </tbody>\n",
       "</table>\n",
       "</div>"
      ],
      "text/plain": [
       "Empty DataFrame\n",
       "Columns: [Country, Suicides / 100,000]\n",
       "Index: []"
      ]
     },
     "execution_count": 86,
     "metadata": {},
     "output_type": "execute_result"
    }
   ],
   "source": [
    "df_dups.head()"
   ]
  },
  {
   "cell_type": "code",
   "execution_count": null,
   "id": "b6d22ffb",
   "metadata": {
    "ExecuteTime": {
     "end_time": "2022-09-24T23:54:50.548193Z",
     "start_time": "2022-09-24T23:54:49.394198Z"
    }
   },
   "outputs": [],
   "source": [
    "# check output\n",
    "newsuicide.head(20)"
   ]
  },
  {
   "cell_type": "markdown",
   "id": "3962c8cf",
   "metadata": {},
   "source": [
    "# Wrangle World Happiness Report 2019"
   ]
  },
  {
   "cell_type": "code",
   "execution_count": 88,
   "id": "003ac021",
   "metadata": {
    "ExecuteTime": {
     "end_time": "2022-09-22T03:18:57.725761Z",
     "start_time": "2022-09-22T03:18:57.690443Z"
    }
   },
   "outputs": [
    {
     "data": {
      "text/html": [
       "<div>\n",
       "<style scoped>\n",
       "    .dataframe tbody tr th:only-of-type {\n",
       "        vertical-align: middle;\n",
       "    }\n",
       "\n",
       "    .dataframe tbody tr th {\n",
       "        vertical-align: top;\n",
       "    }\n",
       "\n",
       "    .dataframe thead th {\n",
       "        text-align: right;\n",
       "    }\n",
       "</style>\n",
       "<table border=\"1\" class=\"dataframe\">\n",
       "  <thead>\n",
       "    <tr style=\"text-align: right;\">\n",
       "      <th></th>\n",
       "      <th>Unnamed: 0</th>\n",
       "      <th>Rank</th>\n",
       "      <th>Country</th>\n",
       "      <th>Score</th>\n",
       "      <th>Economy</th>\n",
       "      <th>Social Support</th>\n",
       "      <th>Life Expectancy</th>\n",
       "      <th>Freedom</th>\n",
       "      <th>Generosity</th>\n",
       "      <th>Government Trust</th>\n",
       "      <th>Year</th>\n",
       "    </tr>\n",
       "  </thead>\n",
       "  <tbody>\n",
       "    <tr>\n",
       "      <th>0</th>\n",
       "      <td>0</td>\n",
       "      <td>1</td>\n",
       "      <td>Finland</td>\n",
       "      <td>7.769</td>\n",
       "      <td>1.340</td>\n",
       "      <td>1.587</td>\n",
       "      <td>0.986</td>\n",
       "      <td>0.596</td>\n",
       "      <td>0.153</td>\n",
       "      <td>0.393</td>\n",
       "      <td>2019</td>\n",
       "    </tr>\n",
       "    <tr>\n",
       "      <th>1</th>\n",
       "      <td>1</td>\n",
       "      <td>2</td>\n",
       "      <td>Denmark</td>\n",
       "      <td>7.600</td>\n",
       "      <td>1.383</td>\n",
       "      <td>1.573</td>\n",
       "      <td>0.996</td>\n",
       "      <td>0.592</td>\n",
       "      <td>0.252</td>\n",
       "      <td>0.410</td>\n",
       "      <td>2019</td>\n",
       "    </tr>\n",
       "    <tr>\n",
       "      <th>2</th>\n",
       "      <td>2</td>\n",
       "      <td>3</td>\n",
       "      <td>Norway</td>\n",
       "      <td>7.554</td>\n",
       "      <td>1.488</td>\n",
       "      <td>1.582</td>\n",
       "      <td>1.028</td>\n",
       "      <td>0.603</td>\n",
       "      <td>0.271</td>\n",
       "      <td>0.341</td>\n",
       "      <td>2019</td>\n",
       "    </tr>\n",
       "    <tr>\n",
       "      <th>3</th>\n",
       "      <td>3</td>\n",
       "      <td>4</td>\n",
       "      <td>Iceland</td>\n",
       "      <td>7.494</td>\n",
       "      <td>1.380</td>\n",
       "      <td>1.624</td>\n",
       "      <td>1.026</td>\n",
       "      <td>0.591</td>\n",
       "      <td>0.354</td>\n",
       "      <td>0.118</td>\n",
       "      <td>2019</td>\n",
       "    </tr>\n",
       "    <tr>\n",
       "      <th>4</th>\n",
       "      <td>4</td>\n",
       "      <td>5</td>\n",
       "      <td>Netherlands</td>\n",
       "      <td>7.488</td>\n",
       "      <td>1.396</td>\n",
       "      <td>1.522</td>\n",
       "      <td>0.999</td>\n",
       "      <td>0.557</td>\n",
       "      <td>0.322</td>\n",
       "      <td>0.298</td>\n",
       "      <td>2019</td>\n",
       "    </tr>\n",
       "  </tbody>\n",
       "</table>\n",
       "</div>"
      ],
      "text/plain": [
       "   Unnamed: 0  Rank      Country  Score  Economy  Social Support  \\\n",
       "0           0     1      Finland  7.769    1.340           1.587   \n",
       "1           1     2      Denmark  7.600    1.383           1.573   \n",
       "2           2     3       Norway  7.554    1.488           1.582   \n",
       "3           3     4      Iceland  7.494    1.380           1.624   \n",
       "4           4     5  Netherlands  7.488    1.396           1.522   \n",
       "\n",
       "   Life Expectancy  Freedom  Generosity  Government Trust  Year  \n",
       "0            0.986    0.596       0.153             0.393  2019  \n",
       "1            0.996    0.592       0.252             0.410  2019  \n",
       "2            1.028    0.603       0.271             0.341  2019  \n",
       "3            1.026    0.591       0.354             0.118  2019  \n",
       "4            0.999    0.557       0.322             0.298  2019  "
      ]
     },
     "execution_count": 88,
     "metadata": {},
     "output_type": "execute_result"
    }
   ],
   "source": [
    "# check output\n",
    "happy.head()"
   ]
  },
  {
   "cell_type": "code",
   "execution_count": 89,
   "id": "3fa01fa9",
   "metadata": {
    "ExecuteTime": {
     "end_time": "2022-09-22T03:19:00.598419Z",
     "start_time": "2022-09-22T03:19:00.559759Z"
    }
   },
   "outputs": [],
   "source": [
    "# create subset\n",
    "happy2 = happy[['Rank','Country','Score']]"
   ]
  },
  {
   "cell_type": "code",
   "execution_count": 90,
   "id": "4d289bfe",
   "metadata": {
    "ExecuteTime": {
     "end_time": "2022-09-22T03:19:01.485191Z",
     "start_time": "2022-09-22T03:19:01.464286Z"
    }
   },
   "outputs": [
    {
     "data": {
      "text/html": [
       "<div>\n",
       "<style scoped>\n",
       "    .dataframe tbody tr th:only-of-type {\n",
       "        vertical-align: middle;\n",
       "    }\n",
       "\n",
       "    .dataframe tbody tr th {\n",
       "        vertical-align: top;\n",
       "    }\n",
       "\n",
       "    .dataframe thead th {\n",
       "        text-align: right;\n",
       "    }\n",
       "</style>\n",
       "<table border=\"1\" class=\"dataframe\">\n",
       "  <thead>\n",
       "    <tr style=\"text-align: right;\">\n",
       "      <th></th>\n",
       "      <th>Rank</th>\n",
       "      <th>Country</th>\n",
       "      <th>Score</th>\n",
       "    </tr>\n",
       "  </thead>\n",
       "  <tbody>\n",
       "    <tr>\n",
       "      <th>0</th>\n",
       "      <td>1</td>\n",
       "      <td>Finland</td>\n",
       "      <td>7.769</td>\n",
       "    </tr>\n",
       "    <tr>\n",
       "      <th>1</th>\n",
       "      <td>2</td>\n",
       "      <td>Denmark</td>\n",
       "      <td>7.600</td>\n",
       "    </tr>\n",
       "    <tr>\n",
       "      <th>2</th>\n",
       "      <td>3</td>\n",
       "      <td>Norway</td>\n",
       "      <td>7.554</td>\n",
       "    </tr>\n",
       "    <tr>\n",
       "      <th>3</th>\n",
       "      <td>4</td>\n",
       "      <td>Iceland</td>\n",
       "      <td>7.494</td>\n",
       "    </tr>\n",
       "    <tr>\n",
       "      <th>4</th>\n",
       "      <td>5</td>\n",
       "      <td>Netherlands</td>\n",
       "      <td>7.488</td>\n",
       "    </tr>\n",
       "    <tr>\n",
       "      <th>5</th>\n",
       "      <td>6</td>\n",
       "      <td>Switzerland</td>\n",
       "      <td>7.480</td>\n",
       "    </tr>\n",
       "    <tr>\n",
       "      <th>6</th>\n",
       "      <td>7</td>\n",
       "      <td>Sweden</td>\n",
       "      <td>7.343</td>\n",
       "    </tr>\n",
       "    <tr>\n",
       "      <th>7</th>\n",
       "      <td>8</td>\n",
       "      <td>New Zealand</td>\n",
       "      <td>7.307</td>\n",
       "    </tr>\n",
       "    <tr>\n",
       "      <th>8</th>\n",
       "      <td>9</td>\n",
       "      <td>Canada</td>\n",
       "      <td>7.278</td>\n",
       "    </tr>\n",
       "    <tr>\n",
       "      <th>9</th>\n",
       "      <td>10</td>\n",
       "      <td>Austria</td>\n",
       "      <td>7.246</td>\n",
       "    </tr>\n",
       "    <tr>\n",
       "      <th>10</th>\n",
       "      <td>11</td>\n",
       "      <td>Australia</td>\n",
       "      <td>7.228</td>\n",
       "    </tr>\n",
       "    <tr>\n",
       "      <th>11</th>\n",
       "      <td>12</td>\n",
       "      <td>Costa Rica</td>\n",
       "      <td>7.167</td>\n",
       "    </tr>\n",
       "    <tr>\n",
       "      <th>12</th>\n",
       "      <td>13</td>\n",
       "      <td>Israel</td>\n",
       "      <td>7.139</td>\n",
       "    </tr>\n",
       "    <tr>\n",
       "      <th>13</th>\n",
       "      <td>14</td>\n",
       "      <td>Luxembourg</td>\n",
       "      <td>7.090</td>\n",
       "    </tr>\n",
       "    <tr>\n",
       "      <th>14</th>\n",
       "      <td>15</td>\n",
       "      <td>United Kingdom</td>\n",
       "      <td>7.054</td>\n",
       "    </tr>\n",
       "    <tr>\n",
       "      <th>15</th>\n",
       "      <td>16</td>\n",
       "      <td>Ireland</td>\n",
       "      <td>7.021</td>\n",
       "    </tr>\n",
       "    <tr>\n",
       "      <th>16</th>\n",
       "      <td>17</td>\n",
       "      <td>Germany</td>\n",
       "      <td>6.985</td>\n",
       "    </tr>\n",
       "    <tr>\n",
       "      <th>17</th>\n",
       "      <td>18</td>\n",
       "      <td>Belgium</td>\n",
       "      <td>6.923</td>\n",
       "    </tr>\n",
       "    <tr>\n",
       "      <th>18</th>\n",
       "      <td>19</td>\n",
       "      <td>United States</td>\n",
       "      <td>6.892</td>\n",
       "    </tr>\n",
       "    <tr>\n",
       "      <th>19</th>\n",
       "      <td>20</td>\n",
       "      <td>Czech Republic</td>\n",
       "      <td>6.852</td>\n",
       "    </tr>\n",
       "  </tbody>\n",
       "</table>\n",
       "</div>"
      ],
      "text/plain": [
       "    Rank         Country  Score\n",
       "0      1         Finland  7.769\n",
       "1      2         Denmark  7.600\n",
       "2      3          Norway  7.554\n",
       "3      4         Iceland  7.494\n",
       "4      5     Netherlands  7.488\n",
       "5      6     Switzerland  7.480\n",
       "6      7          Sweden  7.343\n",
       "7      8     New Zealand  7.307\n",
       "8      9          Canada  7.278\n",
       "9     10         Austria  7.246\n",
       "10    11       Australia  7.228\n",
       "11    12      Costa Rica  7.167\n",
       "12    13          Israel  7.139\n",
       "13    14      Luxembourg  7.090\n",
       "14    15  United Kingdom  7.054\n",
       "15    16         Ireland  7.021\n",
       "16    17         Germany  6.985\n",
       "17    18         Belgium  6.923\n",
       "18    19   United States  6.892\n",
       "19    20  Czech Republic  6.852"
      ]
     },
     "execution_count": 90,
     "metadata": {},
     "output_type": "execute_result"
    }
   ],
   "source": [
    "# check subset\n",
    "happy2.head(20)"
   ]
  },
  {
   "cell_type": "markdown",
   "id": "2604fa33",
   "metadata": {},
   "source": [
    "# Merge Data Sets"
   ]
  },
  {
   "cell_type": "code",
   "execution_count": 91,
   "id": "266d46d0",
   "metadata": {
    "ExecuteTime": {
     "end_time": "2022-09-22T03:19:04.325943Z",
     "start_time": "2022-09-22T03:19:04.305118Z"
    }
   },
   "outputs": [],
   "source": [
    "# merge data\n",
    "df = happy2.merge(newsuicide, on =  'Country', how = 'left')"
   ]
  },
  {
   "cell_type": "code",
   "execution_count": 92,
   "id": "6b41865e",
   "metadata": {
    "ExecuteTime": {
     "end_time": "2022-09-22T03:19:05.183190Z",
     "start_time": "2022-09-22T03:19:05.153480Z"
    }
   },
   "outputs": [
    {
     "data": {
      "text/html": [
       "<div>\n",
       "<style scoped>\n",
       "    .dataframe tbody tr th:only-of-type {\n",
       "        vertical-align: middle;\n",
       "    }\n",
       "\n",
       "    .dataframe tbody tr th {\n",
       "        vertical-align: top;\n",
       "    }\n",
       "\n",
       "    .dataframe thead th {\n",
       "        text-align: right;\n",
       "    }\n",
       "</style>\n",
       "<table border=\"1\" class=\"dataframe\">\n",
       "  <thead>\n",
       "    <tr style=\"text-align: right;\">\n",
       "      <th></th>\n",
       "      <th>Rank</th>\n",
       "      <th>Country</th>\n",
       "      <th>Score</th>\n",
       "      <th>Suicides / 100,000</th>\n",
       "    </tr>\n",
       "  </thead>\n",
       "  <tbody>\n",
       "    <tr>\n",
       "      <th>0</th>\n",
       "      <td>1</td>\n",
       "      <td>Finland</td>\n",
       "      <td>7.769</td>\n",
       "      <td>13.4</td>\n",
       "    </tr>\n",
       "    <tr>\n",
       "      <th>1</th>\n",
       "      <td>2</td>\n",
       "      <td>Denmark</td>\n",
       "      <td>7.600</td>\n",
       "      <td>7.6</td>\n",
       "    </tr>\n",
       "    <tr>\n",
       "      <th>2</th>\n",
       "      <td>3</td>\n",
       "      <td>Norway</td>\n",
       "      <td>7.554</td>\n",
       "      <td>11.8</td>\n",
       "    </tr>\n",
       "    <tr>\n",
       "      <th>3</th>\n",
       "      <td>4</td>\n",
       "      <td>Iceland</td>\n",
       "      <td>7.494</td>\n",
       "      <td>11.2</td>\n",
       "    </tr>\n",
       "    <tr>\n",
       "      <th>4</th>\n",
       "      <td>5</td>\n",
       "      <td>Netherlands</td>\n",
       "      <td>7.488</td>\n",
       "      <td>9.3</td>\n",
       "    </tr>\n",
       "    <tr>\n",
       "      <th>5</th>\n",
       "      <td>6</td>\n",
       "      <td>Switzerland</td>\n",
       "      <td>7.480</td>\n",
       "      <td>9.8</td>\n",
       "    </tr>\n",
       "    <tr>\n",
       "      <th>6</th>\n",
       "      <td>7</td>\n",
       "      <td>Sweden</td>\n",
       "      <td>7.343</td>\n",
       "      <td>12.4</td>\n",
       "    </tr>\n",
       "    <tr>\n",
       "      <th>7</th>\n",
       "      <td>8</td>\n",
       "      <td>New Zealand</td>\n",
       "      <td>7.307</td>\n",
       "      <td>10.3</td>\n",
       "    </tr>\n",
       "    <tr>\n",
       "      <th>8</th>\n",
       "      <td>9</td>\n",
       "      <td>Canada</td>\n",
       "      <td>7.278</td>\n",
       "      <td>10.3</td>\n",
       "    </tr>\n",
       "    <tr>\n",
       "      <th>9</th>\n",
       "      <td>10</td>\n",
       "      <td>Austria</td>\n",
       "      <td>7.246</td>\n",
       "      <td>10.4</td>\n",
       "    </tr>\n",
       "    <tr>\n",
       "      <th>10</th>\n",
       "      <td>11</td>\n",
       "      <td>Australia</td>\n",
       "      <td>7.228</td>\n",
       "      <td>11.3</td>\n",
       "    </tr>\n",
       "    <tr>\n",
       "      <th>11</th>\n",
       "      <td>12</td>\n",
       "      <td>Costa Rica</td>\n",
       "      <td>7.167</td>\n",
       "      <td>7.6</td>\n",
       "    </tr>\n",
       "    <tr>\n",
       "      <th>12</th>\n",
       "      <td>13</td>\n",
       "      <td>Israel</td>\n",
       "      <td>7.139</td>\n",
       "      <td>5.2</td>\n",
       "    </tr>\n",
       "    <tr>\n",
       "      <th>13</th>\n",
       "      <td>14</td>\n",
       "      <td>Luxembourg</td>\n",
       "      <td>7.090</td>\n",
       "      <td>8.6</td>\n",
       "    </tr>\n",
       "    <tr>\n",
       "      <th>14</th>\n",
       "      <td>15</td>\n",
       "      <td>United Kingdom</td>\n",
       "      <td>7.054</td>\n",
       "      <td>6.9</td>\n",
       "    </tr>\n",
       "    <tr>\n",
       "      <th>15</th>\n",
       "      <td>16</td>\n",
       "      <td>Ireland</td>\n",
       "      <td>7.021</td>\n",
       "      <td>8.9</td>\n",
       "    </tr>\n",
       "    <tr>\n",
       "      <th>16</th>\n",
       "      <td>17</td>\n",
       "      <td>Germany</td>\n",
       "      <td>6.985</td>\n",
       "      <td>8.3</td>\n",
       "    </tr>\n",
       "    <tr>\n",
       "      <th>17</th>\n",
       "      <td>18</td>\n",
       "      <td>Belgium</td>\n",
       "      <td>6.923</td>\n",
       "      <td>13.9</td>\n",
       "    </tr>\n",
       "    <tr>\n",
       "      <th>18</th>\n",
       "      <td>19</td>\n",
       "      <td>United States</td>\n",
       "      <td>6.892</td>\n",
       "      <td>14.5</td>\n",
       "    </tr>\n",
       "    <tr>\n",
       "      <th>19</th>\n",
       "      <td>20</td>\n",
       "      <td>Czech Republic</td>\n",
       "      <td>6.852</td>\n",
       "      <td>9.5</td>\n",
       "    </tr>\n",
       "  </tbody>\n",
       "</table>\n",
       "</div>"
      ],
      "text/plain": [
       "    Rank         Country  Score  Suicides / 100,000\n",
       "0      1         Finland  7.769                13.4\n",
       "1      2         Denmark  7.600                 7.6\n",
       "2      3          Norway  7.554                11.8\n",
       "3      4         Iceland  7.494                11.2\n",
       "4      5     Netherlands  7.488                 9.3\n",
       "5      6     Switzerland  7.480                 9.8\n",
       "6      7          Sweden  7.343                12.4\n",
       "7      8     New Zealand  7.307                10.3\n",
       "8      9          Canada  7.278                10.3\n",
       "9     10         Austria  7.246                10.4\n",
       "10    11       Australia  7.228                11.3\n",
       "11    12      Costa Rica  7.167                 7.6\n",
       "12    13          Israel  7.139                 5.2\n",
       "13    14      Luxembourg  7.090                 8.6\n",
       "14    15  United Kingdom  7.054                 6.9\n",
       "15    16         Ireland  7.021                 8.9\n",
       "16    17         Germany  6.985                 8.3\n",
       "17    18         Belgium  6.923                13.9\n",
       "18    19   United States  6.892                14.5\n",
       "19    20  Czech Republic  6.852                 9.5"
      ]
     },
     "execution_count": 92,
     "metadata": {},
     "output_type": "execute_result"
    }
   ],
   "source": [
    "# check merge\n",
    "df.head(20)"
   ]
  },
  {
   "cell_type": "code",
   "execution_count": 93,
   "id": "73f911a2",
   "metadata": {
    "ExecuteTime": {
     "end_time": "2022-09-22T03:19:08.736766Z",
     "start_time": "2022-09-22T03:19:08.709629Z"
    }
   },
   "outputs": [
    {
     "data": {
      "text/plain": [
       "Rank                  0\n",
       "Country               0\n",
       "Score                 0\n",
       "Suicides / 100,000    9\n",
       "dtype: int64"
      ]
     },
     "execution_count": 93,
     "metadata": {},
     "output_type": "execute_result"
    }
   ],
   "source": [
    "# check for nulls\n",
    "df.isnull().sum()"
   ]
  },
  {
   "cell_type": "code",
   "execution_count": 96,
   "id": "f33184e4",
   "metadata": {
    "ExecuteTime": {
     "end_time": "2022-09-22T03:24:16.150089Z",
     "start_time": "2022-09-22T03:24:16.130950Z"
    }
   },
   "outputs": [
    {
     "data": {
      "text/plain": [
       "Rank                    int64\n",
       "Country                object\n",
       "Score                 float64\n",
       "Suicides / 100,000    float64\n",
       "dtype: object"
      ]
     },
     "execution_count": 96,
     "metadata": {},
     "output_type": "execute_result"
    }
   ],
   "source": [
    "# check dtypes for matrix\n",
    "df.dtypes"
   ]
  },
  {
   "cell_type": "markdown",
   "id": "926a4f58",
   "metadata": {},
   "source": [
    "# Correlation Matrix"
   ]
  },
  {
   "cell_type": "code",
   "execution_count": 101,
   "id": "cbeb5e4e",
   "metadata": {
    "ExecuteTime": {
     "end_time": "2022-09-22T03:28:31.680278Z",
     "start_time": "2022-09-22T03:28:31.662427Z"
    }
   },
   "outputs": [],
   "source": [
    "# fill in nulls\n",
    "df.fillna(0, inplace = True)"
   ]
  },
  {
   "cell_type": "code",
   "execution_count": 102,
   "id": "a5bd5764",
   "metadata": {
    "ExecuteTime": {
     "end_time": "2022-09-22T03:29:09.575083Z",
     "start_time": "2022-09-22T03:29:09.559162Z"
    }
   },
   "outputs": [],
   "source": [
    "# create subplot\n",
    "df2 = df[['Rank','Score','Suicides / 100,000']]"
   ]
  },
  {
   "cell_type": "code",
   "execution_count": 103,
   "id": "503ed691",
   "metadata": {
    "ExecuteTime": {
     "end_time": "2022-09-22T03:29:21.567037Z",
     "start_time": "2022-09-22T03:29:21.526763Z"
    }
   },
   "outputs": [
    {
     "data": {
      "text/html": [
       "<div>\n",
       "<style scoped>\n",
       "    .dataframe tbody tr th:only-of-type {\n",
       "        vertical-align: middle;\n",
       "    }\n",
       "\n",
       "    .dataframe tbody tr th {\n",
       "        vertical-align: top;\n",
       "    }\n",
       "\n",
       "    .dataframe thead th {\n",
       "        text-align: right;\n",
       "    }\n",
       "</style>\n",
       "<table border=\"1\" class=\"dataframe\">\n",
       "  <thead>\n",
       "    <tr style=\"text-align: right;\">\n",
       "      <th></th>\n",
       "      <th>Rank</th>\n",
       "      <th>Score</th>\n",
       "      <th>Suicides / 100,000</th>\n",
       "    </tr>\n",
       "  </thead>\n",
       "  <tbody>\n",
       "    <tr>\n",
       "      <th>Rank</th>\n",
       "      <td>1.000000</td>\n",
       "      <td>-0.989096</td>\n",
       "      <td>0.145331</td>\n",
       "    </tr>\n",
       "    <tr>\n",
       "      <th>Score</th>\n",
       "      <td>-0.989096</td>\n",
       "      <td>1.000000</td>\n",
       "      <td>-0.140314</td>\n",
       "    </tr>\n",
       "    <tr>\n",
       "      <th>Suicides / 100,000</th>\n",
       "      <td>0.145331</td>\n",
       "      <td>-0.140314</td>\n",
       "      <td>1.000000</td>\n",
       "    </tr>\n",
       "  </tbody>\n",
       "</table>\n",
       "</div>"
      ],
      "text/plain": [
       "                        Rank     Score  Suicides / 100,000\n",
       "Rank                1.000000 -0.989096            0.145331\n",
       "Score              -0.989096  1.000000           -0.140314\n",
       "Suicides / 100,000  0.145331 -0.140314            1.000000"
      ]
     },
     "execution_count": 103,
     "metadata": {},
     "output_type": "execute_result"
    }
   ],
   "source": [
    "# correlation one\n",
    "df2.corr()"
   ]
  },
  {
   "cell_type": "code",
   "execution_count": 105,
   "id": "72b15585",
   "metadata": {
    "ExecuteTime": {
     "end_time": "2022-09-22T03:29:52.604929Z",
     "start_time": "2022-09-22T03:29:52.382096Z"
    }
   },
   "outputs": [
    {
     "data": {
      "image/png": "[encoded data removed]",
      "text/plain": [
       "<Figure size 288x288 with 1 Axes>"
      ]
     },
     "metadata": {
      "needs_background": "light"
     },
     "output_type": "display_data"
    }
   ],
   "source": [
    "# correlation 2\n",
    "plt.matshow(df2.corr())\n",
    "plt.show()"
   ]
  },
  {
   "cell_type": "code",
   "execution_count": 107,
   "id": "f4ec8ec4",
   "metadata": {
    "ExecuteTime": {
     "end_time": "2022-09-22T03:30:37.248776Z",
     "start_time": "2022-09-22T03:30:36.847784Z"
    }
   },
   "outputs": [
    {
     "data": {
      "text/plain": [
       "Text(0.5, 1.0, 'Correlation Matrix')"
      ]
     },
     "execution_count": 107,
     "metadata": {},
     "output_type": "execute_result"
    },
    {
     "data": {
      "image/png": "[encoded data removed]",
      "text/plain": [
       "<Figure size 576x576 with 2 Axes>"
      ]
     },
     "metadata": {
      "needs_background": "light"
     },
     "output_type": "display_data"
    }
   ],
   "source": [
    "# correlation 3\n",
    "f = plt.figure(figsize=(8, 8)) # figure size \n",
    "plt.matshow(df2.corr(), fignum=f.number) # type of plot\n",
    "plt.xticks(range(df2.shape[1]), df2.columns, fontsize=14, rotation=45) # x axis labels\n",
    "plt.yticks(range(df2.shape[1]), df2.columns, fontsize=14) # y axis labels\n",
    "cb = plt.colorbar() # add a colour legend (called colorbar)\n",
    "cb.ax.tick_params(labelsize=14) # add font size\n",
    "plt.title('Correlation Matrix', fontsize=14) # add title"
   ]
  },
  {
   "cell_type": "code",
   "execution_count": 108,
   "id": "81540e15",
   "metadata": {
    "ExecuteTime": {
     "end_time": "2022-09-22T03:31:02.538861Z",
     "start_time": "2022-09-22T03:31:02.171941Z"
    }
   },
   "outputs": [
    {
     "data": {
      "image/png": "[encoded data removed]",
      "text/plain": [
       "<Figure size 720x720 with 2 Axes>"
      ]
     },
     "metadata": {
      "needs_background": "light"
     },
     "output_type": "display_data"
    }
   ],
   "source": [
    "# Create a subplot with matplotlib\n",
    "f,ax = plt.subplots(figsize=(10,10))\n",
    "\n",
    "# Create the correlation heatmap in seaborn by applying a heatmap onto the correlation matrix and the subplots defined above.\n",
    "corr = sns.heatmap(df.corr(), annot = True, ax = ax) # The `annot` argument allows the plot to \n",
    "#place the correlation coefficients onto the heatmap."
   ]
  },
  {
   "cell_type": "markdown",
   "id": "32ed5726",
   "metadata": {},
   "source": [
    "# Visualizations"
   ]
  },
  {
   "cell_type": "code",
   "execution_count": 98,
   "id": "27173f08",
   "metadata": {
    "ExecuteTime": {
     "end_time": "2022-09-22T03:25:37.541963Z",
     "start_time": "2022-09-22T03:25:36.712106Z"
    }
   },
   "outputs": [
    {
     "data": {
      "image/png": "[encoded data removed]",
      "text/plain": [
       "<Figure size 432x288 with 1 Axes>"
      ]
     },
     "metadata": {
      "needs_background": "light"
     },
     "output_type": "display_data"
    }
   ],
   "source": [
    "# histogram\n",
    "hist = df['Suicides / 100,000'].plot.hist(bins = 23)"
   ]
  },
  {
   "cell_type": "code",
   "execution_count": 99,
   "id": "7e2a6cfa",
   "metadata": {
    "ExecuteTime": {
     "end_time": "2022-09-22T03:26:44.122852Z",
     "start_time": "2022-09-22T03:26:42.448177Z"
    }
   },
   "outputs": [
    {
     "data": {
      "image/png": "[encoded data removed]",
      "text/plain": [
       "<Figure size 432x288 with 1 Axes>"
      ]
     },
     "metadata": {
      "needs_background": "light"
     },
     "output_type": "display_data"
    }
   ],
   "source": [
    "# line plot\n",
    "line = sns.lineplot(data = df, x = 'Suicides / 100,000',y = 'Score')"
   ]
  },
  {
   "cell_type": "code",
   "execution_count": 97,
   "id": "241abc59",
   "metadata": {
    "ExecuteTime": {
     "end_time": "2022-09-22T03:24:55.812543Z",
     "start_time": "2022-09-22T03:24:55.794070Z"
    }
   },
   "outputs": [],
   "source": [
    "# export data\n",
    "df.to_csv(os.path.join(path, '02 Data','Prepared Data','suicidewhr.csv'))"
   ]
  }
 ],
 "metadata": {
  "kernelspec": {
   "display_name": "Python 3 (ipykernel)",
   "language": "python",
   "name": "python3"
  },
  "language_info": {
   "codemirror_mode": {
    "name": "ipython",
    "version": 3
   },
   "file_extension": ".py",
   "mimetype": "text/x-python",
   "name": "python",
   "nbconvert_exporter": "python",
   "pygments_lexer": "ipython3",
   "version": "3.9.12"
  },
  "toc": {
   "base_numbering": 1,
   "nav_menu": {},
   "number_sections": true,
   "sideBar": true,
   "skip_h1_title": false,
   "title_cell": "Table of Contents",
   "title_sidebar": "Contents",
   "toc_cell": false,
   "toc_position": {},
   "toc_section_display": true,
   "toc_window_display": false
  }
 },
 "nbformat": 4,
 "nbformat_minor": 5
}
