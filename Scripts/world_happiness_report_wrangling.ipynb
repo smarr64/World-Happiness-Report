{
 "cells": [
  {
   "cell_type": "markdown",
   "id": "847c96d5",
   "metadata": {
    "heading_collapsed": true
   },
   "source": [
    "# Table of Contents"
   ]
  },
  {
   "cell_type": "markdown",
   "id": "69d5d059",
   "metadata": {
    "heading_collapsed": true,
    "hidden": true
   },
   "source": [
    "## Import Libraries and Data\n",
    "## Refort Columns\n",
    "## Derive New Column for Year\n",
    "## Merge Year Data Sets\n",
    "## Clean Data\n",
    "## Explore Data\n",
    "## Export Data"
   ]
  },
  {
   "cell_type": "markdown",
   "id": "99554cb1",
   "metadata": {},
   "source": [
    "# Import Libraries and Data"
   ]
  },
  {
   "cell_type": "code",
   "execution_count": 1,
   "id": "12808fad",
   "metadata": {
    "ExecuteTime": {
     "end_time": "2022-08-17T04:20:09.865402Z",
     "start_time": "2022-08-17T04:20:04.518182Z"
    }
   },
   "outputs": [],
   "source": [
    "# import libraries\n",
    "import pandas as pd\n",
    "import numpy as np\n",
    "import os\n",
    "import scipy \n",
    "import seaborn as sns\n",
    "import matplotlib.pyplot as mlp"
   ]
  },
  {
   "cell_type": "code",
   "execution_count": 2,
   "id": "34a7cc06",
   "metadata": {
    "ExecuteTime": {
     "end_time": "2022-08-17T04:20:09.881105Z",
     "start_time": "2022-08-17T04:20:09.865402Z"
    }
   },
   "outputs": [],
   "source": [
    "# create path\n",
    "path = r'C:\\Users\\18602\\Documents\\Data Analytics\\Data Immersion\\Month 6\\A6 Project'"
   ]
  },
  {
   "cell_type": "code",
   "execution_count": 3,
   "id": "4238e543",
   "metadata": {
    "ExecuteTime": {
     "end_time": "2022-08-17T04:20:09.916309Z",
     "start_time": "2022-08-17T04:20:09.883920Z"
    }
   },
   "outputs": [],
   "source": [
    "# import each year\n",
    "df15 = pd.read_csv(os.path.join(path, '02 Data', 'Original Data', '2015.csv'))"
   ]
  },
  {
   "cell_type": "code",
   "execution_count": 4,
   "id": "393e01d5",
   "metadata": {
    "ExecuteTime": {
     "end_time": "2022-08-17T04:20:09.940881Z",
     "start_time": "2022-08-17T04:20:09.921043Z"
    }
   },
   "outputs": [
    {
     "data": {
      "text/plain": [
       "(158, 12)"
      ]
     },
     "execution_count": 4,
     "metadata": {},
     "output_type": "execute_result"
    }
   ],
   "source": [
    "df15.shape"
   ]
  },
  {
   "cell_type": "code",
   "execution_count": 5,
   "id": "a08a4946",
   "metadata": {
    "ExecuteTime": {
     "end_time": "2022-08-17T04:20:09.977323Z",
     "start_time": "2022-08-17T04:20:09.944476Z"
    }
   },
   "outputs": [],
   "source": [
    "df16 = pd.read_csv(os.path.join(path, '02 Data', 'Original Data', '2016.csv'))"
   ]
  },
  {
   "cell_type": "code",
   "execution_count": 6,
   "id": "3c1fb861",
   "metadata": {
    "ExecuteTime": {
     "end_time": "2022-08-17T04:20:09.996530Z",
     "start_time": "2022-08-17T04:20:09.977323Z"
    }
   },
   "outputs": [
    {
     "data": {
      "text/plain": [
       "(157, 13)"
      ]
     },
     "execution_count": 6,
     "metadata": {},
     "output_type": "execute_result"
    }
   ],
   "source": [
    "df16.shape"
   ]
  },
  {
   "cell_type": "code",
   "execution_count": 7,
   "id": "1f429858",
   "metadata": {
    "ExecuteTime": {
     "end_time": "2022-08-17T04:20:10.027313Z",
     "start_time": "2022-08-17T04:20:09.996530Z"
    }
   },
   "outputs": [],
   "source": [
    "df17 = pd.read_csv(os.path.join(path, '02 Data', 'Original Data', '2017.csv'))"
   ]
  },
  {
   "cell_type": "code",
   "execution_count": 8,
   "id": "840618ea",
   "metadata": {
    "ExecuteTime": {
     "end_time": "2022-08-17T04:20:10.047530Z",
     "start_time": "2022-08-17T04:20:10.027313Z"
    }
   },
   "outputs": [
    {
     "data": {
      "text/plain": [
       "(155, 12)"
      ]
     },
     "execution_count": 8,
     "metadata": {},
     "output_type": "execute_result"
    }
   ],
   "source": [
    "df17.shape"
   ]
  },
  {
   "cell_type": "code",
   "execution_count": 9,
   "id": "46a9e9bc",
   "metadata": {
    "ExecuteTime": {
     "end_time": "2022-08-17T04:20:10.077364Z",
     "start_time": "2022-08-17T04:20:10.047664Z"
    }
   },
   "outputs": [],
   "source": [
    "df18 = pd.read_csv(os.path.join(path, '02 Data', 'Original Data', '2018.csv'))"
   ]
  },
  {
   "cell_type": "code",
   "execution_count": 10,
   "id": "2d9f8d94",
   "metadata": {
    "ExecuteTime": {
     "end_time": "2022-08-17T04:20:10.099400Z",
     "start_time": "2022-08-17T04:20:10.077364Z"
    }
   },
   "outputs": [
    {
     "data": {
      "text/plain": [
       "(156, 9)"
      ]
     },
     "execution_count": 10,
     "metadata": {},
     "output_type": "execute_result"
    }
   ],
   "source": [
    "df18.shape"
   ]
  },
  {
   "cell_type": "code",
   "execution_count": 11,
   "id": "e2188e9f",
   "metadata": {
    "ExecuteTime": {
     "end_time": "2022-08-17T04:20:10.132171Z",
     "start_time": "2022-08-17T04:20:10.103727Z"
    }
   },
   "outputs": [],
   "source": [
    "df19 = pd.read_csv(os.path.join(path, '02 Data', 'Original Data', '2019.csv'))"
   ]
  },
  {
   "cell_type": "code",
   "execution_count": 12,
   "id": "2ee6f45b",
   "metadata": {
    "ExecuteTime": {
     "end_time": "2022-08-17T04:20:10.149019Z",
     "start_time": "2022-08-17T04:20:10.136315Z"
    }
   },
   "outputs": [
    {
     "data": {
      "text/plain": [
       "(156, 9)"
      ]
     },
     "execution_count": 12,
     "metadata": {},
     "output_type": "execute_result"
    }
   ],
   "source": [
    "df19.shape"
   ]
  },
  {
   "cell_type": "code",
   "execution_count": 13,
   "id": "c879f4cd",
   "metadata": {
    "ExecuteTime": {
     "end_time": "2022-08-17T04:20:10.177753Z",
     "start_time": "2022-08-17T04:20:10.149019Z"
    }
   },
   "outputs": [],
   "source": [
    "df20 = pd.read_csv(os.path.join(path, '02 Data', 'Original Data', '2020.csv'))"
   ]
  },
  {
   "cell_type": "code",
   "execution_count": 14,
   "id": "29904cb1",
   "metadata": {
    "ExecuteTime": {
     "end_time": "2022-08-17T04:20:10.197584Z",
     "start_time": "2022-08-17T04:20:10.177753Z"
    }
   },
   "outputs": [
    {
     "data": {
      "text/plain": [
       "(153, 20)"
      ]
     },
     "execution_count": 14,
     "metadata": {},
     "output_type": "execute_result"
    }
   ],
   "source": [
    "df20.shape"
   ]
  },
  {
   "cell_type": "code",
   "execution_count": 15,
   "id": "f7c7074f",
   "metadata": {
    "ExecuteTime": {
     "end_time": "2022-08-17T04:20:10.227632Z",
     "start_time": "2022-08-17T04:20:10.197584Z"
    }
   },
   "outputs": [
    {
     "data": {
      "text/plain": [
       "Index(['Country name', 'Regional indicator', 'Ladder score',\n",
       "       'Standard error of ladder score', 'upperwhisker', 'lowerwhisker',\n",
       "       'Logged GDP per capita', 'Social support', 'Healthy life expectancy',\n",
       "       'Freedom to make life choices', 'Generosity',\n",
       "       'Perceptions of corruption', 'Ladder score in Dystopia',\n",
       "       'Explained by: Log GDP per capita', 'Explained by: Social support',\n",
       "       'Explained by: Healthy life expectancy',\n",
       "       'Explained by: Freedom to make life choices',\n",
       "       'Explained by: Generosity', 'Explained by: Perceptions of corruption',\n",
       "       'Dystopia + residual'],\n",
       "      dtype='object')"
      ]
     },
     "execution_count": 15,
     "metadata": {},
     "output_type": "execute_result"
    }
   ],
   "source": [
    "df20.columns"
   ]
  },
  {
   "cell_type": "code",
   "execution_count": 95,
   "id": "b9e1b772",
   "metadata": {
    "ExecuteTime": {
     "end_time": "2022-08-17T04:34:46.839734Z",
     "start_time": "2022-08-17T04:34:46.809202Z"
    }
   },
   "outputs": [],
   "source": [
    "df21 = pd.read_csv(os.path.join(path, '02 Data', 'Original Data', '2021.csv'))"
   ]
  },
  {
   "cell_type": "code",
   "execution_count": 97,
   "id": "8556b2ec",
   "metadata": {
    "ExecuteTime": {
     "end_time": "2022-08-17T04:35:05.110750Z",
     "start_time": "2022-08-17T04:35:05.091313Z"
    }
   },
   "outputs": [
    {
     "data": {
      "text/plain": [
       "(149, 20)"
      ]
     },
     "execution_count": 97,
     "metadata": {},
     "output_type": "execute_result"
    }
   ],
   "source": [
    "df21.shape"
   ]
  },
  {
   "cell_type": "code",
   "execution_count": 98,
   "id": "2e4a8a3f",
   "metadata": {
    "ExecuteTime": {
     "end_time": "2022-08-17T04:35:26.520764Z",
     "start_time": "2022-08-17T04:35:26.485515Z"
    }
   },
   "outputs": [],
   "source": [
    "df22 = pd.read_csv(os.path.join(path, '02 Data', 'Original Data', '2022.csv'))"
   ]
  },
  {
   "cell_type": "code",
   "execution_count": 100,
   "id": "4592f148",
   "metadata": {
    "ExecuteTime": {
     "end_time": "2022-08-17T04:35:41.599542Z",
     "start_time": "2022-08-17T04:35:41.579558Z"
    }
   },
   "outputs": [
    {
     "data": {
      "text/plain": [
       "Index(['RANK', 'Country', 'Happiness score', 'Whisker-high', 'Whisker-low',\n",
       "       'Dystopia (1.83) + residual', 'Explained by: GDP per capita',\n",
       "       'Explained by: Social support', 'Explained by: Healthy life expectancy',\n",
       "       'Explained by: Freedom to make life choices',\n",
       "       'Explained by: Generosity', 'Explained by: Perceptions of corruption'],\n",
       "      dtype='object')"
      ]
     },
     "execution_count": 100,
     "metadata": {},
     "output_type": "execute_result"
    }
   ],
   "source": [
    "df22.columns"
   ]
  },
  {
   "cell_type": "markdown",
   "id": "411e8ac1",
   "metadata": {},
   "source": [
    "# Reformat Columns"
   ]
  },
  {
   "cell_type": "code",
   "execution_count": 18,
   "id": "0a584d6c",
   "metadata": {
    "ExecuteTime": {
     "end_time": "2022-08-17T04:20:16.401659Z",
     "start_time": "2022-08-17T04:20:16.382627Z"
    }
   },
   "outputs": [
    {
     "data": {
      "text/plain": [
       "Index(['Country', 'Region', 'Happiness Rank', 'Happiness Score',\n",
       "       'Standard Error', 'Economy (GDP per Capita)', 'Family',\n",
       "       'Health (Life Expectancy)', 'Freedom', 'Trust (Government Corruption)',\n",
       "       'Generosity', 'Dystopia Residual'],\n",
       "      dtype='object')"
      ]
     },
     "execution_count": 18,
     "metadata": {},
     "output_type": "execute_result"
    }
   ],
   "source": [
    "#look at 2015 columns\n",
    "df15.columns"
   ]
  },
  {
   "cell_type": "code",
   "execution_count": 19,
   "id": "a04f84a6",
   "metadata": {
    "ExecuteTime": {
     "end_time": "2022-08-17T04:20:16.649387Z",
     "start_time": "2022-08-17T04:20:16.633865Z"
    }
   },
   "outputs": [],
   "source": [
    "# delete columns that are not in 2018 and 2019\n",
    "df15 = df15.drop(columns = ['Standard Error', 'Dystopia Residual', 'Region'])"
   ]
  },
  {
   "cell_type": "code",
   "execution_count": 20,
   "id": "a5458d3d",
   "metadata": {
    "ExecuteTime": {
     "end_time": "2022-08-17T04:20:16.885435Z",
     "start_time": "2022-08-17T04:20:16.869236Z"
    }
   },
   "outputs": [],
   "source": [
    "# rename columns for ease and consistency\n",
    "df15.rename(columns = {'Happiness Rank' : 'Rank', 'Happiness Score': 'Score','Economy (GDP per Capita)':'Economy', 'Family':'Social Support', 'Health (Life Expectancy)':'Life Expectancy','Trust (Government Corruption)':'Government Trust'}, inplace = True)"
   ]
  },
  {
   "cell_type": "code",
   "execution_count": 21,
   "id": "5d75a9de",
   "metadata": {
    "ExecuteTime": {
     "end_time": "2022-08-17T04:20:17.137253Z",
     "start_time": "2022-08-17T04:20:17.122603Z"
    }
   },
   "outputs": [
    {
     "data": {
      "text/plain": [
       "Index(['Country', 'Rank', 'Score', 'Economy', 'Social Support',\n",
       "       'Life Expectancy', 'Freedom', 'Government Trust', 'Generosity'],\n",
       "      dtype='object')"
      ]
     },
     "execution_count": 21,
     "metadata": {},
     "output_type": "execute_result"
    }
   ],
   "source": [
    "# check rename\n",
    "df15.columns"
   ]
  },
  {
   "cell_type": "code",
   "execution_count": 22,
   "id": "d84ae8b7",
   "metadata": {
    "ExecuteTime": {
     "end_time": "2022-08-17T04:20:17.328768Z",
     "start_time": "2022-08-17T04:20:17.310116Z"
    }
   },
   "outputs": [],
   "source": [
    "# reorder columns for append\n",
    "df15 = df15[['Rank','Country','Score','Economy','Social Support','Life Expectancy','Freedom','Government Trust','Generosity']]"
   ]
  },
  {
   "cell_type": "code",
   "execution_count": 23,
   "id": "5464ab47",
   "metadata": {
    "ExecuteTime": {
     "end_time": "2022-08-17T04:20:17.562293Z",
     "start_time": "2022-08-17T04:20:17.518119Z"
    }
   },
   "outputs": [
    {
     "data": {
      "text/html": [
       "<div>\n",
       "<style scoped>\n",
       "    .dataframe tbody tr th:only-of-type {\n",
       "        vertical-align: middle;\n",
       "    }\n",
       "\n",
       "    .dataframe tbody tr th {\n",
       "        vertical-align: top;\n",
       "    }\n",
       "\n",
       "    .dataframe thead th {\n",
       "        text-align: right;\n",
       "    }\n",
       "</style>\n",
       "<table border=\"1\" class=\"dataframe\">\n",
       "  <thead>\n",
       "    <tr style=\"text-align: right;\">\n",
       "      <th></th>\n",
       "      <th>Rank</th>\n",
       "      <th>Country</th>\n",
       "      <th>Score</th>\n",
       "      <th>Economy</th>\n",
       "      <th>Social Support</th>\n",
       "      <th>Life Expectancy</th>\n",
       "      <th>Freedom</th>\n",
       "      <th>Government Trust</th>\n",
       "      <th>Generosity</th>\n",
       "    </tr>\n",
       "  </thead>\n",
       "  <tbody>\n",
       "    <tr>\n",
       "      <th>0</th>\n",
       "      <td>1</td>\n",
       "      <td>Switzerland</td>\n",
       "      <td>7.587</td>\n",
       "      <td>1.39651</td>\n",
       "      <td>1.34951</td>\n",
       "      <td>0.94143</td>\n",
       "      <td>0.66557</td>\n",
       "      <td>0.41978</td>\n",
       "      <td>0.29678</td>\n",
       "    </tr>\n",
       "    <tr>\n",
       "      <th>1</th>\n",
       "      <td>2</td>\n",
       "      <td>Iceland</td>\n",
       "      <td>7.561</td>\n",
       "      <td>1.30232</td>\n",
       "      <td>1.40223</td>\n",
       "      <td>0.94784</td>\n",
       "      <td>0.62877</td>\n",
       "      <td>0.14145</td>\n",
       "      <td>0.43630</td>\n",
       "    </tr>\n",
       "    <tr>\n",
       "      <th>2</th>\n",
       "      <td>3</td>\n",
       "      <td>Denmark</td>\n",
       "      <td>7.527</td>\n",
       "      <td>1.32548</td>\n",
       "      <td>1.36058</td>\n",
       "      <td>0.87464</td>\n",
       "      <td>0.64938</td>\n",
       "      <td>0.48357</td>\n",
       "      <td>0.34139</td>\n",
       "    </tr>\n",
       "    <tr>\n",
       "      <th>3</th>\n",
       "      <td>4</td>\n",
       "      <td>Norway</td>\n",
       "      <td>7.522</td>\n",
       "      <td>1.45900</td>\n",
       "      <td>1.33095</td>\n",
       "      <td>0.88521</td>\n",
       "      <td>0.66973</td>\n",
       "      <td>0.36503</td>\n",
       "      <td>0.34699</td>\n",
       "    </tr>\n",
       "    <tr>\n",
       "      <th>4</th>\n",
       "      <td>5</td>\n",
       "      <td>Canada</td>\n",
       "      <td>7.427</td>\n",
       "      <td>1.32629</td>\n",
       "      <td>1.32261</td>\n",
       "      <td>0.90563</td>\n",
       "      <td>0.63297</td>\n",
       "      <td>0.32957</td>\n",
       "      <td>0.45811</td>\n",
       "    </tr>\n",
       "  </tbody>\n",
       "</table>\n",
       "</div>"
      ],
      "text/plain": [
       "   Rank      Country  Score  Economy  Social Support  Life Expectancy  \\\n",
       "0     1  Switzerland  7.587  1.39651         1.34951          0.94143   \n",
       "1     2      Iceland  7.561  1.30232         1.40223          0.94784   \n",
       "2     3      Denmark  7.527  1.32548         1.36058          0.87464   \n",
       "3     4       Norway  7.522  1.45900         1.33095          0.88521   \n",
       "4     5       Canada  7.427  1.32629         1.32261          0.90563   \n",
       "\n",
       "   Freedom  Government Trust  Generosity  \n",
       "0  0.66557           0.41978     0.29678  \n",
       "1  0.62877           0.14145     0.43630  \n",
       "2  0.64938           0.48357     0.34139  \n",
       "3  0.66973           0.36503     0.34699  \n",
       "4  0.63297           0.32957     0.45811  "
      ]
     },
     "execution_count": 23,
     "metadata": {},
     "output_type": "execute_result"
    }
   ],
   "source": [
    "# check output\n",
    "df15.head()"
   ]
  },
  {
   "cell_type": "code",
   "execution_count": 24,
   "id": "45dbacaf",
   "metadata": {
    "ExecuteTime": {
     "end_time": "2022-08-17T04:20:17.717216Z",
     "start_time": "2022-08-17T04:20:17.702623Z"
    }
   },
   "outputs": [
    {
     "data": {
      "text/plain": [
       "Index(['Country', 'Region', 'Happiness Rank', 'Happiness Score',\n",
       "       'Lower Confidence Interval', 'Upper Confidence Interval',\n",
       "       'Economy (GDP per Capita)', 'Family', 'Health (Life Expectancy)',\n",
       "       'Freedom', 'Trust (Government Corruption)', 'Generosity',\n",
       "       'Dystopia Residual'],\n",
       "      dtype='object')"
      ]
     },
     "execution_count": 24,
     "metadata": {},
     "output_type": "execute_result"
    }
   ],
   "source": [
    "# check 2016 columns\n",
    "df16.columns"
   ]
  },
  {
   "cell_type": "code",
   "execution_count": 25,
   "id": "13375a01",
   "metadata": {
    "ExecuteTime": {
     "end_time": "2022-08-17T04:20:17.933516Z",
     "start_time": "2022-08-17T04:20:17.911017Z"
    }
   },
   "outputs": [],
   "source": [
    "# delete columns that are not in 2018 and 2019\n",
    "df16 = df16.drop(columns = ['Lower Confidence Interval', 'Upper Confidence Interval', 'Region', 'Dystopia Residual'])"
   ]
  },
  {
   "cell_type": "code",
   "execution_count": 26,
   "id": "b233edeb",
   "metadata": {
    "ExecuteTime": {
     "end_time": "2022-08-17T04:20:18.148513Z",
     "start_time": "2022-08-17T04:20:18.119445Z"
    }
   },
   "outputs": [],
   "source": [
    "# rename columns for ease and consistency\n",
    "df16.rename(columns = {'Happiness Rank' : 'Rank', 'Happiness Score': 'Score','Economy (GDP per Capita)':'Economy', 'Family':'Social Support', 'Health (Life Expectancy)':'Life Expectancy','Trust (Government Corruption)':'Government Trust'}, inplace = True)"
   ]
  },
  {
   "cell_type": "code",
   "execution_count": 27,
   "id": "8c0e0041",
   "metadata": {
    "ExecuteTime": {
     "end_time": "2022-08-17T04:20:18.346542Z",
     "start_time": "2022-08-17T04:20:18.337621Z"
    }
   },
   "outputs": [],
   "source": [
    "# reorder columns for merge\n",
    "df16 = df16[['Rank','Country','Score','Economy','Social Support','Life Expectancy','Freedom','Government Trust','Generosity']]"
   ]
  },
  {
   "cell_type": "code",
   "execution_count": 28,
   "id": "b38ba41a",
   "metadata": {
    "ExecuteTime": {
     "end_time": "2022-08-17T04:20:18.577774Z",
     "start_time": "2022-08-17T04:20:18.554485Z"
    }
   },
   "outputs": [
    {
     "data": {
      "text/html": [
       "<div>\n",
       "<style scoped>\n",
       "    .dataframe tbody tr th:only-of-type {\n",
       "        vertical-align: middle;\n",
       "    }\n",
       "\n",
       "    .dataframe tbody tr th {\n",
       "        vertical-align: top;\n",
       "    }\n",
       "\n",
       "    .dataframe thead th {\n",
       "        text-align: right;\n",
       "    }\n",
       "</style>\n",
       "<table border=\"1\" class=\"dataframe\">\n",
       "  <thead>\n",
       "    <tr style=\"text-align: right;\">\n",
       "      <th></th>\n",
       "      <th>Rank</th>\n",
       "      <th>Country</th>\n",
       "      <th>Score</th>\n",
       "      <th>Economy</th>\n",
       "      <th>Social Support</th>\n",
       "      <th>Life Expectancy</th>\n",
       "      <th>Freedom</th>\n",
       "      <th>Government Trust</th>\n",
       "      <th>Generosity</th>\n",
       "    </tr>\n",
       "  </thead>\n",
       "  <tbody>\n",
       "    <tr>\n",
       "      <th>0</th>\n",
       "      <td>1</td>\n",
       "      <td>Denmark</td>\n",
       "      <td>7.526</td>\n",
       "      <td>1.44178</td>\n",
       "      <td>1.16374</td>\n",
       "      <td>0.79504</td>\n",
       "      <td>0.57941</td>\n",
       "      <td>0.44453</td>\n",
       "      <td>0.36171</td>\n",
       "    </tr>\n",
       "    <tr>\n",
       "      <th>1</th>\n",
       "      <td>2</td>\n",
       "      <td>Switzerland</td>\n",
       "      <td>7.509</td>\n",
       "      <td>1.52733</td>\n",
       "      <td>1.14524</td>\n",
       "      <td>0.86303</td>\n",
       "      <td>0.58557</td>\n",
       "      <td>0.41203</td>\n",
       "      <td>0.28083</td>\n",
       "    </tr>\n",
       "    <tr>\n",
       "      <th>2</th>\n",
       "      <td>3</td>\n",
       "      <td>Iceland</td>\n",
       "      <td>7.501</td>\n",
       "      <td>1.42666</td>\n",
       "      <td>1.18326</td>\n",
       "      <td>0.86733</td>\n",
       "      <td>0.56624</td>\n",
       "      <td>0.14975</td>\n",
       "      <td>0.47678</td>\n",
       "    </tr>\n",
       "    <tr>\n",
       "      <th>3</th>\n",
       "      <td>4</td>\n",
       "      <td>Norway</td>\n",
       "      <td>7.498</td>\n",
       "      <td>1.57744</td>\n",
       "      <td>1.12690</td>\n",
       "      <td>0.79579</td>\n",
       "      <td>0.59609</td>\n",
       "      <td>0.35776</td>\n",
       "      <td>0.37895</td>\n",
       "    </tr>\n",
       "    <tr>\n",
       "      <th>4</th>\n",
       "      <td>5</td>\n",
       "      <td>Finland</td>\n",
       "      <td>7.413</td>\n",
       "      <td>1.40598</td>\n",
       "      <td>1.13464</td>\n",
       "      <td>0.81091</td>\n",
       "      <td>0.57104</td>\n",
       "      <td>0.41004</td>\n",
       "      <td>0.25492</td>\n",
       "    </tr>\n",
       "  </tbody>\n",
       "</table>\n",
       "</div>"
      ],
      "text/plain": [
       "   Rank      Country  Score  Economy  Social Support  Life Expectancy  \\\n",
       "0     1      Denmark  7.526  1.44178         1.16374          0.79504   \n",
       "1     2  Switzerland  7.509  1.52733         1.14524          0.86303   \n",
       "2     3      Iceland  7.501  1.42666         1.18326          0.86733   \n",
       "3     4       Norway  7.498  1.57744         1.12690          0.79579   \n",
       "4     5      Finland  7.413  1.40598         1.13464          0.81091   \n",
       "\n",
       "   Freedom  Government Trust  Generosity  \n",
       "0  0.57941           0.44453     0.36171  \n",
       "1  0.58557           0.41203     0.28083  \n",
       "2  0.56624           0.14975     0.47678  \n",
       "3  0.59609           0.35776     0.37895  \n",
       "4  0.57104           0.41004     0.25492  "
      ]
     },
     "execution_count": 28,
     "metadata": {},
     "output_type": "execute_result"
    }
   ],
   "source": [
    "# check output\n",
    "df16.head()"
   ]
  },
  {
   "cell_type": "code",
   "execution_count": 29,
   "id": "2cd91b3e",
   "metadata": {
    "ExecuteTime": {
     "end_time": "2022-08-17T04:20:18.782300Z",
     "start_time": "2022-08-17T04:20:18.761875Z"
    }
   },
   "outputs": [
    {
     "data": {
      "text/plain": [
       "Index(['Country', 'Happiness.Rank', 'Happiness.Score', 'Whisker.high',\n",
       "       'Whisker.low', 'Economy..GDP.per.Capita.', 'Family',\n",
       "       'Health..Life.Expectancy.', 'Freedom', 'Generosity',\n",
       "       'Trust..Government.Corruption.', 'Dystopia.Residual'],\n",
       "      dtype='object')"
      ]
     },
     "execution_count": 29,
     "metadata": {},
     "output_type": "execute_result"
    }
   ],
   "source": [
    "df17.columns"
   ]
  },
  {
   "cell_type": "code",
   "execution_count": 30,
   "id": "1f7d2114",
   "metadata": {
    "ExecuteTime": {
     "end_time": "2022-08-17T04:20:18.991113Z",
     "start_time": "2022-08-17T04:20:18.972399Z"
    }
   },
   "outputs": [],
   "source": [
    "# delete unnecessary columns\n",
    "df17 = df17.drop(columns = ['Whisker.high','Whisker.low','Dystopia.Residual'])"
   ]
  },
  {
   "cell_type": "code",
   "execution_count": 31,
   "id": "26a4d00f",
   "metadata": {
    "ExecuteTime": {
     "end_time": "2022-08-17T04:20:19.200565Z",
     "start_time": "2022-08-17T04:20:19.178649Z"
    }
   },
   "outputs": [],
   "source": [
    "# rename columns\n",
    "df17.rename(columns = {'Happiness.Rank' : 'Rank', 'Happiness.Score':'Score', 'Family':'Social Support','Economy..GDP.per.Capita.': 'Economy', 'Health..Life.Expectancy.':'Life Expectancy', 'Trust..Government.Corruption.': 'Government Trust'}, inplace = True)"
   ]
  },
  {
   "cell_type": "code",
   "execution_count": 32,
   "id": "00e3d8a0",
   "metadata": {
    "ExecuteTime": {
     "end_time": "2022-08-17T04:20:19.568284Z",
     "start_time": "2022-08-17T04:20:19.547234Z"
    }
   },
   "outputs": [],
   "source": [
    "# reorder columns\n",
    "df17 = df17[['Rank','Country','Score','Economy','Social Support','Life Expectancy','Freedom','Government Trust','Generosity']]"
   ]
  },
  {
   "cell_type": "code",
   "execution_count": 33,
   "id": "49b40b08",
   "metadata": {
    "ExecuteTime": {
     "end_time": "2022-08-17T04:20:19.954702Z",
     "start_time": "2022-08-17T04:20:19.927162Z"
    }
   },
   "outputs": [
    {
     "data": {
      "text/html": [
       "<div>\n",
       "<style scoped>\n",
       "    .dataframe tbody tr th:only-of-type {\n",
       "        vertical-align: middle;\n",
       "    }\n",
       "\n",
       "    .dataframe tbody tr th {\n",
       "        vertical-align: top;\n",
       "    }\n",
       "\n",
       "    .dataframe thead th {\n",
       "        text-align: right;\n",
       "    }\n",
       "</style>\n",
       "<table border=\"1\" class=\"dataframe\">\n",
       "  <thead>\n",
       "    <tr style=\"text-align: right;\">\n",
       "      <th></th>\n",
       "      <th>Rank</th>\n",
       "      <th>Country</th>\n",
       "      <th>Score</th>\n",
       "      <th>Economy</th>\n",
       "      <th>Social Support</th>\n",
       "      <th>Life Expectancy</th>\n",
       "      <th>Freedom</th>\n",
       "      <th>Government Trust</th>\n",
       "      <th>Generosity</th>\n",
       "    </tr>\n",
       "  </thead>\n",
       "  <tbody>\n",
       "    <tr>\n",
       "      <th>0</th>\n",
       "      <td>1</td>\n",
       "      <td>Norway</td>\n",
       "      <td>7.537</td>\n",
       "      <td>1.616463</td>\n",
       "      <td>1.533524</td>\n",
       "      <td>0.796667</td>\n",
       "      <td>0.635423</td>\n",
       "      <td>0.315964</td>\n",
       "      <td>0.362012</td>\n",
       "    </tr>\n",
       "    <tr>\n",
       "      <th>1</th>\n",
       "      <td>2</td>\n",
       "      <td>Denmark</td>\n",
       "      <td>7.522</td>\n",
       "      <td>1.482383</td>\n",
       "      <td>1.551122</td>\n",
       "      <td>0.792566</td>\n",
       "      <td>0.626007</td>\n",
       "      <td>0.400770</td>\n",
       "      <td>0.355280</td>\n",
       "    </tr>\n",
       "    <tr>\n",
       "      <th>2</th>\n",
       "      <td>3</td>\n",
       "      <td>Iceland</td>\n",
       "      <td>7.504</td>\n",
       "      <td>1.480633</td>\n",
       "      <td>1.610574</td>\n",
       "      <td>0.833552</td>\n",
       "      <td>0.627163</td>\n",
       "      <td>0.153527</td>\n",
       "      <td>0.475540</td>\n",
       "    </tr>\n",
       "    <tr>\n",
       "      <th>3</th>\n",
       "      <td>4</td>\n",
       "      <td>Switzerland</td>\n",
       "      <td>7.494</td>\n",
       "      <td>1.564980</td>\n",
       "      <td>1.516912</td>\n",
       "      <td>0.858131</td>\n",
       "      <td>0.620071</td>\n",
       "      <td>0.367007</td>\n",
       "      <td>0.290549</td>\n",
       "    </tr>\n",
       "    <tr>\n",
       "      <th>4</th>\n",
       "      <td>5</td>\n",
       "      <td>Finland</td>\n",
       "      <td>7.469</td>\n",
       "      <td>1.443572</td>\n",
       "      <td>1.540247</td>\n",
       "      <td>0.809158</td>\n",
       "      <td>0.617951</td>\n",
       "      <td>0.382612</td>\n",
       "      <td>0.245483</td>\n",
       "    </tr>\n",
       "  </tbody>\n",
       "</table>\n",
       "</div>"
      ],
      "text/plain": [
       "   Rank      Country  Score   Economy  Social Support  Life Expectancy  \\\n",
       "0     1       Norway  7.537  1.616463        1.533524         0.796667   \n",
       "1     2      Denmark  7.522  1.482383        1.551122         0.792566   \n",
       "2     3      Iceland  7.504  1.480633        1.610574         0.833552   \n",
       "3     4  Switzerland  7.494  1.564980        1.516912         0.858131   \n",
       "4     5      Finland  7.469  1.443572        1.540247         0.809158   \n",
       "\n",
       "    Freedom  Government Trust  Generosity  \n",
       "0  0.635423          0.315964    0.362012  \n",
       "1  0.626007          0.400770    0.355280  \n",
       "2  0.627163          0.153527    0.475540  \n",
       "3  0.620071          0.367007    0.290549  \n",
       "4  0.617951          0.382612    0.245483  "
      ]
     },
     "execution_count": 33,
     "metadata": {},
     "output_type": "execute_result"
    }
   ],
   "source": [
    "# check output\n",
    "df17.head()"
   ]
  },
  {
   "cell_type": "code",
   "execution_count": 34,
   "id": "2e4004c1",
   "metadata": {
    "ExecuteTime": {
     "end_time": "2022-08-17T04:20:20.488576Z",
     "start_time": "2022-08-17T04:20:20.474265Z"
    }
   },
   "outputs": [
    {
     "data": {
      "text/plain": [
       "Index(['Overall rank', 'Country or region', 'Score', 'GDP per capita',\n",
       "       'Social support', 'Healthy life expectancy',\n",
       "       'Freedom to make life choices', 'Generosity',\n",
       "       'Perceptions of corruption'],\n",
       "      dtype='object')"
      ]
     },
     "execution_count": 34,
     "metadata": {},
     "output_type": "execute_result"
    }
   ],
   "source": [
    "# check columns\n",
    "df18.columns"
   ]
  },
  {
   "cell_type": "code",
   "execution_count": 35,
   "id": "d39447c7",
   "metadata": {
    "ExecuteTime": {
     "end_time": "2022-08-17T04:20:21.838679Z",
     "start_time": "2022-08-17T04:20:21.820227Z"
    }
   },
   "outputs": [],
   "source": [
    "# rename columns\n",
    "df18.rename(columns = {'Overall rank': 'Rank', 'Social support':'Social Support', 'Country or region': 'Country', 'GDP per capita': 'Economy', 'Freedom to make life choices': 'Freedom', 'Perceptions of corruption': 'Government Trust', 'Healthy life expectancy': 'Life Expectancy'}, inplace = True)"
   ]
  },
  {
   "cell_type": "code",
   "execution_count": 36,
   "id": "dce10293",
   "metadata": {
    "ExecuteTime": {
     "end_time": "2022-08-17T04:20:22.126986Z",
     "start_time": "2022-08-17T04:20:22.116791Z"
    }
   },
   "outputs": [],
   "source": [
    "# reorder columns\n",
    "df18 = df18[['Rank','Country','Score','Economy','Social Support','Life Expectancy','Freedom','Government Trust','Generosity']]"
   ]
  },
  {
   "cell_type": "code",
   "execution_count": 37,
   "id": "22bddc8c",
   "metadata": {
    "ExecuteTime": {
     "end_time": "2022-08-17T04:20:22.424240Z",
     "start_time": "2022-08-17T04:20:22.376890Z"
    }
   },
   "outputs": [
    {
     "data": {
      "text/html": [
       "<div>\n",
       "<style scoped>\n",
       "    .dataframe tbody tr th:only-of-type {\n",
       "        vertical-align: middle;\n",
       "    }\n",
       "\n",
       "    .dataframe tbody tr th {\n",
       "        vertical-align: top;\n",
       "    }\n",
       "\n",
       "    .dataframe thead th {\n",
       "        text-align: right;\n",
       "    }\n",
       "</style>\n",
       "<table border=\"1\" class=\"dataframe\">\n",
       "  <thead>\n",
       "    <tr style=\"text-align: right;\">\n",
       "      <th></th>\n",
       "      <th>Rank</th>\n",
       "      <th>Country</th>\n",
       "      <th>Score</th>\n",
       "      <th>Economy</th>\n",
       "      <th>Social Support</th>\n",
       "      <th>Life Expectancy</th>\n",
       "      <th>Freedom</th>\n",
       "      <th>Government Trust</th>\n",
       "      <th>Generosity</th>\n",
       "    </tr>\n",
       "  </thead>\n",
       "  <tbody>\n",
       "    <tr>\n",
       "      <th>0</th>\n",
       "      <td>1</td>\n",
       "      <td>Finland</td>\n",
       "      <td>7.632</td>\n",
       "      <td>1.305</td>\n",
       "      <td>1.592</td>\n",
       "      <td>0.874</td>\n",
       "      <td>0.681</td>\n",
       "      <td>0.393</td>\n",
       "      <td>0.202</td>\n",
       "    </tr>\n",
       "    <tr>\n",
       "      <th>1</th>\n",
       "      <td>2</td>\n",
       "      <td>Norway</td>\n",
       "      <td>7.594</td>\n",
       "      <td>1.456</td>\n",
       "      <td>1.582</td>\n",
       "      <td>0.861</td>\n",
       "      <td>0.686</td>\n",
       "      <td>0.340</td>\n",
       "      <td>0.286</td>\n",
       "    </tr>\n",
       "    <tr>\n",
       "      <th>2</th>\n",
       "      <td>3</td>\n",
       "      <td>Denmark</td>\n",
       "      <td>7.555</td>\n",
       "      <td>1.351</td>\n",
       "      <td>1.590</td>\n",
       "      <td>0.868</td>\n",
       "      <td>0.683</td>\n",
       "      <td>0.408</td>\n",
       "      <td>0.284</td>\n",
       "    </tr>\n",
       "    <tr>\n",
       "      <th>3</th>\n",
       "      <td>4</td>\n",
       "      <td>Iceland</td>\n",
       "      <td>7.495</td>\n",
       "      <td>1.343</td>\n",
       "      <td>1.644</td>\n",
       "      <td>0.914</td>\n",
       "      <td>0.677</td>\n",
       "      <td>0.138</td>\n",
       "      <td>0.353</td>\n",
       "    </tr>\n",
       "    <tr>\n",
       "      <th>4</th>\n",
       "      <td>5</td>\n",
       "      <td>Switzerland</td>\n",
       "      <td>7.487</td>\n",
       "      <td>1.420</td>\n",
       "      <td>1.549</td>\n",
       "      <td>0.927</td>\n",
       "      <td>0.660</td>\n",
       "      <td>0.357</td>\n",
       "      <td>0.256</td>\n",
       "    </tr>\n",
       "  </tbody>\n",
       "</table>\n",
       "</div>"
      ],
      "text/plain": [
       "   Rank      Country  Score  Economy  Social Support  Life Expectancy  \\\n",
       "0     1      Finland  7.632    1.305           1.592            0.874   \n",
       "1     2       Norway  7.594    1.456           1.582            0.861   \n",
       "2     3      Denmark  7.555    1.351           1.590            0.868   \n",
       "3     4      Iceland  7.495    1.343           1.644            0.914   \n",
       "4     5  Switzerland  7.487    1.420           1.549            0.927   \n",
       "\n",
       "   Freedom  Government Trust  Generosity  \n",
       "0    0.681             0.393       0.202  \n",
       "1    0.686             0.340       0.286  \n",
       "2    0.683             0.408       0.284  \n",
       "3    0.677             0.138       0.353  \n",
       "4    0.660             0.357       0.256  "
      ]
     },
     "execution_count": 37,
     "metadata": {},
     "output_type": "execute_result"
    }
   ],
   "source": [
    "# check output\n",
    "df18.head()"
   ]
  },
  {
   "cell_type": "code",
   "execution_count": 38,
   "id": "88a18925",
   "metadata": {
    "ExecuteTime": {
     "end_time": "2022-08-17T04:20:22.877170Z",
     "start_time": "2022-08-17T04:20:22.862025Z"
    }
   },
   "outputs": [
    {
     "data": {
      "text/plain": [
       "Index(['Overall rank', 'Country or region', 'Score', 'GDP per capita',\n",
       "       'Social support', 'Healthy life expectancy',\n",
       "       'Freedom to make life choices', 'Generosity',\n",
       "       'Perceptions of corruption'],\n",
       "      dtype='object')"
      ]
     },
     "execution_count": 38,
     "metadata": {},
     "output_type": "execute_result"
    }
   ],
   "source": [
    "df19.columns"
   ]
  },
  {
   "cell_type": "code",
   "execution_count": 39,
   "id": "4559f2ce",
   "metadata": {
    "ExecuteTime": {
     "end_time": "2022-08-17T04:20:23.510366Z",
     "start_time": "2022-08-17T04:20:23.491764Z"
    }
   },
   "outputs": [],
   "source": [
    "# rename columns\n",
    "df19.rename(columns = {'Overall rank': 'Rank', 'Country or region': 'Country','GDP per capita': 'Economy', 'Social support':'Social Support', 'Healthy life expectancy': 'Life Expectancy', 'Freedom to make life choices': 'Freedom', 'Perceptions of corruption':'Government Trust'}, inplace = True)"
   ]
  },
  {
   "cell_type": "code",
   "execution_count": 40,
   "id": "dca2a7fa",
   "metadata": {
    "ExecuteTime": {
     "end_time": "2022-08-17T04:20:23.839470Z",
     "start_time": "2022-08-17T04:20:23.829643Z"
    }
   },
   "outputs": [],
   "source": [
    "# reorder columns\n",
    "df19 = df19[['Rank','Country','Score','Economy','Social Support','Life Expectancy','Freedom','Government Trust','Generosity']]"
   ]
  },
  {
   "cell_type": "code",
   "execution_count": 41,
   "id": "313d849f",
   "metadata": {
    "ExecuteTime": {
     "end_time": "2022-08-17T04:20:24.148076Z",
     "start_time": "2022-08-17T04:20:24.112044Z"
    }
   },
   "outputs": [
    {
     "data": {
      "text/html": [
       "<div>\n",
       "<style scoped>\n",
       "    .dataframe tbody tr th:only-of-type {\n",
       "        vertical-align: middle;\n",
       "    }\n",
       "\n",
       "    .dataframe tbody tr th {\n",
       "        vertical-align: top;\n",
       "    }\n",
       "\n",
       "    .dataframe thead th {\n",
       "        text-align: right;\n",
       "    }\n",
       "</style>\n",
       "<table border=\"1\" class=\"dataframe\">\n",
       "  <thead>\n",
       "    <tr style=\"text-align: right;\">\n",
       "      <th></th>\n",
       "      <th>Rank</th>\n",
       "      <th>Country</th>\n",
       "      <th>Score</th>\n",
       "      <th>Economy</th>\n",
       "      <th>Social Support</th>\n",
       "      <th>Life Expectancy</th>\n",
       "      <th>Freedom</th>\n",
       "      <th>Government Trust</th>\n",
       "      <th>Generosity</th>\n",
       "    </tr>\n",
       "  </thead>\n",
       "  <tbody>\n",
       "    <tr>\n",
       "      <th>0</th>\n",
       "      <td>1</td>\n",
       "      <td>Finland</td>\n",
       "      <td>7.769</td>\n",
       "      <td>1.340</td>\n",
       "      <td>1.587</td>\n",
       "      <td>0.986</td>\n",
       "      <td>0.596</td>\n",
       "      <td>0.393</td>\n",
       "      <td>0.153</td>\n",
       "    </tr>\n",
       "    <tr>\n",
       "      <th>1</th>\n",
       "      <td>2</td>\n",
       "      <td>Denmark</td>\n",
       "      <td>7.600</td>\n",
       "      <td>1.383</td>\n",
       "      <td>1.573</td>\n",
       "      <td>0.996</td>\n",
       "      <td>0.592</td>\n",
       "      <td>0.410</td>\n",
       "      <td>0.252</td>\n",
       "    </tr>\n",
       "    <tr>\n",
       "      <th>2</th>\n",
       "      <td>3</td>\n",
       "      <td>Norway</td>\n",
       "      <td>7.554</td>\n",
       "      <td>1.488</td>\n",
       "      <td>1.582</td>\n",
       "      <td>1.028</td>\n",
       "      <td>0.603</td>\n",
       "      <td>0.341</td>\n",
       "      <td>0.271</td>\n",
       "    </tr>\n",
       "    <tr>\n",
       "      <th>3</th>\n",
       "      <td>4</td>\n",
       "      <td>Iceland</td>\n",
       "      <td>7.494</td>\n",
       "      <td>1.380</td>\n",
       "      <td>1.624</td>\n",
       "      <td>1.026</td>\n",
       "      <td>0.591</td>\n",
       "      <td>0.118</td>\n",
       "      <td>0.354</td>\n",
       "    </tr>\n",
       "    <tr>\n",
       "      <th>4</th>\n",
       "      <td>5</td>\n",
       "      <td>Netherlands</td>\n",
       "      <td>7.488</td>\n",
       "      <td>1.396</td>\n",
       "      <td>1.522</td>\n",
       "      <td>0.999</td>\n",
       "      <td>0.557</td>\n",
       "      <td>0.298</td>\n",
       "      <td>0.322</td>\n",
       "    </tr>\n",
       "  </tbody>\n",
       "</table>\n",
       "</div>"
      ],
      "text/plain": [
       "   Rank      Country  Score  Economy  Social Support  Life Expectancy  \\\n",
       "0     1      Finland  7.769    1.340           1.587            0.986   \n",
       "1     2      Denmark  7.600    1.383           1.573            0.996   \n",
       "2     3       Norway  7.554    1.488           1.582            1.028   \n",
       "3     4      Iceland  7.494    1.380           1.624            1.026   \n",
       "4     5  Netherlands  7.488    1.396           1.522            0.999   \n",
       "\n",
       "   Freedom  Government Trust  Generosity  \n",
       "0    0.596             0.393       0.153  \n",
       "1    0.592             0.410       0.252  \n",
       "2    0.603             0.341       0.271  \n",
       "3    0.591             0.118       0.354  \n",
       "4    0.557             0.298       0.322  "
      ]
     },
     "execution_count": 41,
     "metadata": {},
     "output_type": "execute_result"
    }
   ],
   "source": [
    "# check output\n",
    "df19.head()"
   ]
  },
  {
   "cell_type": "code",
   "execution_count": 42,
   "id": "2acf3fc0",
   "metadata": {
    "ExecuteTime": {
     "end_time": "2022-08-17T04:20:24.620390Z",
     "start_time": "2022-08-17T04:20:24.594898Z"
    }
   },
   "outputs": [
    {
     "data": {
      "text/plain": [
       "Index(['Country name', 'Regional indicator', 'Ladder score',\n",
       "       'Standard error of ladder score', 'upperwhisker', 'lowerwhisker',\n",
       "       'Logged GDP per capita', 'Social support', 'Healthy life expectancy',\n",
       "       'Freedom to make life choices', 'Generosity',\n",
       "       'Perceptions of corruption', 'Ladder score in Dystopia',\n",
       "       'Explained by: Log GDP per capita', 'Explained by: Social support',\n",
       "       'Explained by: Healthy life expectancy',\n",
       "       'Explained by: Freedom to make life choices',\n",
       "       'Explained by: Generosity', 'Explained by: Perceptions of corruption',\n",
       "       'Dystopia + residual'],\n",
       "      dtype='object')"
      ]
     },
     "execution_count": 42,
     "metadata": {},
     "output_type": "execute_result"
    }
   ],
   "source": [
    "#check columns\n",
    "df20.columns"
   ]
  },
  {
   "cell_type": "code",
   "execution_count": 43,
   "id": "20889f6f",
   "metadata": {
    "ExecuteTime": {
     "end_time": "2022-08-17T04:20:25.057036Z",
     "start_time": "2022-08-17T04:20:25.040772Z"
    }
   },
   "outputs": [],
   "source": [
    "# drop columns\n",
    "df20 = df20.drop(columns = ['Regional indicator', 'Standard error of ladder score', 'upperwhisker', 'lowerwhisker', 'Ladder score in Dystopia', 'Explained by: Log GDP per capita', 'Explained by: Social support', 'Explained by: Healthy life expectancy', 'Explained by: Freedom to make life choices', 'Explained by: Generosity', 'Explained by: Perceptions of corruption'])"
   ]
  },
  {
   "cell_type": "code",
   "execution_count": 44,
   "id": "488a8265",
   "metadata": {
    "ExecuteTime": {
     "end_time": "2022-08-17T04:20:25.833735Z",
     "start_time": "2022-08-17T04:20:25.819704Z"
    }
   },
   "outputs": [],
   "source": [
    "df20 = df20.drop(columns = ['Dystopia + residual'])"
   ]
  },
  {
   "cell_type": "code",
   "execution_count": 45,
   "id": "d640a7b2",
   "metadata": {
    "ExecuteTime": {
     "end_time": "2022-08-17T04:20:26.059239Z",
     "start_time": "2022-08-17T04:20:26.044087Z"
    }
   },
   "outputs": [],
   "source": [
    "df20['Rank'] = range(1, len(df20) + 1)"
   ]
  },
  {
   "cell_type": "code",
   "execution_count": 46,
   "id": "5dcbbbf9",
   "metadata": {
    "ExecuteTime": {
     "end_time": "2022-08-17T04:20:26.248834Z",
     "start_time": "2022-08-17T04:20:26.233432Z"
    }
   },
   "outputs": [
    {
     "data": {
      "text/plain": [
       "Index(['Country name', 'Ladder score', 'Logged GDP per capita',\n",
       "       'Social support', 'Healthy life expectancy',\n",
       "       'Freedom to make life choices', 'Generosity',\n",
       "       'Perceptions of corruption', 'Rank'],\n",
       "      dtype='object')"
      ]
     },
     "execution_count": 46,
     "metadata": {},
     "output_type": "execute_result"
    }
   ],
   "source": [
    "df20.columns"
   ]
  },
  {
   "cell_type": "code",
   "execution_count": 63,
   "id": "a2e5096d",
   "metadata": {
    "ExecuteTime": {
     "end_time": "2022-08-17T04:25:53.451773Z",
     "start_time": "2022-08-17T04:25:53.437271Z"
    }
   },
   "outputs": [],
   "source": [
    "# rename columns\n",
    "df20.rename(columns = {'Country name': 'Country','Ladder score': 'Score','Logged GDP per capita': 'Economy', 'Social support':'Social Support', 'Healthy life expectancy':'Life Expectancy','Freedom to make life choices':'Freedom','Perceptions of corruption':'Government Trust'}, inplace = True)"
   ]
  },
  {
   "cell_type": "code",
   "execution_count": 64,
   "id": "056ef728",
   "metadata": {
    "ExecuteTime": {
     "end_time": "2022-08-17T04:25:54.363288Z",
     "start_time": "2022-08-17T04:25:54.336462Z"
    }
   },
   "outputs": [],
   "source": [
    "# reorder columns\n",
    "df20 = df20[['Rank','Country','Score','Economy','Social Support','Life Expectancy','Freedom','Government Trust','Generosity']]"
   ]
  },
  {
   "cell_type": "code",
   "execution_count": 65,
   "id": "44fb3f73",
   "metadata": {
    "ExecuteTime": {
     "end_time": "2022-08-17T04:25:55.391408Z",
     "start_time": "2022-08-17T04:25:55.364135Z"
    }
   },
   "outputs": [
    {
     "data": {
      "text/html": [
       "<div>\n",
       "<style scoped>\n",
       "    .dataframe tbody tr th:only-of-type {\n",
       "        vertical-align: middle;\n",
       "    }\n",
       "\n",
       "    .dataframe tbody tr th {\n",
       "        vertical-align: top;\n",
       "    }\n",
       "\n",
       "    .dataframe thead th {\n",
       "        text-align: right;\n",
       "    }\n",
       "</style>\n",
       "<table border=\"1\" class=\"dataframe\">\n",
       "  <thead>\n",
       "    <tr style=\"text-align: right;\">\n",
       "      <th></th>\n",
       "      <th>Rank</th>\n",
       "      <th>Country</th>\n",
       "      <th>Score</th>\n",
       "      <th>Economy</th>\n",
       "      <th>Social Support</th>\n",
       "      <th>Life Expectancy</th>\n",
       "      <th>Freedom</th>\n",
       "      <th>Government Trust</th>\n",
       "      <th>Generosity</th>\n",
       "    </tr>\n",
       "  </thead>\n",
       "  <tbody>\n",
       "    <tr>\n",
       "      <th>0</th>\n",
       "      <td>1</td>\n",
       "      <td>Finland</td>\n",
       "      <td>7.8087</td>\n",
       "      <td>10.639267</td>\n",
       "      <td>0.954330</td>\n",
       "      <td>71.900825</td>\n",
       "      <td>0.949172</td>\n",
       "      <td>0.195445</td>\n",
       "      <td>-0.059482</td>\n",
       "    </tr>\n",
       "    <tr>\n",
       "      <th>1</th>\n",
       "      <td>2</td>\n",
       "      <td>Denmark</td>\n",
       "      <td>7.6456</td>\n",
       "      <td>10.774001</td>\n",
       "      <td>0.955991</td>\n",
       "      <td>72.402504</td>\n",
       "      <td>0.951444</td>\n",
       "      <td>0.168489</td>\n",
       "      <td>0.066202</td>\n",
       "    </tr>\n",
       "    <tr>\n",
       "      <th>2</th>\n",
       "      <td>3</td>\n",
       "      <td>Switzerland</td>\n",
       "      <td>7.5599</td>\n",
       "      <td>10.979933</td>\n",
       "      <td>0.942847</td>\n",
       "      <td>74.102448</td>\n",
       "      <td>0.921337</td>\n",
       "      <td>0.303728</td>\n",
       "      <td>0.105911</td>\n",
       "    </tr>\n",
       "    <tr>\n",
       "      <th>3</th>\n",
       "      <td>4</td>\n",
       "      <td>Iceland</td>\n",
       "      <td>7.5045</td>\n",
       "      <td>10.772559</td>\n",
       "      <td>0.974670</td>\n",
       "      <td>73.000000</td>\n",
       "      <td>0.948892</td>\n",
       "      <td>0.711710</td>\n",
       "      <td>0.246944</td>\n",
       "    </tr>\n",
       "    <tr>\n",
       "      <th>4</th>\n",
       "      <td>5</td>\n",
       "      <td>Norway</td>\n",
       "      <td>7.4880</td>\n",
       "      <td>11.087804</td>\n",
       "      <td>0.952487</td>\n",
       "      <td>73.200783</td>\n",
       "      <td>0.955750</td>\n",
       "      <td>0.263218</td>\n",
       "      <td>0.134533</td>\n",
       "    </tr>\n",
       "  </tbody>\n",
       "</table>\n",
       "</div>"
      ],
      "text/plain": [
       "   Rank      Country   Score    Economy  Social Support  Life Expectancy  \\\n",
       "0     1      Finland  7.8087  10.639267        0.954330        71.900825   \n",
       "1     2      Denmark  7.6456  10.774001        0.955991        72.402504   \n",
       "2     3  Switzerland  7.5599  10.979933        0.942847        74.102448   \n",
       "3     4      Iceland  7.5045  10.772559        0.974670        73.000000   \n",
       "4     5       Norway  7.4880  11.087804        0.952487        73.200783   \n",
       "\n",
       "    Freedom  Government Trust  Generosity  \n",
       "0  0.949172          0.195445   -0.059482  \n",
       "1  0.951444          0.168489    0.066202  \n",
       "2  0.921337          0.303728    0.105911  \n",
       "3  0.948892          0.711710    0.246944  \n",
       "4  0.955750          0.263218    0.134533  "
      ]
     },
     "execution_count": 65,
     "metadata": {},
     "output_type": "execute_result"
    }
   ],
   "source": [
    "# check output\n",
    "df20.head()"
   ]
  },
  {
   "cell_type": "code",
   "execution_count": 101,
   "id": "ff8a2e23",
   "metadata": {
    "ExecuteTime": {
     "end_time": "2022-08-17T04:36:27.536096Z",
     "start_time": "2022-08-17T04:36:27.517518Z"
    }
   },
   "outputs": [
    {
     "data": {
      "text/plain": [
       "Index(['Country name', 'Regional indicator', 'Ladder score',\n",
       "       'Standard error of ladder score', 'upperwhisker', 'lowerwhisker',\n",
       "       'Logged GDP per capita', 'Social support', 'Healthy life expectancy',\n",
       "       'Freedom to make life choices', 'Generosity',\n",
       "       'Perceptions of corruption', 'Ladder score in Dystopia',\n",
       "       'Explained by: Log GDP per capita', 'Explained by: Social support',\n",
       "       'Explained by: Healthy life expectancy',\n",
       "       'Explained by: Freedom to make life choices',\n",
       "       'Explained by: Generosity', 'Explained by: Perceptions of corruption',\n",
       "       'Dystopia + residual'],\n",
       "      dtype='object')"
      ]
     },
     "execution_count": 101,
     "metadata": {},
     "output_type": "execute_result"
    }
   ],
   "source": [
    "# check columns\n",
    "df21.columns"
   ]
  },
  {
   "cell_type": "code",
   "execution_count": 102,
   "id": "a8c52240",
   "metadata": {
    "ExecuteTime": {
     "end_time": "2022-08-17T04:37:42.102692Z",
     "start_time": "2022-08-17T04:37:42.085753Z"
    }
   },
   "outputs": [],
   "source": [
    "# delete unnecessary columns\n",
    "df21 = df21.drop(columns = ['Regional indicator', 'Standard error of ladder score', 'upperwhisker', 'lowerwhisker', 'Ladder score in Dystopia', 'Explained by: Log GDP per capita', 'Explained by: Social support', 'Explained by: Healthy life expectancy', 'Explained by: Freedom to make life choices', 'Explained by: Generosity', 'Explained by: Perceptions of corruption','Dystopia + residual'])"
   ]
  },
  {
   "cell_type": "code",
   "execution_count": 111,
   "id": "90cc00be",
   "metadata": {
    "ExecuteTime": {
     "end_time": "2022-08-17T04:42:44.083839Z",
     "start_time": "2022-08-17T04:42:44.063050Z"
    }
   },
   "outputs": [],
   "source": [
    "# rename columns\n",
    "df21.rename(columns = {'Country name' : 'Country', 'Ladder score': 'Score', 'Logged GDP per capita': 'Economy', 'Social support': 'Social Support', 'Healthy life expectancy': 'Life Expectancy', 'Freedom to make life choices':'Freedom','Perceptions of corruption':'Government Trust'}, inplace = True)"
   ]
  },
  {
   "cell_type": "code",
   "execution_count": 112,
   "id": "318e3411",
   "metadata": {
    "ExecuteTime": {
     "end_time": "2022-08-17T04:42:44.973232Z",
     "start_time": "2022-08-17T04:42:44.963231Z"
    }
   },
   "outputs": [],
   "source": [
    "# add rank index\n",
    "df21['Rank'] = range(1, len(df21) + 1)"
   ]
  },
  {
   "cell_type": "code",
   "execution_count": 113,
   "id": "a982e6ec",
   "metadata": {
    "ExecuteTime": {
     "end_time": "2022-08-17T04:42:45.669528Z",
     "start_time": "2022-08-17T04:42:45.624840Z"
    }
   },
   "outputs": [
    {
     "data": {
      "text/html": [
       "<div>\n",
       "<style scoped>\n",
       "    .dataframe tbody tr th:only-of-type {\n",
       "        vertical-align: middle;\n",
       "    }\n",
       "\n",
       "    .dataframe tbody tr th {\n",
       "        vertical-align: top;\n",
       "    }\n",
       "\n",
       "    .dataframe thead th {\n",
       "        text-align: right;\n",
       "    }\n",
       "</style>\n",
       "<table border=\"1\" class=\"dataframe\">\n",
       "  <thead>\n",
       "    <tr style=\"text-align: right;\">\n",
       "      <th></th>\n",
       "      <th>Rank</th>\n",
       "      <th>Country</th>\n",
       "      <th>Score</th>\n",
       "      <th>Economy</th>\n",
       "      <th>Social Support</th>\n",
       "      <th>Life Expectancy</th>\n",
       "      <th>Freedom</th>\n",
       "      <th>Government Trust</th>\n",
       "      <th>Generosity</th>\n",
       "    </tr>\n",
       "  </thead>\n",
       "  <tbody>\n",
       "    <tr>\n",
       "      <th>0</th>\n",
       "      <td>1</td>\n",
       "      <td>Finland</td>\n",
       "      <td>7.842</td>\n",
       "      <td>10.775</td>\n",
       "      <td>0.954</td>\n",
       "      <td>72.000</td>\n",
       "      <td>0.949</td>\n",
       "      <td>0.186</td>\n",
       "      <td>-0.098</td>\n",
       "    </tr>\n",
       "    <tr>\n",
       "      <th>1</th>\n",
       "      <td>2</td>\n",
       "      <td>Denmark</td>\n",
       "      <td>7.620</td>\n",
       "      <td>10.933</td>\n",
       "      <td>0.954</td>\n",
       "      <td>72.700</td>\n",
       "      <td>0.946</td>\n",
       "      <td>0.179</td>\n",
       "      <td>0.030</td>\n",
       "    </tr>\n",
       "    <tr>\n",
       "      <th>2</th>\n",
       "      <td>3</td>\n",
       "      <td>Switzerland</td>\n",
       "      <td>7.571</td>\n",
       "      <td>11.117</td>\n",
       "      <td>0.942</td>\n",
       "      <td>74.400</td>\n",
       "      <td>0.919</td>\n",
       "      <td>0.292</td>\n",
       "      <td>0.025</td>\n",
       "    </tr>\n",
       "    <tr>\n",
       "      <th>3</th>\n",
       "      <td>4</td>\n",
       "      <td>Iceland</td>\n",
       "      <td>7.554</td>\n",
       "      <td>10.878</td>\n",
       "      <td>0.983</td>\n",
       "      <td>73.000</td>\n",
       "      <td>0.955</td>\n",
       "      <td>0.673</td>\n",
       "      <td>0.160</td>\n",
       "    </tr>\n",
       "    <tr>\n",
       "      <th>4</th>\n",
       "      <td>5</td>\n",
       "      <td>Netherlands</td>\n",
       "      <td>7.464</td>\n",
       "      <td>10.932</td>\n",
       "      <td>0.942</td>\n",
       "      <td>72.400</td>\n",
       "      <td>0.913</td>\n",
       "      <td>0.338</td>\n",
       "      <td>0.175</td>\n",
       "    </tr>\n",
       "    <tr>\n",
       "      <th>...</th>\n",
       "      <td>...</td>\n",
       "      <td>...</td>\n",
       "      <td>...</td>\n",
       "      <td>...</td>\n",
       "      <td>...</td>\n",
       "      <td>...</td>\n",
       "      <td>...</td>\n",
       "      <td>...</td>\n",
       "      <td>...</td>\n",
       "    </tr>\n",
       "    <tr>\n",
       "      <th>144</th>\n",
       "      <td>145</td>\n",
       "      <td>Lesotho</td>\n",
       "      <td>3.512</td>\n",
       "      <td>7.926</td>\n",
       "      <td>0.787</td>\n",
       "      <td>48.700</td>\n",
       "      <td>0.715</td>\n",
       "      <td>0.915</td>\n",
       "      <td>-0.131</td>\n",
       "    </tr>\n",
       "    <tr>\n",
       "      <th>145</th>\n",
       "      <td>146</td>\n",
       "      <td>Botswana</td>\n",
       "      <td>3.467</td>\n",
       "      <td>9.782</td>\n",
       "      <td>0.784</td>\n",
       "      <td>59.269</td>\n",
       "      <td>0.824</td>\n",
       "      <td>0.801</td>\n",
       "      <td>-0.246</td>\n",
       "    </tr>\n",
       "    <tr>\n",
       "      <th>146</th>\n",
       "      <td>147</td>\n",
       "      <td>Rwanda</td>\n",
       "      <td>3.415</td>\n",
       "      <td>7.676</td>\n",
       "      <td>0.552</td>\n",
       "      <td>61.400</td>\n",
       "      <td>0.897</td>\n",
       "      <td>0.167</td>\n",
       "      <td>0.061</td>\n",
       "    </tr>\n",
       "    <tr>\n",
       "      <th>147</th>\n",
       "      <td>148</td>\n",
       "      <td>Zimbabwe</td>\n",
       "      <td>3.145</td>\n",
       "      <td>7.943</td>\n",
       "      <td>0.750</td>\n",
       "      <td>56.201</td>\n",
       "      <td>0.677</td>\n",
       "      <td>0.821</td>\n",
       "      <td>-0.047</td>\n",
       "    </tr>\n",
       "    <tr>\n",
       "      <th>148</th>\n",
       "      <td>149</td>\n",
       "      <td>Afghanistan</td>\n",
       "      <td>2.523</td>\n",
       "      <td>7.695</td>\n",
       "      <td>0.463</td>\n",
       "      <td>52.493</td>\n",
       "      <td>0.382</td>\n",
       "      <td>0.924</td>\n",
       "      <td>-0.102</td>\n",
       "    </tr>\n",
       "  </tbody>\n",
       "</table>\n",
       "<p>149 rows × 9 columns</p>\n",
       "</div>"
      ],
      "text/plain": [
       "     Rank      Country  Score  Economy  Social Support  Life Expectancy  \\\n",
       "0       1      Finland  7.842   10.775           0.954           72.000   \n",
       "1       2      Denmark  7.620   10.933           0.954           72.700   \n",
       "2       3  Switzerland  7.571   11.117           0.942           74.400   \n",
       "3       4      Iceland  7.554   10.878           0.983           73.000   \n",
       "4       5  Netherlands  7.464   10.932           0.942           72.400   \n",
       "..    ...          ...    ...      ...             ...              ...   \n",
       "144   145      Lesotho  3.512    7.926           0.787           48.700   \n",
       "145   146     Botswana  3.467    9.782           0.784           59.269   \n",
       "146   147       Rwanda  3.415    7.676           0.552           61.400   \n",
       "147   148     Zimbabwe  3.145    7.943           0.750           56.201   \n",
       "148   149  Afghanistan  2.523    7.695           0.463           52.493   \n",
       "\n",
       "     Freedom  Government Trust  Generosity  \n",
       "0      0.949             0.186      -0.098  \n",
       "1      0.946             0.179       0.030  \n",
       "2      0.919             0.292       0.025  \n",
       "3      0.955             0.673       0.160  \n",
       "4      0.913             0.338       0.175  \n",
       "..       ...               ...         ...  \n",
       "144    0.715             0.915      -0.131  \n",
       "145    0.824             0.801      -0.246  \n",
       "146    0.897             0.167       0.061  \n",
       "147    0.677             0.821      -0.047  \n",
       "148    0.382             0.924      -0.102  \n",
       "\n",
       "[149 rows x 9 columns]"
      ]
     },
     "execution_count": 113,
     "metadata": {},
     "output_type": "execute_result"
    }
   ],
   "source": [
    "# reorder columns\n",
    "df21[['Rank','Country','Score','Economy','Social Support','Life Expectancy','Freedom','Government Trust','Generosity']]"
   ]
  },
  {
   "cell_type": "markdown",
   "id": "0c57b03a",
   "metadata": {},
   "source": [
    "# Derive New Column for Year"
   ]
  },
  {
   "cell_type": "code",
   "execution_count": 66,
   "id": "30408ce5",
   "metadata": {
    "ExecuteTime": {
     "end_time": "2022-08-17T04:25:56.053860Z",
     "start_time": "2022-08-17T04:25:56.038865Z"
    }
   },
   "outputs": [],
   "source": [
    "# add column year to df15\n",
    "df15['Year'] = 2015"
   ]
  },
  {
   "cell_type": "code",
   "execution_count": 67,
   "id": "4da36466",
   "metadata": {
    "ExecuteTime": {
     "end_time": "2022-08-17T04:25:56.269318Z",
     "start_time": "2022-08-17T04:25:56.255038Z"
    }
   },
   "outputs": [
    {
     "data": {
      "text/plain": [
       "count     158.0\n",
       "mean     2015.0\n",
       "std         0.0\n",
       "min      2015.0\n",
       "25%      2015.0\n",
       "50%      2015.0\n",
       "75%      2015.0\n",
       "max      2015.0\n",
       "Name: Year, dtype: float64"
      ]
     },
     "execution_count": 67,
     "metadata": {},
     "output_type": "execute_result"
    }
   ],
   "source": [
    "# check output\n",
    "df15['Year'].describe()"
   ]
  },
  {
   "cell_type": "code",
   "execution_count": 68,
   "id": "1de1eab6",
   "metadata": {
    "ExecuteTime": {
     "end_time": "2022-08-17T04:25:56.440138Z",
     "start_time": "2022-08-17T04:25:56.429067Z"
    }
   },
   "outputs": [],
   "source": [
    "# add year column to 2016\n",
    "df16['Year'] = 2016"
   ]
  },
  {
   "cell_type": "code",
   "execution_count": 69,
   "id": "2b560bb8",
   "metadata": {
    "ExecuteTime": {
     "end_time": "2022-08-17T04:25:56.651889Z",
     "start_time": "2022-08-17T04:25:56.612740Z"
    }
   },
   "outputs": [
    {
     "data": {
      "text/html": [
       "<div>\n",
       "<style scoped>\n",
       "    .dataframe tbody tr th:only-of-type {\n",
       "        vertical-align: middle;\n",
       "    }\n",
       "\n",
       "    .dataframe tbody tr th {\n",
       "        vertical-align: top;\n",
       "    }\n",
       "\n",
       "    .dataframe thead th {\n",
       "        text-align: right;\n",
       "    }\n",
       "</style>\n",
       "<table border=\"1\" class=\"dataframe\">\n",
       "  <thead>\n",
       "    <tr style=\"text-align: right;\">\n",
       "      <th></th>\n",
       "      <th>Rank</th>\n",
       "      <th>Country</th>\n",
       "      <th>Score</th>\n",
       "      <th>Economy</th>\n",
       "      <th>Social Support</th>\n",
       "      <th>Life Expectancy</th>\n",
       "      <th>Freedom</th>\n",
       "      <th>Government Trust</th>\n",
       "      <th>Generosity</th>\n",
       "      <th>Year</th>\n",
       "    </tr>\n",
       "  </thead>\n",
       "  <tbody>\n",
       "    <tr>\n",
       "      <th>0</th>\n",
       "      <td>1</td>\n",
       "      <td>Denmark</td>\n",
       "      <td>7.526</td>\n",
       "      <td>1.44178</td>\n",
       "      <td>1.16374</td>\n",
       "      <td>0.79504</td>\n",
       "      <td>0.57941</td>\n",
       "      <td>0.44453</td>\n",
       "      <td>0.36171</td>\n",
       "      <td>2016</td>\n",
       "    </tr>\n",
       "    <tr>\n",
       "      <th>1</th>\n",
       "      <td>2</td>\n",
       "      <td>Switzerland</td>\n",
       "      <td>7.509</td>\n",
       "      <td>1.52733</td>\n",
       "      <td>1.14524</td>\n",
       "      <td>0.86303</td>\n",
       "      <td>0.58557</td>\n",
       "      <td>0.41203</td>\n",
       "      <td>0.28083</td>\n",
       "      <td>2016</td>\n",
       "    </tr>\n",
       "    <tr>\n",
       "      <th>2</th>\n",
       "      <td>3</td>\n",
       "      <td>Iceland</td>\n",
       "      <td>7.501</td>\n",
       "      <td>1.42666</td>\n",
       "      <td>1.18326</td>\n",
       "      <td>0.86733</td>\n",
       "      <td>0.56624</td>\n",
       "      <td>0.14975</td>\n",
       "      <td>0.47678</td>\n",
       "      <td>2016</td>\n",
       "    </tr>\n",
       "    <tr>\n",
       "      <th>3</th>\n",
       "      <td>4</td>\n",
       "      <td>Norway</td>\n",
       "      <td>7.498</td>\n",
       "      <td>1.57744</td>\n",
       "      <td>1.12690</td>\n",
       "      <td>0.79579</td>\n",
       "      <td>0.59609</td>\n",
       "      <td>0.35776</td>\n",
       "      <td>0.37895</td>\n",
       "      <td>2016</td>\n",
       "    </tr>\n",
       "    <tr>\n",
       "      <th>4</th>\n",
       "      <td>5</td>\n",
       "      <td>Finland</td>\n",
       "      <td>7.413</td>\n",
       "      <td>1.40598</td>\n",
       "      <td>1.13464</td>\n",
       "      <td>0.81091</td>\n",
       "      <td>0.57104</td>\n",
       "      <td>0.41004</td>\n",
       "      <td>0.25492</td>\n",
       "      <td>2016</td>\n",
       "    </tr>\n",
       "  </tbody>\n",
       "</table>\n",
       "</div>"
      ],
      "text/plain": [
       "   Rank      Country  Score  Economy  Social Support  Life Expectancy  \\\n",
       "0     1      Denmark  7.526  1.44178         1.16374          0.79504   \n",
       "1     2  Switzerland  7.509  1.52733         1.14524          0.86303   \n",
       "2     3      Iceland  7.501  1.42666         1.18326          0.86733   \n",
       "3     4       Norway  7.498  1.57744         1.12690          0.79579   \n",
       "4     5      Finland  7.413  1.40598         1.13464          0.81091   \n",
       "\n",
       "   Freedom  Government Trust  Generosity  Year  \n",
       "0  0.57941           0.44453     0.36171  2016  \n",
       "1  0.58557           0.41203     0.28083  2016  \n",
       "2  0.56624           0.14975     0.47678  2016  \n",
       "3  0.59609           0.35776     0.37895  2016  \n",
       "4  0.57104           0.41004     0.25492  2016  "
      ]
     },
     "execution_count": 69,
     "metadata": {},
     "output_type": "execute_result"
    }
   ],
   "source": [
    "df16.head()"
   ]
  },
  {
   "cell_type": "code",
   "execution_count": 70,
   "id": "016aa7f1",
   "metadata": {
    "ExecuteTime": {
     "end_time": "2022-08-17T04:25:56.779284Z",
     "start_time": "2022-08-17T04:25:56.771271Z"
    }
   },
   "outputs": [],
   "source": [
    "df17['Year'] = 2017"
   ]
  },
  {
   "cell_type": "code",
   "execution_count": 71,
   "id": "2617e388",
   "metadata": {
    "ExecuteTime": {
     "end_time": "2022-08-17T04:25:56.963789Z",
     "start_time": "2022-08-17T04:25:56.928888Z"
    }
   },
   "outputs": [
    {
     "data": {
      "text/html": [
       "<div>\n",
       "<style scoped>\n",
       "    .dataframe tbody tr th:only-of-type {\n",
       "        vertical-align: middle;\n",
       "    }\n",
       "\n",
       "    .dataframe tbody tr th {\n",
       "        vertical-align: top;\n",
       "    }\n",
       "\n",
       "    .dataframe thead th {\n",
       "        text-align: right;\n",
       "    }\n",
       "</style>\n",
       "<table border=\"1\" class=\"dataframe\">\n",
       "  <thead>\n",
       "    <tr style=\"text-align: right;\">\n",
       "      <th></th>\n",
       "      <th>Rank</th>\n",
       "      <th>Country</th>\n",
       "      <th>Score</th>\n",
       "      <th>Economy</th>\n",
       "      <th>Social Support</th>\n",
       "      <th>Life Expectancy</th>\n",
       "      <th>Freedom</th>\n",
       "      <th>Government Trust</th>\n",
       "      <th>Generosity</th>\n",
       "      <th>Year</th>\n",
       "    </tr>\n",
       "  </thead>\n",
       "  <tbody>\n",
       "    <tr>\n",
       "      <th>0</th>\n",
       "      <td>1</td>\n",
       "      <td>Norway</td>\n",
       "      <td>7.537</td>\n",
       "      <td>1.616463</td>\n",
       "      <td>1.533524</td>\n",
       "      <td>0.796667</td>\n",
       "      <td>0.635423</td>\n",
       "      <td>0.315964</td>\n",
       "      <td>0.362012</td>\n",
       "      <td>2017</td>\n",
       "    </tr>\n",
       "    <tr>\n",
       "      <th>1</th>\n",
       "      <td>2</td>\n",
       "      <td>Denmark</td>\n",
       "      <td>7.522</td>\n",
       "      <td>1.482383</td>\n",
       "      <td>1.551122</td>\n",
       "      <td>0.792566</td>\n",
       "      <td>0.626007</td>\n",
       "      <td>0.400770</td>\n",
       "      <td>0.355280</td>\n",
       "      <td>2017</td>\n",
       "    </tr>\n",
       "    <tr>\n",
       "      <th>2</th>\n",
       "      <td>3</td>\n",
       "      <td>Iceland</td>\n",
       "      <td>7.504</td>\n",
       "      <td>1.480633</td>\n",
       "      <td>1.610574</td>\n",
       "      <td>0.833552</td>\n",
       "      <td>0.627163</td>\n",
       "      <td>0.153527</td>\n",
       "      <td>0.475540</td>\n",
       "      <td>2017</td>\n",
       "    </tr>\n",
       "    <tr>\n",
       "      <th>3</th>\n",
       "      <td>4</td>\n",
       "      <td>Switzerland</td>\n",
       "      <td>7.494</td>\n",
       "      <td>1.564980</td>\n",
       "      <td>1.516912</td>\n",
       "      <td>0.858131</td>\n",
       "      <td>0.620071</td>\n",
       "      <td>0.367007</td>\n",
       "      <td>0.290549</td>\n",
       "      <td>2017</td>\n",
       "    </tr>\n",
       "    <tr>\n",
       "      <th>4</th>\n",
       "      <td>5</td>\n",
       "      <td>Finland</td>\n",
       "      <td>7.469</td>\n",
       "      <td>1.443572</td>\n",
       "      <td>1.540247</td>\n",
       "      <td>0.809158</td>\n",
       "      <td>0.617951</td>\n",
       "      <td>0.382612</td>\n",
       "      <td>0.245483</td>\n",
       "      <td>2017</td>\n",
       "    </tr>\n",
       "  </tbody>\n",
       "</table>\n",
       "</div>"
      ],
      "text/plain": [
       "   Rank      Country  Score   Economy  Social Support  Life Expectancy  \\\n",
       "0     1       Norway  7.537  1.616463        1.533524         0.796667   \n",
       "1     2      Denmark  7.522  1.482383        1.551122         0.792566   \n",
       "2     3      Iceland  7.504  1.480633        1.610574         0.833552   \n",
       "3     4  Switzerland  7.494  1.564980        1.516912         0.858131   \n",
       "4     5      Finland  7.469  1.443572        1.540247         0.809158   \n",
       "\n",
       "    Freedom  Government Trust  Generosity  Year  \n",
       "0  0.635423          0.315964    0.362012  2017  \n",
       "1  0.626007          0.400770    0.355280  2017  \n",
       "2  0.627163          0.153527    0.475540  2017  \n",
       "3  0.620071          0.367007    0.290549  2017  \n",
       "4  0.617951          0.382612    0.245483  2017  "
      ]
     },
     "execution_count": 71,
     "metadata": {},
     "output_type": "execute_result"
    }
   ],
   "source": [
    "# check output\n",
    "df17.head()"
   ]
  },
  {
   "cell_type": "code",
   "execution_count": 72,
   "id": "6aaed2bb",
   "metadata": {
    "ExecuteTime": {
     "end_time": "2022-08-17T04:25:57.119661Z",
     "start_time": "2022-08-17T04:25:57.103819Z"
    }
   },
   "outputs": [],
   "source": [
    "df18['Year'] = 2018"
   ]
  },
  {
   "cell_type": "code",
   "execution_count": 73,
   "id": "79780535",
   "metadata": {
    "ExecuteTime": {
     "end_time": "2022-08-17T04:25:57.319731Z",
     "start_time": "2022-08-17T04:25:57.294282Z"
    }
   },
   "outputs": [
    {
     "data": {
      "text/html": [
       "<div>\n",
       "<style scoped>\n",
       "    .dataframe tbody tr th:only-of-type {\n",
       "        vertical-align: middle;\n",
       "    }\n",
       "\n",
       "    .dataframe tbody tr th {\n",
       "        vertical-align: top;\n",
       "    }\n",
       "\n",
       "    .dataframe thead th {\n",
       "        text-align: right;\n",
       "    }\n",
       "</style>\n",
       "<table border=\"1\" class=\"dataframe\">\n",
       "  <thead>\n",
       "    <tr style=\"text-align: right;\">\n",
       "      <th></th>\n",
       "      <th>Rank</th>\n",
       "      <th>Country</th>\n",
       "      <th>Score</th>\n",
       "      <th>Economy</th>\n",
       "      <th>Social Support</th>\n",
       "      <th>Life Expectancy</th>\n",
       "      <th>Freedom</th>\n",
       "      <th>Government Trust</th>\n",
       "      <th>Generosity</th>\n",
       "      <th>Year</th>\n",
       "    </tr>\n",
       "  </thead>\n",
       "  <tbody>\n",
       "    <tr>\n",
       "      <th>0</th>\n",
       "      <td>1</td>\n",
       "      <td>Finland</td>\n",
       "      <td>7.632</td>\n",
       "      <td>1.305</td>\n",
       "      <td>1.592</td>\n",
       "      <td>0.874</td>\n",
       "      <td>0.681</td>\n",
       "      <td>0.393</td>\n",
       "      <td>0.202</td>\n",
       "      <td>2018</td>\n",
       "    </tr>\n",
       "    <tr>\n",
       "      <th>1</th>\n",
       "      <td>2</td>\n",
       "      <td>Norway</td>\n",
       "      <td>7.594</td>\n",
       "      <td>1.456</td>\n",
       "      <td>1.582</td>\n",
       "      <td>0.861</td>\n",
       "      <td>0.686</td>\n",
       "      <td>0.340</td>\n",
       "      <td>0.286</td>\n",
       "      <td>2018</td>\n",
       "    </tr>\n",
       "    <tr>\n",
       "      <th>2</th>\n",
       "      <td>3</td>\n",
       "      <td>Denmark</td>\n",
       "      <td>7.555</td>\n",
       "      <td>1.351</td>\n",
       "      <td>1.590</td>\n",
       "      <td>0.868</td>\n",
       "      <td>0.683</td>\n",
       "      <td>0.408</td>\n",
       "      <td>0.284</td>\n",
       "      <td>2018</td>\n",
       "    </tr>\n",
       "    <tr>\n",
       "      <th>3</th>\n",
       "      <td>4</td>\n",
       "      <td>Iceland</td>\n",
       "      <td>7.495</td>\n",
       "      <td>1.343</td>\n",
       "      <td>1.644</td>\n",
       "      <td>0.914</td>\n",
       "      <td>0.677</td>\n",
       "      <td>0.138</td>\n",
       "      <td>0.353</td>\n",
       "      <td>2018</td>\n",
       "    </tr>\n",
       "    <tr>\n",
       "      <th>4</th>\n",
       "      <td>5</td>\n",
       "      <td>Switzerland</td>\n",
       "      <td>7.487</td>\n",
       "      <td>1.420</td>\n",
       "      <td>1.549</td>\n",
       "      <td>0.927</td>\n",
       "      <td>0.660</td>\n",
       "      <td>0.357</td>\n",
       "      <td>0.256</td>\n",
       "      <td>2018</td>\n",
       "    </tr>\n",
       "  </tbody>\n",
       "</table>\n",
       "</div>"
      ],
      "text/plain": [
       "   Rank      Country  Score  Economy  Social Support  Life Expectancy  \\\n",
       "0     1      Finland  7.632    1.305           1.592            0.874   \n",
       "1     2       Norway  7.594    1.456           1.582            0.861   \n",
       "2     3      Denmark  7.555    1.351           1.590            0.868   \n",
       "3     4      Iceland  7.495    1.343           1.644            0.914   \n",
       "4     5  Switzerland  7.487    1.420           1.549            0.927   \n",
       "\n",
       "   Freedom  Government Trust  Generosity  Year  \n",
       "0    0.681             0.393       0.202  2018  \n",
       "1    0.686             0.340       0.286  2018  \n",
       "2    0.683             0.408       0.284  2018  \n",
       "3    0.677             0.138       0.353  2018  \n",
       "4    0.660             0.357       0.256  2018  "
      ]
     },
     "execution_count": 73,
     "metadata": {},
     "output_type": "execute_result"
    }
   ],
   "source": [
    "df18.head()"
   ]
  },
  {
   "cell_type": "code",
   "execution_count": 74,
   "id": "5fa08e9e",
   "metadata": {
    "ExecuteTime": {
     "end_time": "2022-08-17T04:25:57.552014Z",
     "start_time": "2022-08-17T04:25:57.543974Z"
    }
   },
   "outputs": [],
   "source": [
    "df19['Year'] = 2019"
   ]
  },
  {
   "cell_type": "code",
   "execution_count": 75,
   "id": "6e7615e3",
   "metadata": {
    "ExecuteTime": {
     "end_time": "2022-08-17T04:25:57.729552Z",
     "start_time": "2022-08-17T04:25:57.697400Z"
    }
   },
   "outputs": [
    {
     "data": {
      "text/html": [
       "<div>\n",
       "<style scoped>\n",
       "    .dataframe tbody tr th:only-of-type {\n",
       "        vertical-align: middle;\n",
       "    }\n",
       "\n",
       "    .dataframe tbody tr th {\n",
       "        vertical-align: top;\n",
       "    }\n",
       "\n",
       "    .dataframe thead th {\n",
       "        text-align: right;\n",
       "    }\n",
       "</style>\n",
       "<table border=\"1\" class=\"dataframe\">\n",
       "  <thead>\n",
       "    <tr style=\"text-align: right;\">\n",
       "      <th></th>\n",
       "      <th>Rank</th>\n",
       "      <th>Country</th>\n",
       "      <th>Score</th>\n",
       "      <th>Economy</th>\n",
       "      <th>Social Support</th>\n",
       "      <th>Life Expectancy</th>\n",
       "      <th>Freedom</th>\n",
       "      <th>Government Trust</th>\n",
       "      <th>Generosity</th>\n",
       "      <th>Year</th>\n",
       "    </tr>\n",
       "  </thead>\n",
       "  <tbody>\n",
       "    <tr>\n",
       "      <th>0</th>\n",
       "      <td>1</td>\n",
       "      <td>Finland</td>\n",
       "      <td>7.769</td>\n",
       "      <td>1.340</td>\n",
       "      <td>1.587</td>\n",
       "      <td>0.986</td>\n",
       "      <td>0.596</td>\n",
       "      <td>0.393</td>\n",
       "      <td>0.153</td>\n",
       "      <td>2019</td>\n",
       "    </tr>\n",
       "    <tr>\n",
       "      <th>1</th>\n",
       "      <td>2</td>\n",
       "      <td>Denmark</td>\n",
       "      <td>7.600</td>\n",
       "      <td>1.383</td>\n",
       "      <td>1.573</td>\n",
       "      <td>0.996</td>\n",
       "      <td>0.592</td>\n",
       "      <td>0.410</td>\n",
       "      <td>0.252</td>\n",
       "      <td>2019</td>\n",
       "    </tr>\n",
       "    <tr>\n",
       "      <th>2</th>\n",
       "      <td>3</td>\n",
       "      <td>Norway</td>\n",
       "      <td>7.554</td>\n",
       "      <td>1.488</td>\n",
       "      <td>1.582</td>\n",
       "      <td>1.028</td>\n",
       "      <td>0.603</td>\n",
       "      <td>0.341</td>\n",
       "      <td>0.271</td>\n",
       "      <td>2019</td>\n",
       "    </tr>\n",
       "    <tr>\n",
       "      <th>3</th>\n",
       "      <td>4</td>\n",
       "      <td>Iceland</td>\n",
       "      <td>7.494</td>\n",
       "      <td>1.380</td>\n",
       "      <td>1.624</td>\n",
       "      <td>1.026</td>\n",
       "      <td>0.591</td>\n",
       "      <td>0.118</td>\n",
       "      <td>0.354</td>\n",
       "      <td>2019</td>\n",
       "    </tr>\n",
       "    <tr>\n",
       "      <th>4</th>\n",
       "      <td>5</td>\n",
       "      <td>Netherlands</td>\n",
       "      <td>7.488</td>\n",
       "      <td>1.396</td>\n",
       "      <td>1.522</td>\n",
       "      <td>0.999</td>\n",
       "      <td>0.557</td>\n",
       "      <td>0.298</td>\n",
       "      <td>0.322</td>\n",
       "      <td>2019</td>\n",
       "    </tr>\n",
       "  </tbody>\n",
       "</table>\n",
       "</div>"
      ],
      "text/plain": [
       "   Rank      Country  Score  Economy  Social Support  Life Expectancy  \\\n",
       "0     1      Finland  7.769    1.340           1.587            0.986   \n",
       "1     2      Denmark  7.600    1.383           1.573            0.996   \n",
       "2     3       Norway  7.554    1.488           1.582            1.028   \n",
       "3     4      Iceland  7.494    1.380           1.624            1.026   \n",
       "4     5  Netherlands  7.488    1.396           1.522            0.999   \n",
       "\n",
       "   Freedom  Government Trust  Generosity  Year  \n",
       "0    0.596             0.393       0.153  2019  \n",
       "1    0.592             0.410       0.252  2019  \n",
       "2    0.603             0.341       0.271  2019  \n",
       "3    0.591             0.118       0.354  2019  \n",
       "4    0.557             0.298       0.322  2019  "
      ]
     },
     "execution_count": 75,
     "metadata": {},
     "output_type": "execute_result"
    }
   ],
   "source": [
    "df19.head()"
   ]
  },
  {
   "cell_type": "code",
   "execution_count": 76,
   "id": "7a96808c",
   "metadata": {
    "ExecuteTime": {
     "end_time": "2022-08-17T04:25:57.882618Z",
     "start_time": "2022-08-17T04:25:57.868485Z"
    }
   },
   "outputs": [],
   "source": [
    "df20['Year'] = 2020"
   ]
  },
  {
   "cell_type": "code",
   "execution_count": 77,
   "id": "f96b8313",
   "metadata": {
    "ExecuteTime": {
     "end_time": "2022-08-17T04:25:58.068296Z",
     "start_time": "2022-08-17T04:25:58.038386Z"
    }
   },
   "outputs": [
    {
     "data": {
      "text/html": [
       "<div>\n",
       "<style scoped>\n",
       "    .dataframe tbody tr th:only-of-type {\n",
       "        vertical-align: middle;\n",
       "    }\n",
       "\n",
       "    .dataframe tbody tr th {\n",
       "        vertical-align: top;\n",
       "    }\n",
       "\n",
       "    .dataframe thead th {\n",
       "        text-align: right;\n",
       "    }\n",
       "</style>\n",
       "<table border=\"1\" class=\"dataframe\">\n",
       "  <thead>\n",
       "    <tr style=\"text-align: right;\">\n",
       "      <th></th>\n",
       "      <th>Rank</th>\n",
       "      <th>Country</th>\n",
       "      <th>Score</th>\n",
       "      <th>Economy</th>\n",
       "      <th>Social Support</th>\n",
       "      <th>Life Expectancy</th>\n",
       "      <th>Freedom</th>\n",
       "      <th>Government Trust</th>\n",
       "      <th>Generosity</th>\n",
       "      <th>Year</th>\n",
       "    </tr>\n",
       "  </thead>\n",
       "  <tbody>\n",
       "    <tr>\n",
       "      <th>0</th>\n",
       "      <td>1</td>\n",
       "      <td>Finland</td>\n",
       "      <td>7.8087</td>\n",
       "      <td>10.639267</td>\n",
       "      <td>0.954330</td>\n",
       "      <td>71.900825</td>\n",
       "      <td>0.949172</td>\n",
       "      <td>0.195445</td>\n",
       "      <td>-0.059482</td>\n",
       "      <td>2020</td>\n",
       "    </tr>\n",
       "    <tr>\n",
       "      <th>1</th>\n",
       "      <td>2</td>\n",
       "      <td>Denmark</td>\n",
       "      <td>7.6456</td>\n",
       "      <td>10.774001</td>\n",
       "      <td>0.955991</td>\n",
       "      <td>72.402504</td>\n",
       "      <td>0.951444</td>\n",
       "      <td>0.168489</td>\n",
       "      <td>0.066202</td>\n",
       "      <td>2020</td>\n",
       "    </tr>\n",
       "    <tr>\n",
       "      <th>2</th>\n",
       "      <td>3</td>\n",
       "      <td>Switzerland</td>\n",
       "      <td>7.5599</td>\n",
       "      <td>10.979933</td>\n",
       "      <td>0.942847</td>\n",
       "      <td>74.102448</td>\n",
       "      <td>0.921337</td>\n",
       "      <td>0.303728</td>\n",
       "      <td>0.105911</td>\n",
       "      <td>2020</td>\n",
       "    </tr>\n",
       "    <tr>\n",
       "      <th>3</th>\n",
       "      <td>4</td>\n",
       "      <td>Iceland</td>\n",
       "      <td>7.5045</td>\n",
       "      <td>10.772559</td>\n",
       "      <td>0.974670</td>\n",
       "      <td>73.000000</td>\n",
       "      <td>0.948892</td>\n",
       "      <td>0.711710</td>\n",
       "      <td>0.246944</td>\n",
       "      <td>2020</td>\n",
       "    </tr>\n",
       "    <tr>\n",
       "      <th>4</th>\n",
       "      <td>5</td>\n",
       "      <td>Norway</td>\n",
       "      <td>7.4880</td>\n",
       "      <td>11.087804</td>\n",
       "      <td>0.952487</td>\n",
       "      <td>73.200783</td>\n",
       "      <td>0.955750</td>\n",
       "      <td>0.263218</td>\n",
       "      <td>0.134533</td>\n",
       "      <td>2020</td>\n",
       "    </tr>\n",
       "  </tbody>\n",
       "</table>\n",
       "</div>"
      ],
      "text/plain": [
       "   Rank      Country   Score    Economy  Social Support  Life Expectancy  \\\n",
       "0     1      Finland  7.8087  10.639267        0.954330        71.900825   \n",
       "1     2      Denmark  7.6456  10.774001        0.955991        72.402504   \n",
       "2     3  Switzerland  7.5599  10.979933        0.942847        74.102448   \n",
       "3     4      Iceland  7.5045  10.772559        0.974670        73.000000   \n",
       "4     5       Norway  7.4880  11.087804        0.952487        73.200783   \n",
       "\n",
       "    Freedom  Government Trust  Generosity  Year  \n",
       "0  0.949172          0.195445   -0.059482  2020  \n",
       "1  0.951444          0.168489    0.066202  2020  \n",
       "2  0.921337          0.303728    0.105911  2020  \n",
       "3  0.948892          0.711710    0.246944  2020  \n",
       "4  0.955750          0.263218    0.134533  2020  "
      ]
     },
     "execution_count": 77,
     "metadata": {},
     "output_type": "execute_result"
    }
   ],
   "source": [
    "df20.head()"
   ]
  },
  {
   "cell_type": "code",
   "execution_count": 117,
   "id": "14a3ace8",
   "metadata": {
    "ExecuteTime": {
     "end_time": "2022-08-17T04:46:30.362446Z",
     "start_time": "2022-08-17T04:46:30.349499Z"
    }
   },
   "outputs": [],
   "source": [
    "df21['Year'] = 2021"
   ]
  },
  {
   "cell_type": "markdown",
   "id": "5c55e7fc",
   "metadata": {},
   "source": [
    "# Merge Year Data Sets"
   ]
  },
  {
   "cell_type": "code",
   "execution_count": 118,
   "id": "08a051bf",
   "metadata": {
    "ExecuteTime": {
     "end_time": "2022-08-17T04:46:35.091783Z",
     "start_time": "2022-08-17T04:46:35.074736Z"
    }
   },
   "outputs": [],
   "source": [
    "# combine dataframes\n",
    "frames = [df15, df16, df17, df18, df19, df20, df21]"
   ]
  },
  {
   "cell_type": "code",
   "execution_count": 119,
   "id": "406d2959",
   "metadata": {
    "ExecuteTime": {
     "end_time": "2022-08-17T04:46:36.150585Z",
     "start_time": "2022-08-17T04:46:36.136119Z"
    }
   },
   "outputs": [],
   "source": [
    "# concat data\n",
    "dfhappy = pd.concat(frames)"
   ]
  },
  {
   "cell_type": "code",
   "execution_count": 120,
   "id": "3387998a",
   "metadata": {
    "ExecuteTime": {
     "end_time": "2022-08-17T04:46:36.607415Z",
     "start_time": "2022-08-17T04:46:36.585937Z"
    }
   },
   "outputs": [
    {
     "data": {
      "text/plain": [
       "(1084, 10)"
      ]
     },
     "execution_count": 120,
     "metadata": {},
     "output_type": "execute_result"
    }
   ],
   "source": [
    "dfhappy.shape"
   ]
  },
  {
   "cell_type": "code",
   "execution_count": 121,
   "id": "b5cf2262",
   "metadata": {
    "ExecuteTime": {
     "end_time": "2022-08-17T04:46:37.977900Z",
     "start_time": "2022-08-17T04:46:37.958276Z"
    }
   },
   "outputs": [
    {
     "data": {
      "text/plain": [
       "Index(['Rank', 'Country', 'Score', 'Economy', 'Social Support',\n",
       "       'Life Expectancy', 'Freedom', 'Government Trust', 'Generosity', 'Year'],\n",
       "      dtype='object')"
      ]
     },
     "execution_count": 121,
     "metadata": {},
     "output_type": "execute_result"
    }
   ],
   "source": [
    "dfhappy.columns"
   ]
  },
  {
   "cell_type": "code",
   "execution_count": 122,
   "id": "77a5b4ac",
   "metadata": {
    "ExecuteTime": {
     "end_time": "2022-08-17T04:46:40.432131Z",
     "start_time": "2022-08-17T04:46:40.386362Z"
    }
   },
   "outputs": [
    {
     "data": {
      "text/html": [
       "<div>\n",
       "<style scoped>\n",
       "    .dataframe tbody tr th:only-of-type {\n",
       "        vertical-align: middle;\n",
       "    }\n",
       "\n",
       "    .dataframe tbody tr th {\n",
       "        vertical-align: top;\n",
       "    }\n",
       "\n",
       "    .dataframe thead th {\n",
       "        text-align: right;\n",
       "    }\n",
       "</style>\n",
       "<table border=\"1\" class=\"dataframe\">\n",
       "  <thead>\n",
       "    <tr style=\"text-align: right;\">\n",
       "      <th></th>\n",
       "      <th>Rank</th>\n",
       "      <th>Country</th>\n",
       "      <th>Score</th>\n",
       "      <th>Economy</th>\n",
       "      <th>Social Support</th>\n",
       "      <th>Life Expectancy</th>\n",
       "      <th>Freedom</th>\n",
       "      <th>Government Trust</th>\n",
       "      <th>Generosity</th>\n",
       "      <th>Year</th>\n",
       "    </tr>\n",
       "  </thead>\n",
       "  <tbody>\n",
       "    <tr>\n",
       "      <th>0</th>\n",
       "      <td>1</td>\n",
       "      <td>Switzerland</td>\n",
       "      <td>7.587</td>\n",
       "      <td>1.39651</td>\n",
       "      <td>1.34951</td>\n",
       "      <td>0.94143</td>\n",
       "      <td>0.66557</td>\n",
       "      <td>0.41978</td>\n",
       "      <td>0.29678</td>\n",
       "      <td>2015</td>\n",
       "    </tr>\n",
       "    <tr>\n",
       "      <th>1</th>\n",
       "      <td>2</td>\n",
       "      <td>Iceland</td>\n",
       "      <td>7.561</td>\n",
       "      <td>1.30232</td>\n",
       "      <td>1.40223</td>\n",
       "      <td>0.94784</td>\n",
       "      <td>0.62877</td>\n",
       "      <td>0.14145</td>\n",
       "      <td>0.43630</td>\n",
       "      <td>2015</td>\n",
       "    </tr>\n",
       "    <tr>\n",
       "      <th>2</th>\n",
       "      <td>3</td>\n",
       "      <td>Denmark</td>\n",
       "      <td>7.527</td>\n",
       "      <td>1.32548</td>\n",
       "      <td>1.36058</td>\n",
       "      <td>0.87464</td>\n",
       "      <td>0.64938</td>\n",
       "      <td>0.48357</td>\n",
       "      <td>0.34139</td>\n",
       "      <td>2015</td>\n",
       "    </tr>\n",
       "    <tr>\n",
       "      <th>3</th>\n",
       "      <td>4</td>\n",
       "      <td>Norway</td>\n",
       "      <td>7.522</td>\n",
       "      <td>1.45900</td>\n",
       "      <td>1.33095</td>\n",
       "      <td>0.88521</td>\n",
       "      <td>0.66973</td>\n",
       "      <td>0.36503</td>\n",
       "      <td>0.34699</td>\n",
       "      <td>2015</td>\n",
       "    </tr>\n",
       "    <tr>\n",
       "      <th>4</th>\n",
       "      <td>5</td>\n",
       "      <td>Canada</td>\n",
       "      <td>7.427</td>\n",
       "      <td>1.32629</td>\n",
       "      <td>1.32261</td>\n",
       "      <td>0.90563</td>\n",
       "      <td>0.63297</td>\n",
       "      <td>0.32957</td>\n",
       "      <td>0.45811</td>\n",
       "      <td>2015</td>\n",
       "    </tr>\n",
       "  </tbody>\n",
       "</table>\n",
       "</div>"
      ],
      "text/plain": [
       "   Rank      Country  Score  Economy  Social Support  Life Expectancy  \\\n",
       "0     1  Switzerland  7.587  1.39651         1.34951          0.94143   \n",
       "1     2      Iceland  7.561  1.30232         1.40223          0.94784   \n",
       "2     3      Denmark  7.527  1.32548         1.36058          0.87464   \n",
       "3     4       Norway  7.522  1.45900         1.33095          0.88521   \n",
       "4     5       Canada  7.427  1.32629         1.32261          0.90563   \n",
       "\n",
       "   Freedom  Government Trust  Generosity  Year  \n",
       "0  0.66557           0.41978     0.29678  2015  \n",
       "1  0.62877           0.14145     0.43630  2015  \n",
       "2  0.64938           0.48357     0.34139  2015  \n",
       "3  0.66973           0.36503     0.34699  2015  \n",
       "4  0.63297           0.32957     0.45811  2015  "
      ]
     },
     "execution_count": 122,
     "metadata": {},
     "output_type": "execute_result"
    }
   ],
   "source": [
    "dfhappy.head()"
   ]
  },
  {
   "cell_type": "code",
   "execution_count": 123,
   "id": "8b47bd43",
   "metadata": {
    "ExecuteTime": {
     "end_time": "2022-08-17T04:46:41.078035Z",
     "start_time": "2022-08-17T04:46:41.053591Z"
    }
   },
   "outputs": [
    {
     "data": {
      "text/plain": [
       "2015    158\n",
       "2016    157\n",
       "2018    156\n",
       "2019    156\n",
       "2017    155\n",
       "2020    153\n",
       "2021    149\n",
       "Name: Year, dtype: int64"
      ]
     },
     "execution_count": 123,
     "metadata": {},
     "output_type": "execute_result"
    }
   ],
   "source": [
    "dfhappy['Year'].value_counts()"
   ]
  },
  {
   "cell_type": "markdown",
   "id": "13aeb0fd",
   "metadata": {},
   "source": [
    "# Clean Data"
   ]
  },
  {
   "cell_type": "code",
   "execution_count": 124,
   "id": "12cacc3b",
   "metadata": {
    "ExecuteTime": {
     "end_time": "2022-08-17T04:46:42.191131Z",
     "start_time": "2022-08-17T04:46:42.175968Z"
    }
   },
   "outputs": [],
   "source": [
    "# check for duplicates\n",
    "df_dups = dfhappy[dfhappy.duplicated()]"
   ]
  },
  {
   "cell_type": "code",
   "execution_count": 125,
   "id": "af81c61e",
   "metadata": {
    "ExecuteTime": {
     "end_time": "2022-08-17T04:46:42.539971Z",
     "start_time": "2022-08-17T04:46:42.516815Z"
    }
   },
   "outputs": [
    {
     "data": {
      "text/html": [
       "<div>\n",
       "<style scoped>\n",
       "    .dataframe tbody tr th:only-of-type {\n",
       "        vertical-align: middle;\n",
       "    }\n",
       "\n",
       "    .dataframe tbody tr th {\n",
       "        vertical-align: top;\n",
       "    }\n",
       "\n",
       "    .dataframe thead th {\n",
       "        text-align: right;\n",
       "    }\n",
       "</style>\n",
       "<table border=\"1\" class=\"dataframe\">\n",
       "  <thead>\n",
       "    <tr style=\"text-align: right;\">\n",
       "      <th></th>\n",
       "      <th>Rank</th>\n",
       "      <th>Country</th>\n",
       "      <th>Score</th>\n",
       "      <th>Economy</th>\n",
       "      <th>Social Support</th>\n",
       "      <th>Life Expectancy</th>\n",
       "      <th>Freedom</th>\n",
       "      <th>Government Trust</th>\n",
       "      <th>Generosity</th>\n",
       "      <th>Year</th>\n",
       "    </tr>\n",
       "  </thead>\n",
       "  <tbody>\n",
       "  </tbody>\n",
       "</table>\n",
       "</div>"
      ],
      "text/plain": [
       "Empty DataFrame\n",
       "Columns: [Rank, Country, Score, Economy, Social Support, Life Expectancy, Freedom, Government Trust, Generosity, Year]\n",
       "Index: []"
      ]
     },
     "execution_count": 125,
     "metadata": {},
     "output_type": "execute_result"
    }
   ],
   "source": [
    "# check duplicates\n",
    "df_dups.head()"
   ]
  },
  {
   "cell_type": "code",
   "execution_count": 126,
   "id": "5df64cf1",
   "metadata": {
    "ExecuteTime": {
     "end_time": "2022-08-17T04:46:42.850303Z",
     "start_time": "2022-08-17T04:46:42.827460Z"
    }
   },
   "outputs": [
    {
     "data": {
      "text/plain": [
       "Rank                0\n",
       "Country             0\n",
       "Score               0\n",
       "Economy             0\n",
       "Social Support      0\n",
       "Life Expectancy     0\n",
       "Freedom             0\n",
       "Government Trust    1\n",
       "Generosity          0\n",
       "Year                0\n",
       "dtype: int64"
      ]
     },
     "execution_count": 126,
     "metadata": {},
     "output_type": "execute_result"
    }
   ],
   "source": [
    "# check for nulls\n",
    "dfhappy.isnull().sum()"
   ]
  },
  {
   "cell_type": "code",
   "execution_count": 127,
   "id": "c25d9f64",
   "metadata": {
    "ExecuteTime": {
     "end_time": "2022-08-17T04:46:43.894203Z",
     "start_time": "2022-08-17T04:46:43.873660Z"
    }
   },
   "outputs": [
    {
     "data": {
      "text/plain": [
       "Rank                  int64\n",
       "Country              object\n",
       "Score               float64\n",
       "Economy             float64\n",
       "Social Support      float64\n",
       "Life Expectancy     float64\n",
       "Freedom             float64\n",
       "Government Trust    float64\n",
       "Generosity          float64\n",
       "Year                  int64\n",
       "dtype: object"
      ]
     },
     "execution_count": 127,
     "metadata": {},
     "output_type": "execute_result"
    }
   ],
   "source": [
    "# check dtypes\n",
    "dfhappy.dtypes"
   ]
  },
  {
   "cell_type": "code",
   "execution_count": 128,
   "id": "91b83a3c",
   "metadata": {
    "ExecuteTime": {
     "end_time": "2022-08-17T04:46:44.203055Z",
     "start_time": "2022-08-17T04:46:44.130676Z"
    }
   },
   "outputs": [],
   "source": [
    "# check dtypes for consistency\n",
    "for col in dfhappy.columns.tolist():\n",
    "  weird = (dfhappy[[col]].applymap(type) != dfhappy[[col]].iloc[0].apply(type)).any(axis = 1)\n",
    "  if len (dfhappy[weird]) > 0:\n",
    "    print (col)"
   ]
  },
  {
   "cell_type": "markdown",
   "id": "d757625b",
   "metadata": {},
   "source": [
    "# Explore Data"
   ]
  },
  {
   "cell_type": "code",
   "execution_count": 129,
   "id": "77220697",
   "metadata": {
    "ExecuteTime": {
     "end_time": "2022-08-17T04:46:44.640775Z",
     "start_time": "2022-08-17T04:46:44.577867Z"
    }
   },
   "outputs": [
    {
     "data": {
      "text/html": [
       "<div>\n",
       "<style scoped>\n",
       "    .dataframe tbody tr th:only-of-type {\n",
       "        vertical-align: middle;\n",
       "    }\n",
       "\n",
       "    .dataframe tbody tr th {\n",
       "        vertical-align: top;\n",
       "    }\n",
       "\n",
       "    .dataframe thead th {\n",
       "        text-align: right;\n",
       "    }\n",
       "</style>\n",
       "<table border=\"1\" class=\"dataframe\">\n",
       "  <thead>\n",
       "    <tr style=\"text-align: right;\">\n",
       "      <th></th>\n",
       "      <th>Rank</th>\n",
       "      <th>Score</th>\n",
       "      <th>Economy</th>\n",
       "      <th>Social Support</th>\n",
       "      <th>Life Expectancy</th>\n",
       "      <th>Freedom</th>\n",
       "      <th>Government Trust</th>\n",
       "      <th>Generosity</th>\n",
       "      <th>Year</th>\n",
       "    </tr>\n",
       "  </thead>\n",
       "  <tbody>\n",
       "    <tr>\n",
       "      <th>count</th>\n",
       "      <td>1084.000000</td>\n",
       "      <td>1084.000000</td>\n",
       "      <td>1084.000000</td>\n",
       "      <td>1084.000000</td>\n",
       "      <td>1084.000000</td>\n",
       "      <td>1084.000000</td>\n",
       "      <td>1083.000000</td>\n",
       "      <td>1084.000000</td>\n",
       "      <td>1084.000000</td>\n",
       "    </tr>\n",
       "    <tr>\n",
       "      <th>mean</th>\n",
       "      <td>77.950185</td>\n",
       "      <td>5.413460</td>\n",
       "      <td>3.269365</td>\n",
       "      <td>1.004091</td>\n",
       "      <td>18.471404</td>\n",
       "      <td>0.515936</td>\n",
       "      <td>0.294111</td>\n",
       "      <td>0.153545</td>\n",
       "      <td>2017.968635</td>\n",
       "    </tr>\n",
       "    <tr>\n",
       "      <th>std</th>\n",
       "      <td>44.766196</td>\n",
       "      <td>1.118595</td>\n",
       "      <td>3.854953</td>\n",
       "      <td>0.310650</td>\n",
       "      <td>28.981743</td>\n",
       "      <td>0.221478</td>\n",
       "      <td>0.300707</td>\n",
       "      <td>0.167592</td>\n",
       "      <td>1.995594</td>\n",
       "    </tr>\n",
       "    <tr>\n",
       "      <th>min</th>\n",
       "      <td>1.000000</td>\n",
       "      <td>2.523000</td>\n",
       "      <td>0.000000</td>\n",
       "      <td>0.000000</td>\n",
       "      <td>0.000000</td>\n",
       "      <td>0.000000</td>\n",
       "      <td>0.000000</td>\n",
       "      <td>-0.300907</td>\n",
       "      <td>2015.000000</td>\n",
       "    </tr>\n",
       "    <tr>\n",
       "      <th>25%</th>\n",
       "      <td>39.000000</td>\n",
       "      <td>4.571000</td>\n",
       "      <td>0.780500</td>\n",
       "      <td>0.805747</td>\n",
       "      <td>0.552500</td>\n",
       "      <td>0.366947</td>\n",
       "      <td>0.068178</td>\n",
       "      <td>0.064828</td>\n",
       "      <td>2016.000000</td>\n",
       "    </tr>\n",
       "    <tr>\n",
       "      <th>50%</th>\n",
       "      <td>78.000000</td>\n",
       "      <td>5.385150</td>\n",
       "      <td>1.170350</td>\n",
       "      <td>0.948000</td>\n",
       "      <td>0.773948</td>\n",
       "      <td>0.502269</td>\n",
       "      <td>0.136957</td>\n",
       "      <td>0.162140</td>\n",
       "      <td>2018.000000</td>\n",
       "    </tr>\n",
       "    <tr>\n",
       "      <th>75%</th>\n",
       "      <td>117.000000</td>\n",
       "      <td>6.216125</td>\n",
       "      <td>7.640969</td>\n",
       "      <td>1.247028</td>\n",
       "      <td>54.707750</td>\n",
       "      <td>0.658436</td>\n",
       "      <td>0.500726</td>\n",
       "      <td>0.252000</td>\n",
       "      <td>2020.000000</td>\n",
       "    </tr>\n",
       "    <tr>\n",
       "      <th>max</th>\n",
       "      <td>158.000000</td>\n",
       "      <td>7.842000</td>\n",
       "      <td>11.647000</td>\n",
       "      <td>1.644000</td>\n",
       "      <td>76.953000</td>\n",
       "      <td>0.974998</td>\n",
       "      <td>0.939000</td>\n",
       "      <td>0.838075</td>\n",
       "      <td>2021.000000</td>\n",
       "    </tr>\n",
       "  </tbody>\n",
       "</table>\n",
       "</div>"
      ],
      "text/plain": [
       "              Rank        Score      Economy  Social Support  Life Expectancy  \\\n",
       "count  1084.000000  1084.000000  1084.000000     1084.000000      1084.000000   \n",
       "mean     77.950185     5.413460     3.269365        1.004091        18.471404   \n",
       "std      44.766196     1.118595     3.854953        0.310650        28.981743   \n",
       "min       1.000000     2.523000     0.000000        0.000000         0.000000   \n",
       "25%      39.000000     4.571000     0.780500        0.805747         0.552500   \n",
       "50%      78.000000     5.385150     1.170350        0.948000         0.773948   \n",
       "75%     117.000000     6.216125     7.640969        1.247028        54.707750   \n",
       "max     158.000000     7.842000    11.647000        1.644000        76.953000   \n",
       "\n",
       "           Freedom  Government Trust   Generosity         Year  \n",
       "count  1084.000000       1083.000000  1084.000000  1084.000000  \n",
       "mean      0.515936          0.294111     0.153545  2017.968635  \n",
       "std       0.221478          0.300707     0.167592     1.995594  \n",
       "min       0.000000          0.000000    -0.300907  2015.000000  \n",
       "25%       0.366947          0.068178     0.064828  2016.000000  \n",
       "50%       0.502269          0.136957     0.162140  2018.000000  \n",
       "75%       0.658436          0.500726     0.252000  2020.000000  \n",
       "max       0.974998          0.939000     0.838075  2021.000000  "
      ]
     },
     "execution_count": 129,
     "metadata": {},
     "output_type": "execute_result"
    }
   ],
   "source": [
    "# get descriptive statistics on data set to check for outliers \n",
    "dfhappy.describe()"
   ]
  },
  {
   "cell_type": "code",
   "execution_count": 130,
   "id": "151b7bc3",
   "metadata": {
    "ExecuteTime": {
     "end_time": "2022-08-17T04:46:44.852362Z",
     "start_time": "2022-08-17T04:46:44.834994Z"
    }
   },
   "outputs": [
    {
     "data": {
      "text/plain": [
       "(1084, 10)"
      ]
     },
     "execution_count": 130,
     "metadata": {},
     "output_type": "execute_result"
    }
   ],
   "source": [
    "dfhappy.shape"
   ]
  },
  {
   "cell_type": "markdown",
   "id": "323362f6",
   "metadata": {},
   "source": [
    "# Export Data"
   ]
  },
  {
   "cell_type": "code",
   "execution_count": 131,
   "id": "ae244ef9",
   "metadata": {
    "ExecuteTime": {
     "end_time": "2022-08-17T04:46:46.019630Z",
     "start_time": "2022-08-17T04:46:45.982554Z"
    }
   },
   "outputs": [],
   "source": [
    "# export to csv\n",
    "dfhappy.to_csv(os.path.join(path, '02 Data','Prepared Data', 'dfhappy_clean.csv'))"
   ]
  },
  {
   "cell_type": "code",
   "execution_count": null,
   "id": "ac9ce6f2",
   "metadata": {},
   "outputs": [],
   "source": []
  }
 ],
 "metadata": {
  "kernelspec": {
   "display_name": "Python 3 (ipykernel)",
   "language": "python",
   "name": "python3"
  },
  "language_info": {
   "codemirror_mode": {
    "name": "ipython",
    "version": 3
   },
   "file_extension": ".py",
   "mimetype": "text/x-python",
   "name": "python",
   "nbconvert_exporter": "python",
   "pygments_lexer": "ipython3",
   "version": "3.9.12"
  },
  "toc": {
   "base_numbering": 1,
   "nav_menu": {},
   "number_sections": true,
   "sideBar": true,
   "skip_h1_title": false,
   "title_cell": "Table of Contents",
   "title_sidebar": "Contents",
   "toc_cell": false,
   "toc_position": {},
   "toc_section_display": true,
   "toc_window_display": false
  }
 },
 "nbformat": 4,
 "nbformat_minor": 5
}
