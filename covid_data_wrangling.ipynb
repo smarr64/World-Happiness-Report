{
 "cells": [
  {
   "cell_type": "markdown",
   "id": "927d986a",
   "metadata": {
    "heading_collapsed": true
   },
   "source": [
    "# Table of Contents"
   ]
  },
  {
   "cell_type": "markdown",
   "id": "eea533e5",
   "metadata": {
    "ExecuteTime": {
     "end_time": "2022-09-24T23:58:04.439750Z",
     "start_time": "2022-09-24T23:58:04.431674Z"
    },
    "hidden": true
   },
   "source": [
    "## Import Libraries and Data\n",
    "## Explore and Format Happiness Data \n",
    "## Format Covid Data\n",
    "## Merge Data Sets\n",
    "## Visualizations\n",
    "## Correlation Plot"
   ]
  },
  {
   "cell_type": "markdown",
   "id": "5131bd10",
   "metadata": {
    "heading_collapsed": true
   },
   "source": [
    "# Import Libraries and Data"
   ]
  },
  {
   "cell_type": "code",
   "execution_count": 7,
   "id": "601f0a0e",
   "metadata": {
    "ExecuteTime": {
     "end_time": "2022-09-21T20:47:21.236262Z",
     "start_time": "2022-09-21T20:47:21.220705Z"
    },
    "hidden": true
   },
   "outputs": [],
   "source": [
    "# import libraries\n",
    "import pandas as pd\n",
    "import numpy as np\n",
    "import os\n",
    "import scipy\n",
    "import seaborn as sns\n",
    "import matplotlib.pyplot as plt\n",
    "import matplotlib"
   ]
  },
  {
   "cell_type": "code",
   "execution_count": 8,
   "id": "a4f06a6b",
   "metadata": {
    "ExecuteTime": {
     "end_time": "2022-09-21T20:47:21.256282Z",
     "start_time": "2022-09-21T20:47:21.242120Z"
    },
    "hidden": true
   },
   "outputs": [],
   "source": [
    "# create path\n",
    "path = r'C:\\Users\\18602\\Documents\\Data Analytics\\Data Immersion\\Month 6\\A6 Project\\02 Data'"
   ]
  },
  {
   "cell_type": "code",
   "execution_count": 9,
   "id": "11ff70e0",
   "metadata": {
    "ExecuteTime": {
     "end_time": "2022-09-21T20:47:21.367681Z",
     "start_time": "2022-09-21T20:47:21.340132Z"
    },
    "hidden": true
   },
   "outputs": [],
   "source": [
    "# import whr\n",
    "happy = pd.read_csv(os.path.join(path, 'Original Data', '2019.csv'))"
   ]
  },
  {
   "cell_type": "code",
   "execution_count": 10,
   "id": "897b4fc5",
   "metadata": {
    "ExecuteTime": {
     "end_time": "2022-09-21T20:47:22.783306Z",
     "start_time": "2022-09-21T20:47:21.632099Z"
    },
    "hidden": true
   },
   "outputs": [],
   "source": [
    "# import covid data\n",
    "covid = pd.read_html(\"https://en.wikipedia.org/wiki/COVID-19_pandemic_death_rates_by_country\")"
   ]
  },
  {
   "cell_type": "code",
   "execution_count": 11,
   "id": "c9636b8d",
   "metadata": {
    "ExecuteTime": {
     "end_time": "2022-09-21T20:47:22.807398Z",
     "start_time": "2022-09-21T20:47:22.786045Z"
    },
    "hidden": true
   },
   "outputs": [
    {
     "data": {
      "text/plain": [
       "48"
      ]
     },
     "execution_count": 11,
     "metadata": {},
     "output_type": "execute_result"
    }
   ],
   "source": [
    "# check covid datasets\n",
    "len(covid)"
   ]
  },
  {
   "cell_type": "markdown",
   "id": "6091c144",
   "metadata": {},
   "source": [
    "# Explore and Format Happiness Data"
   ]
  },
  {
   "cell_type": "code",
   "execution_count": 12,
   "id": "939763a9",
   "metadata": {
    "ExecuteTime": {
     "end_time": "2022-09-21T20:47:22.877327Z",
     "start_time": "2022-09-21T20:47:22.807892Z"
    }
   },
   "outputs": [
    {
     "data": {
      "text/html": [
       "<div>\n",
       "<style scoped>\n",
       "    .dataframe tbody tr th:only-of-type {\n",
       "        vertical-align: middle;\n",
       "    }\n",
       "\n",
       "    .dataframe tbody tr th {\n",
       "        vertical-align: top;\n",
       "    }\n",
       "\n",
       "    .dataframe thead th {\n",
       "        text-align: right;\n",
       "    }\n",
       "</style>\n",
       "<table border=\"1\" class=\"dataframe\">\n",
       "  <thead>\n",
       "    <tr style=\"text-align: right;\">\n",
       "      <th></th>\n",
       "      <th>Overall rank</th>\n",
       "      <th>Country or region</th>\n",
       "      <th>Score</th>\n",
       "      <th>GDP per capita</th>\n",
       "      <th>Social support</th>\n",
       "      <th>Healthy life expectancy</th>\n",
       "      <th>Freedom to make life choices</th>\n",
       "      <th>Generosity</th>\n",
       "      <th>Perceptions of corruption</th>\n",
       "    </tr>\n",
       "  </thead>\n",
       "  <tbody>\n",
       "    <tr>\n",
       "      <th>0</th>\n",
       "      <td>1</td>\n",
       "      <td>Finland</td>\n",
       "      <td>7.769</td>\n",
       "      <td>1.340</td>\n",
       "      <td>1.587</td>\n",
       "      <td>0.986</td>\n",
       "      <td>0.596</td>\n",
       "      <td>0.153</td>\n",
       "      <td>0.393</td>\n",
       "    </tr>\n",
       "    <tr>\n",
       "      <th>1</th>\n",
       "      <td>2</td>\n",
       "      <td>Denmark</td>\n",
       "      <td>7.600</td>\n",
       "      <td>1.383</td>\n",
       "      <td>1.573</td>\n",
       "      <td>0.996</td>\n",
       "      <td>0.592</td>\n",
       "      <td>0.252</td>\n",
       "      <td>0.410</td>\n",
       "    </tr>\n",
       "    <tr>\n",
       "      <th>2</th>\n",
       "      <td>3</td>\n",
       "      <td>Norway</td>\n",
       "      <td>7.554</td>\n",
       "      <td>1.488</td>\n",
       "      <td>1.582</td>\n",
       "      <td>1.028</td>\n",
       "      <td>0.603</td>\n",
       "      <td>0.271</td>\n",
       "      <td>0.341</td>\n",
       "    </tr>\n",
       "    <tr>\n",
       "      <th>3</th>\n",
       "      <td>4</td>\n",
       "      <td>Iceland</td>\n",
       "      <td>7.494</td>\n",
       "      <td>1.380</td>\n",
       "      <td>1.624</td>\n",
       "      <td>1.026</td>\n",
       "      <td>0.591</td>\n",
       "      <td>0.354</td>\n",
       "      <td>0.118</td>\n",
       "    </tr>\n",
       "    <tr>\n",
       "      <th>4</th>\n",
       "      <td>5</td>\n",
       "      <td>Netherlands</td>\n",
       "      <td>7.488</td>\n",
       "      <td>1.396</td>\n",
       "      <td>1.522</td>\n",
       "      <td>0.999</td>\n",
       "      <td>0.557</td>\n",
       "      <td>0.322</td>\n",
       "      <td>0.298</td>\n",
       "    </tr>\n",
       "  </tbody>\n",
       "</table>\n",
       "</div>"
      ],
      "text/plain": [
       "   Overall rank Country or region  Score  GDP per capita  Social support  \\\n",
       "0             1           Finland  7.769           1.340           1.587   \n",
       "1             2           Denmark  7.600           1.383           1.573   \n",
       "2             3            Norway  7.554           1.488           1.582   \n",
       "3             4           Iceland  7.494           1.380           1.624   \n",
       "4             5       Netherlands  7.488           1.396           1.522   \n",
       "\n",
       "   Healthy life expectancy  Freedom to make life choices  Generosity  \\\n",
       "0                    0.986                         0.596       0.153   \n",
       "1                    0.996                         0.592       0.252   \n",
       "2                    1.028                         0.603       0.271   \n",
       "3                    1.026                         0.591       0.354   \n",
       "4                    0.999                         0.557       0.322   \n",
       "\n",
       "   Perceptions of corruption  \n",
       "0                      0.393  \n",
       "1                      0.410  \n",
       "2                      0.341  \n",
       "3                      0.118  \n",
       "4                      0.298  "
      ]
     },
     "execution_count": 12,
     "metadata": {},
     "output_type": "execute_result"
    }
   ],
   "source": [
    "# check whr import\n",
    "happy.head()"
   ]
  },
  {
   "cell_type": "code",
   "execution_count": 13,
   "id": "4ab36fe1",
   "metadata": {
    "ExecuteTime": {
     "end_time": "2022-09-21T20:47:23.225314Z",
     "start_time": "2022-09-21T20:47:23.210141Z"
    }
   },
   "outputs": [
    {
     "data": {
      "text/plain": [
       "(156, 9)"
      ]
     },
     "execution_count": 13,
     "metadata": {},
     "output_type": "execute_result"
    }
   ],
   "source": [
    "happy.shape"
   ]
  },
  {
   "cell_type": "code",
   "execution_count": 14,
   "id": "21b2bc07",
   "metadata": {
    "ExecuteTime": {
     "end_time": "2022-09-21T20:47:23.622170Z",
     "start_time": "2022-09-21T20:47:23.601739Z"
    }
   },
   "outputs": [
    {
     "data": {
      "text/plain": [
       "Index(['Overall rank', 'Country or region', 'Score', 'GDP per capita',\n",
       "       'Social support', 'Healthy life expectancy',\n",
       "       'Freedom to make life choices', 'Generosity',\n",
       "       'Perceptions of corruption'],\n",
       "      dtype='object')"
      ]
     },
     "execution_count": 14,
     "metadata": {},
     "output_type": "execute_result"
    }
   ],
   "source": [
    "happy.columns"
   ]
  },
  {
   "cell_type": "code",
   "execution_count": 15,
   "id": "8956aa87",
   "metadata": {
    "ExecuteTime": {
     "end_time": "2022-09-21T20:47:23.881901Z",
     "start_time": "2022-09-21T20:47:23.859093Z"
    }
   },
   "outputs": [],
   "source": [
    "# rename columns\n",
    "happy.rename(columns = {'Overall rank': 'Rank', 'Country or region': 'Country','GDP per capita': 'Economy', 'Social support':'Social Support', 'Healthy life expectancy': 'Life Expectancy', 'Freedom to make life choices': 'Freedom', 'Perceptions of corruption':'Government Trust'}, inplace = True)"
   ]
  },
  {
   "cell_type": "code",
   "execution_count": 16,
   "id": "472f32a3",
   "metadata": {
    "ExecuteTime": {
     "end_time": "2022-09-21T20:47:24.245535Z",
     "start_time": "2022-09-21T20:47:24.209878Z"
    }
   },
   "outputs": [
    {
     "data": {
      "text/html": [
       "<div>\n",
       "<style scoped>\n",
       "    .dataframe tbody tr th:only-of-type {\n",
       "        vertical-align: middle;\n",
       "    }\n",
       "\n",
       "    .dataframe tbody tr th {\n",
       "        vertical-align: top;\n",
       "    }\n",
       "\n",
       "    .dataframe thead th {\n",
       "        text-align: right;\n",
       "    }\n",
       "</style>\n",
       "<table border=\"1\" class=\"dataframe\">\n",
       "  <thead>\n",
       "    <tr style=\"text-align: right;\">\n",
       "      <th></th>\n",
       "      <th>Rank</th>\n",
       "      <th>Country</th>\n",
       "      <th>Score</th>\n",
       "      <th>Economy</th>\n",
       "      <th>Social Support</th>\n",
       "      <th>Life Expectancy</th>\n",
       "      <th>Freedom</th>\n",
       "      <th>Generosity</th>\n",
       "      <th>Government Trust</th>\n",
       "    </tr>\n",
       "  </thead>\n",
       "  <tbody>\n",
       "    <tr>\n",
       "      <th>0</th>\n",
       "      <td>1</td>\n",
       "      <td>Finland</td>\n",
       "      <td>7.769</td>\n",
       "      <td>1.340</td>\n",
       "      <td>1.587</td>\n",
       "      <td>0.986</td>\n",
       "      <td>0.596</td>\n",
       "      <td>0.153</td>\n",
       "      <td>0.393</td>\n",
       "    </tr>\n",
       "    <tr>\n",
       "      <th>1</th>\n",
       "      <td>2</td>\n",
       "      <td>Denmark</td>\n",
       "      <td>7.600</td>\n",
       "      <td>1.383</td>\n",
       "      <td>1.573</td>\n",
       "      <td>0.996</td>\n",
       "      <td>0.592</td>\n",
       "      <td>0.252</td>\n",
       "      <td>0.410</td>\n",
       "    </tr>\n",
       "    <tr>\n",
       "      <th>2</th>\n",
       "      <td>3</td>\n",
       "      <td>Norway</td>\n",
       "      <td>7.554</td>\n",
       "      <td>1.488</td>\n",
       "      <td>1.582</td>\n",
       "      <td>1.028</td>\n",
       "      <td>0.603</td>\n",
       "      <td>0.271</td>\n",
       "      <td>0.341</td>\n",
       "    </tr>\n",
       "    <tr>\n",
       "      <th>3</th>\n",
       "      <td>4</td>\n",
       "      <td>Iceland</td>\n",
       "      <td>7.494</td>\n",
       "      <td>1.380</td>\n",
       "      <td>1.624</td>\n",
       "      <td>1.026</td>\n",
       "      <td>0.591</td>\n",
       "      <td>0.354</td>\n",
       "      <td>0.118</td>\n",
       "    </tr>\n",
       "    <tr>\n",
       "      <th>4</th>\n",
       "      <td>5</td>\n",
       "      <td>Netherlands</td>\n",
       "      <td>7.488</td>\n",
       "      <td>1.396</td>\n",
       "      <td>1.522</td>\n",
       "      <td>0.999</td>\n",
       "      <td>0.557</td>\n",
       "      <td>0.322</td>\n",
       "      <td>0.298</td>\n",
       "    </tr>\n",
       "  </tbody>\n",
       "</table>\n",
       "</div>"
      ],
      "text/plain": [
       "   Rank      Country  Score  Economy  Social Support  Life Expectancy  \\\n",
       "0     1      Finland  7.769    1.340           1.587            0.986   \n",
       "1     2      Denmark  7.600    1.383           1.573            0.996   \n",
       "2     3       Norway  7.554    1.488           1.582            1.028   \n",
       "3     4      Iceland  7.494    1.380           1.624            1.026   \n",
       "4     5  Netherlands  7.488    1.396           1.522            0.999   \n",
       "\n",
       "   Freedom  Generosity  Government Trust  \n",
       "0    0.596       0.153             0.393  \n",
       "1    0.592       0.252             0.410  \n",
       "2    0.603       0.271             0.341  \n",
       "3    0.591       0.354             0.118  \n",
       "4    0.557       0.322             0.298  "
      ]
     },
     "execution_count": 16,
     "metadata": {},
     "output_type": "execute_result"
    }
   ],
   "source": [
    "# check output\n",
    "happy.head()"
   ]
  },
  {
   "cell_type": "code",
   "execution_count": 17,
   "id": "82f5e949",
   "metadata": {
    "ExecuteTime": {
     "end_time": "2022-09-21T20:47:24.786387Z",
     "start_time": "2022-09-21T20:47:24.770733Z"
    }
   },
   "outputs": [],
   "source": [
    "# assign year\n",
    "happy['Year'] = '2019'"
   ]
  },
  {
   "cell_type": "code",
   "execution_count": 18,
   "id": "ce4c5ade",
   "metadata": {
    "ExecuteTime": {
     "end_time": "2022-09-21T20:47:25.806141Z",
     "start_time": "2022-09-21T20:47:25.774613Z"
    }
   },
   "outputs": [
    {
     "data": {
      "text/html": [
       "<div>\n",
       "<style scoped>\n",
       "    .dataframe tbody tr th:only-of-type {\n",
       "        vertical-align: middle;\n",
       "    }\n",
       "\n",
       "    .dataframe tbody tr th {\n",
       "        vertical-align: top;\n",
       "    }\n",
       "\n",
       "    .dataframe thead th {\n",
       "        text-align: right;\n",
       "    }\n",
       "</style>\n",
       "<table border=\"1\" class=\"dataframe\">\n",
       "  <thead>\n",
       "    <tr style=\"text-align: right;\">\n",
       "      <th></th>\n",
       "      <th>Rank</th>\n",
       "      <th>Country</th>\n",
       "      <th>Score</th>\n",
       "      <th>Economy</th>\n",
       "      <th>Social Support</th>\n",
       "      <th>Life Expectancy</th>\n",
       "      <th>Freedom</th>\n",
       "      <th>Generosity</th>\n",
       "      <th>Government Trust</th>\n",
       "      <th>Year</th>\n",
       "    </tr>\n",
       "  </thead>\n",
       "  <tbody>\n",
       "    <tr>\n",
       "      <th>0</th>\n",
       "      <td>1</td>\n",
       "      <td>Finland</td>\n",
       "      <td>7.769</td>\n",
       "      <td>1.340</td>\n",
       "      <td>1.587</td>\n",
       "      <td>0.986</td>\n",
       "      <td>0.596</td>\n",
       "      <td>0.153</td>\n",
       "      <td>0.393</td>\n",
       "      <td>2019</td>\n",
       "    </tr>\n",
       "    <tr>\n",
       "      <th>1</th>\n",
       "      <td>2</td>\n",
       "      <td>Denmark</td>\n",
       "      <td>7.600</td>\n",
       "      <td>1.383</td>\n",
       "      <td>1.573</td>\n",
       "      <td>0.996</td>\n",
       "      <td>0.592</td>\n",
       "      <td>0.252</td>\n",
       "      <td>0.410</td>\n",
       "      <td>2019</td>\n",
       "    </tr>\n",
       "    <tr>\n",
       "      <th>2</th>\n",
       "      <td>3</td>\n",
       "      <td>Norway</td>\n",
       "      <td>7.554</td>\n",
       "      <td>1.488</td>\n",
       "      <td>1.582</td>\n",
       "      <td>1.028</td>\n",
       "      <td>0.603</td>\n",
       "      <td>0.271</td>\n",
       "      <td>0.341</td>\n",
       "      <td>2019</td>\n",
       "    </tr>\n",
       "    <tr>\n",
       "      <th>3</th>\n",
       "      <td>4</td>\n",
       "      <td>Iceland</td>\n",
       "      <td>7.494</td>\n",
       "      <td>1.380</td>\n",
       "      <td>1.624</td>\n",
       "      <td>1.026</td>\n",
       "      <td>0.591</td>\n",
       "      <td>0.354</td>\n",
       "      <td>0.118</td>\n",
       "      <td>2019</td>\n",
       "    </tr>\n",
       "    <tr>\n",
       "      <th>4</th>\n",
       "      <td>5</td>\n",
       "      <td>Netherlands</td>\n",
       "      <td>7.488</td>\n",
       "      <td>1.396</td>\n",
       "      <td>1.522</td>\n",
       "      <td>0.999</td>\n",
       "      <td>0.557</td>\n",
       "      <td>0.322</td>\n",
       "      <td>0.298</td>\n",
       "      <td>2019</td>\n",
       "    </tr>\n",
       "  </tbody>\n",
       "</table>\n",
       "</div>"
      ],
      "text/plain": [
       "   Rank      Country  Score  Economy  Social Support  Life Expectancy  \\\n",
       "0     1      Finland  7.769    1.340           1.587            0.986   \n",
       "1     2      Denmark  7.600    1.383           1.573            0.996   \n",
       "2     3       Norway  7.554    1.488           1.582            1.028   \n",
       "3     4      Iceland  7.494    1.380           1.624            1.026   \n",
       "4     5  Netherlands  7.488    1.396           1.522            0.999   \n",
       "\n",
       "   Freedom  Generosity  Government Trust  Year  \n",
       "0    0.596       0.153             0.393  2019  \n",
       "1    0.592       0.252             0.410  2019  \n",
       "2    0.603       0.271             0.341  2019  \n",
       "3    0.591       0.354             0.118  2019  \n",
       "4    0.557       0.322             0.298  2019  "
      ]
     },
     "execution_count": 18,
     "metadata": {},
     "output_type": "execute_result"
    }
   ],
   "source": [
    "# check output\n",
    "happy.head()"
   ]
  },
  {
   "cell_type": "code",
   "execution_count": 20,
   "id": "374be008",
   "metadata": {
    "ExecuteTime": {
     "end_time": "2022-09-21T20:49:14.675549Z",
     "start_time": "2022-09-21T20:49:14.645548Z"
    }
   },
   "outputs": [],
   "source": [
    "# save to file\n",
    "happy.to_csv(os.path.join(path, 'Prepared Data', 'happy_2019.csv'))"
   ]
  },
  {
   "cell_type": "markdown",
   "id": "eeb26911",
   "metadata": {},
   "source": [
    "# Format Covid Data"
   ]
  },
  {
   "cell_type": "code",
   "execution_count": 59,
   "id": "e5cccf1a",
   "metadata": {
    "ExecuteTime": {
     "end_time": "2022-09-21T04:23:53.794365Z",
     "start_time": "2022-09-21T04:23:53.780792Z"
    }
   },
   "outputs": [],
   "source": [
    "# turn covid data into dataframe\n",
    "df = covid[1]"
   ]
  },
  {
   "cell_type": "code",
   "execution_count": 60,
   "id": "df4718ad",
   "metadata": {
    "ExecuteTime": {
     "end_time": "2022-09-21T04:23:58.381985Z",
     "start_time": "2022-09-21T04:23:58.356262Z"
    }
   },
   "outputs": [
    {
     "data": {
      "text/html": [
       "<div>\n",
       "<style scoped>\n",
       "    .dataframe tbody tr th:only-of-type {\n",
       "        vertical-align: middle;\n",
       "    }\n",
       "\n",
       "    .dataframe tbody tr th {\n",
       "        vertical-align: top;\n",
       "    }\n",
       "\n",
       "    .dataframe thead th {\n",
       "        text-align: right;\n",
       "    }\n",
       "</style>\n",
       "<table border=\"1\" class=\"dataframe\">\n",
       "  <thead>\n",
       "    <tr style=\"text-align: right;\">\n",
       "      <th></th>\n",
       "      <th>Country</th>\n",
       "      <th>Deaths / million</th>\n",
       "      <th>Deaths</th>\n",
       "      <th>Cases</th>\n",
       "    </tr>\n",
       "  </thead>\n",
       "  <tbody>\n",
       "    <tr>\n",
       "      <th>0</th>\n",
       "      <td>World[a]</td>\n",
       "      <td>825</td>\n",
       "      <td>6527372</td>\n",
       "      <td>612314658</td>\n",
       "    </tr>\n",
       "    <tr>\n",
       "      <th>1</th>\n",
       "      <td>Peru</td>\n",
       "      <td>6415</td>\n",
       "      <td>216309</td>\n",
       "      <td>4132687</td>\n",
       "    </tr>\n",
       "    <tr>\n",
       "      <th>2</th>\n",
       "      <td>Bulgaria</td>\n",
       "      <td>5472</td>\n",
       "      <td>37682</td>\n",
       "      <td>1252615</td>\n",
       "    </tr>\n",
       "    <tr>\n",
       "      <th>3</th>\n",
       "      <td>Bosnia and Herzegovina</td>\n",
       "      <td>4924</td>\n",
       "      <td>16108</td>\n",
       "      <td>397822</td>\n",
       "    </tr>\n",
       "    <tr>\n",
       "      <th>4</th>\n",
       "      <td>Hungary</td>\n",
       "      <td>4882</td>\n",
       "      <td>47409</td>\n",
       "      <td>2070443</td>\n",
       "    </tr>\n",
       "  </tbody>\n",
       "</table>\n",
       "</div>"
      ],
      "text/plain": [
       "                  Country Deaths / million   Deaths      Cases\n",
       "0                World[a]              825  6527372  612314658\n",
       "1                    Peru             6415   216309    4132687\n",
       "2                Bulgaria             5472    37682    1252615\n",
       "3  Bosnia and Herzegovina             4924    16108     397822\n",
       "4                 Hungary             4882    47409    2070443"
      ]
     },
     "execution_count": 60,
     "metadata": {},
     "output_type": "execute_result"
    }
   ],
   "source": [
    "# check output\n",
    "df.head()"
   ]
  },
  {
   "cell_type": "code",
   "execution_count": 63,
   "id": "c40a1c49",
   "metadata": {
    "ExecuteTime": {
     "end_time": "2022-09-21T04:25:20.804477Z",
     "start_time": "2022-09-21T04:25:20.783551Z"
    }
   },
   "outputs": [],
   "source": [
    "# create subset of needed columns\n",
    "df2 = df[['Country', 'Deaths / million','Deaths']]"
   ]
  },
  {
   "cell_type": "code",
   "execution_count": 64,
   "id": "46db9089",
   "metadata": {
    "ExecuteTime": {
     "end_time": "2022-09-21T04:25:24.753681Z",
     "start_time": "2022-09-21T04:25:24.714480Z"
    }
   },
   "outputs": [
    {
     "data": {
      "text/html": [
       "<div>\n",
       "<style scoped>\n",
       "    .dataframe tbody tr th:only-of-type {\n",
       "        vertical-align: middle;\n",
       "    }\n",
       "\n",
       "    .dataframe tbody tr th {\n",
       "        vertical-align: top;\n",
       "    }\n",
       "\n",
       "    .dataframe thead th {\n",
       "        text-align: right;\n",
       "    }\n",
       "</style>\n",
       "<table border=\"1\" class=\"dataframe\">\n",
       "  <thead>\n",
       "    <tr style=\"text-align: right;\">\n",
       "      <th></th>\n",
       "      <th>Country</th>\n",
       "      <th>Deaths / million</th>\n",
       "      <th>Deaths</th>\n",
       "    </tr>\n",
       "  </thead>\n",
       "  <tbody>\n",
       "    <tr>\n",
       "      <th>0</th>\n",
       "      <td>World[a]</td>\n",
       "      <td>825</td>\n",
       "      <td>6527372</td>\n",
       "    </tr>\n",
       "    <tr>\n",
       "      <th>1</th>\n",
       "      <td>Peru</td>\n",
       "      <td>6415</td>\n",
       "      <td>216309</td>\n",
       "    </tr>\n",
       "    <tr>\n",
       "      <th>2</th>\n",
       "      <td>Bulgaria</td>\n",
       "      <td>5472</td>\n",
       "      <td>37682</td>\n",
       "    </tr>\n",
       "    <tr>\n",
       "      <th>3</th>\n",
       "      <td>Bosnia and Herzegovina</td>\n",
       "      <td>4924</td>\n",
       "      <td>16108</td>\n",
       "    </tr>\n",
       "    <tr>\n",
       "      <th>4</th>\n",
       "      <td>Hungary</td>\n",
       "      <td>4882</td>\n",
       "      <td>47409</td>\n",
       "    </tr>\n",
       "  </tbody>\n",
       "</table>\n",
       "</div>"
      ],
      "text/plain": [
       "                  Country Deaths / million   Deaths\n",
       "0                World[a]              825  6527372\n",
       "1                    Peru             6415   216309\n",
       "2                Bulgaria             5472    37682\n",
       "3  Bosnia and Herzegovina             4924    16108\n",
       "4                 Hungary             4882    47409"
      ]
     },
     "execution_count": 64,
     "metadata": {},
     "output_type": "execute_result"
    }
   ],
   "source": [
    "# check subset\n",
    "df2.head()"
   ]
  },
  {
   "cell_type": "markdown",
   "id": "21c43f84",
   "metadata": {},
   "source": [
    "# Merge Data Sets"
   ]
  },
  {
   "cell_type": "code",
   "execution_count": 66,
   "id": "9182c5a9",
   "metadata": {
    "ExecuteTime": {
     "end_time": "2022-09-21T04:27:35.099782Z",
     "start_time": "2022-09-21T04:27:35.057117Z"
    }
   },
   "outputs": [],
   "source": [
    "# merge data\n",
    "df3 = happy.merge(df2, on =  'Country', how = 'left')"
   ]
  },
  {
   "cell_type": "code",
   "execution_count": 67,
   "id": "a2284875",
   "metadata": {
    "ExecuteTime": {
     "end_time": "2022-09-21T04:27:40.449072Z",
     "start_time": "2022-09-21T04:27:40.408015Z"
    }
   },
   "outputs": [
    {
     "data": {
      "text/html": [
       "<div>\n",
       "<style scoped>\n",
       "    .dataframe tbody tr th:only-of-type {\n",
       "        vertical-align: middle;\n",
       "    }\n",
       "\n",
       "    .dataframe tbody tr th {\n",
       "        vertical-align: top;\n",
       "    }\n",
       "\n",
       "    .dataframe thead th {\n",
       "        text-align: right;\n",
       "    }\n",
       "</style>\n",
       "<table border=\"1\" class=\"dataframe\">\n",
       "  <thead>\n",
       "    <tr style=\"text-align: right;\">\n",
       "      <th></th>\n",
       "      <th>Rank</th>\n",
       "      <th>Country</th>\n",
       "      <th>Score</th>\n",
       "      <th>Economy</th>\n",
       "      <th>Social Support</th>\n",
       "      <th>Life Expectancy</th>\n",
       "      <th>Freedom</th>\n",
       "      <th>Generosity</th>\n",
       "      <th>Government Trust</th>\n",
       "      <th>Year</th>\n",
       "      <th>Deaths / million</th>\n",
       "      <th>Deaths</th>\n",
       "    </tr>\n",
       "  </thead>\n",
       "  <tbody>\n",
       "    <tr>\n",
       "      <th>0</th>\n",
       "      <td>1</td>\n",
       "      <td>Finland</td>\n",
       "      <td>7.769</td>\n",
       "      <td>1.340</td>\n",
       "      <td>1.587</td>\n",
       "      <td>0.986</td>\n",
       "      <td>0.596</td>\n",
       "      <td>0.153</td>\n",
       "      <td>0.393</td>\n",
       "      <td>2019</td>\n",
       "      <td>1058</td>\n",
       "      <td>5858</td>\n",
       "    </tr>\n",
       "    <tr>\n",
       "      <th>1</th>\n",
       "      <td>2</td>\n",
       "      <td>Denmark</td>\n",
       "      <td>7.600</td>\n",
       "      <td>1.383</td>\n",
       "      <td>1.573</td>\n",
       "      <td>0.996</td>\n",
       "      <td>0.592</td>\n",
       "      <td>0.252</td>\n",
       "      <td>0.410</td>\n",
       "      <td>2019</td>\n",
       "      <td>1196</td>\n",
       "      <td>7004</td>\n",
       "    </tr>\n",
       "    <tr>\n",
       "      <th>2</th>\n",
       "      <td>3</td>\n",
       "      <td>Norway</td>\n",
       "      <td>7.554</td>\n",
       "      <td>1.488</td>\n",
       "      <td>1.582</td>\n",
       "      <td>1.028</td>\n",
       "      <td>0.603</td>\n",
       "      <td>0.271</td>\n",
       "      <td>0.341</td>\n",
       "      <td>2019</td>\n",
       "      <td>747</td>\n",
       "      <td>4038</td>\n",
       "    </tr>\n",
       "    <tr>\n",
       "      <th>3</th>\n",
       "      <td>4</td>\n",
       "      <td>Iceland</td>\n",
       "      <td>7.494</td>\n",
       "      <td>1.380</td>\n",
       "      <td>1.624</td>\n",
       "      <td>1.026</td>\n",
       "      <td>0.591</td>\n",
       "      <td>0.354</td>\n",
       "      <td>0.118</td>\n",
       "      <td>2019</td>\n",
       "      <td>575</td>\n",
       "      <td>213</td>\n",
       "    </tr>\n",
       "    <tr>\n",
       "      <th>4</th>\n",
       "      <td>5</td>\n",
       "      <td>Netherlands</td>\n",
       "      <td>7.488</td>\n",
       "      <td>1.396</td>\n",
       "      <td>1.522</td>\n",
       "      <td>0.999</td>\n",
       "      <td>0.557</td>\n",
       "      <td>0.322</td>\n",
       "      <td>0.298</td>\n",
       "      <td>2019</td>\n",
       "      <td>1297</td>\n",
       "      <td>22713</td>\n",
       "    </tr>\n",
       "  </tbody>\n",
       "</table>\n",
       "</div>"
      ],
      "text/plain": [
       "   Rank      Country  Score  Economy  Social Support  Life Expectancy  \\\n",
       "0     1      Finland  7.769    1.340           1.587            0.986   \n",
       "1     2      Denmark  7.600    1.383           1.573            0.996   \n",
       "2     3       Norway  7.554    1.488           1.582            1.028   \n",
       "3     4      Iceland  7.494    1.380           1.624            1.026   \n",
       "4     5  Netherlands  7.488    1.396           1.522            0.999   \n",
       "\n",
       "   Freedom  Generosity  Government Trust  Year Deaths / million Deaths  \n",
       "0    0.596       0.153             0.393  2019             1058   5858  \n",
       "1    0.592       0.252             0.410  2019             1196   7004  \n",
       "2    0.603       0.271             0.341  2019              747   4038  \n",
       "3    0.591       0.354             0.118  2019              575    213  \n",
       "4    0.557       0.322             0.298  2019             1297  22713  "
      ]
     },
     "execution_count": 67,
     "metadata": {},
     "output_type": "execute_result"
    }
   ],
   "source": [
    "# check merge\n",
    "df3.head()"
   ]
  },
  {
   "cell_type": "markdown",
   "id": "eab60716",
   "metadata": {},
   "source": [
    "# Visualizations"
   ]
  },
  {
   "cell_type": "code",
   "execution_count": 68,
   "id": "8f54036c",
   "metadata": {
    "ExecuteTime": {
     "end_time": "2022-09-21T04:28:54.865953Z",
     "start_time": "2022-09-21T04:28:51.946452Z"
    }
   },
   "outputs": [
    {
     "data": {
      "image/png": "[encoded data removed]",
      "text/plain": [
       "<Figure size 432x288 with 1 Axes>"
      ]
     },
     "metadata": {
      "needs_background": "light"
     },
     "output_type": "display_data"
    }
   ],
   "source": [
    "# line chart\n",
    "line = sns.lineplot(data = df3, x = 'Deaths',y = 'Rank')"
   ]
  },
  {
   "cell_type": "code",
   "execution_count": 69,
   "id": "74ca3ddf",
   "metadata": {
    "ExecuteTime": {
     "end_time": "2022-09-21T04:31:22.827429Z",
     "start_time": "2022-09-21T04:31:22.240978Z"
    }
   },
   "outputs": [],
   "source": [
    "# save line chart\n",
    "line.figure.savefig(os.path.join(path,'deaths_rank.png'))"
   ]
  },
  {
   "cell_type": "code",
   "execution_count": 70,
   "id": "a1f587ec",
   "metadata": {
    "ExecuteTime": {
     "end_time": "2022-09-21T04:32:58.072187Z",
     "start_time": "2022-09-21T04:32:55.919462Z"
    }
   },
   "outputs": [
    {
     "data": {
      "image/png": "[encoded data removed]",
      "text/plain": [
       "<Figure size 432x288 with 1 Axes>"
      ]
     },
     "metadata": {
      "needs_background": "light"
     },
     "output_type": "display_data"
    }
   ],
   "source": [
    "# line chart 2\n",
    "line2 = sns.lineplot(data = df3, x = 'Deaths / million', y = 'Rank')"
   ]
  },
  {
   "cell_type": "code",
   "execution_count": 111,
   "id": "e6ab18e4",
   "metadata": {
    "ExecuteTime": {
     "end_time": "2022-09-21T05:06:43.580789Z",
     "start_time": "2022-09-21T05:06:41.663438Z"
    }
   },
   "outputs": [
    {
     "data": {
      "image/png": "[encoded data removed]",
      "text/plain": [
       "<Figure size 432x288 with 1 Axes>"
      ]
     },
     "metadata": {
      "needs_background": "light"
     },
     "output_type": "display_data"
    }
   ],
   "source": [
    "# create scatterplot\n",
    "scatter = sns.scatterplot(x = 'Deaths / million', y = 'Rank',data = df3)"
   ]
  },
  {
   "cell_type": "code",
   "execution_count": 112,
   "id": "000e7dcf",
   "metadata": {
    "ExecuteTime": {
     "end_time": "2022-09-21T05:06:45.079138Z",
     "start_time": "2022-09-21T05:06:44.560676Z"
    }
   },
   "outputs": [],
   "source": [
    "# save scatterplot\n",
    "scatter.figure.savefig(os.path.join(path,'deaths_scatter'))"
   ]
  },
  {
   "cell_type": "code",
   "execution_count": 113,
   "id": "415a7c16",
   "metadata": {
    "ExecuteTime": {
     "end_time": "2022-09-21T05:07:41.164839Z",
     "start_time": "2022-09-21T05:07:39.301980Z"
    }
   },
   "outputs": [
    {
     "data": {
      "image/png": "[encoded data removed]",
      "text/plain": [
       "<Figure size 432x288 with 1 Axes>"
      ]
     },
     "metadata": {
      "needs_background": "light"
     },
     "output_type": "display_data"
    }
   ],
   "source": [
    "# second scatter plot\n",
    "scatter2 = sns.scatterplot(x = 'Deaths / million', y = 'Score',data = df3)"
   ]
  },
  {
   "cell_type": "markdown",
   "id": "4c325772",
   "metadata": {},
   "source": [
    "# Correlation Plot"
   ]
  },
  {
   "cell_type": "code",
   "execution_count": 82,
   "id": "58bc053f",
   "metadata": {
    "ExecuteTime": {
     "end_time": "2022-09-21T04:50:35.841252Z",
     "start_time": "2022-09-21T04:50:35.825603Z"
    }
   },
   "outputs": [],
   "source": [
    "# create subset for our plot\n",
    "df4 = df3[['Ran1k','Score','Deaths','Deaths / million']]"
   ]
  },
  {
   "cell_type": "code",
   "execution_count": 87,
   "id": "33bab63c",
   "metadata": {
    "ExecuteTime": {
     "end_time": "2022-09-21T04:53:24.054920Z",
     "start_time": "2022-09-21T04:53:24.031982Z"
    }
   },
   "outputs": [
    {
     "data": {
      "text/plain": [
       "Rank                0\n",
       "Score               0\n",
       "Deaths              9\n",
       "Deaths / million    9\n",
       "dtype: int64"
      ]
     },
     "execution_count": 87,
     "metadata": {},
     "output_type": "execute_result"
    }
   ],
   "source": [
    "# check for nulls to convert dtypes\n",
    "df4.isnull().sum()"
   ]
  },
  {
   "cell_type": "code",
   "execution_count": 90,
   "id": "ab847884",
   "metadata": {
    "ExecuteTime": {
     "end_time": "2022-09-21T04:55:53.168640Z",
     "start_time": "2022-09-21T04:55:51.325161Z"
    }
   },
   "outputs": [
    {
     "name": "stderr",
     "output_type": "stream",
     "text": [
      "C:\\Users\\18602\\AppData\\Local\\Temp\\ipykernel_10444\\2628938681.py:1: SettingWithCopyWarning: \n",
      "A value is trying to be set on a copy of a slice from a DataFrame\n",
      "\n",
      "See the caveats in the documentation: https://pandas.pydata.org/pandas-docs/stable/user_guide/indexing.html#returning-a-view-versus-a-copy\n",
      "  df4.fillna(0, inplace = True)\n"
     ]
    }
   ],
   "source": [
    "# fill in nulls\n",
    "df4.fillna(0, inplace = True)"
   ]
  },
  {
   "cell_type": "code",
   "execution_count": 91,
   "id": "bb339f84",
   "metadata": {
    "ExecuteTime": {
     "end_time": "2022-09-21T04:55:55.702939Z",
     "start_time": "2022-09-21T04:55:55.681292Z"
    }
   },
   "outputs": [
    {
     "data": {
      "text/plain": [
       "Rank                0\n",
       "Score               0\n",
       "Deaths              0\n",
       "Deaths / million    0\n",
       "dtype: int64"
      ]
     },
     "execution_count": 91,
     "metadata": {},
     "output_type": "execute_result"
    }
   ],
   "source": [
    "# check output\n",
    "df4.isnull().sum()"
   ]
  },
  {
   "cell_type": "code",
   "execution_count": 92,
   "id": "4cf592c5",
   "metadata": {
    "ExecuteTime": {
     "end_time": "2022-09-21T04:55:59.283834Z",
     "start_time": "2022-09-21T04:55:59.264020Z"
    }
   },
   "outputs": [
    {
     "data": {
      "text/plain": [
       "Rank                  int64\n",
       "Score               float64\n",
       "Deaths               object\n",
       "Deaths / million     object\n",
       "dtype: object"
      ]
     },
     "execution_count": 92,
     "metadata": {},
     "output_type": "execute_result"
    }
   ],
   "source": [
    "# check d types\n",
    "df4.dtypes"
   ]
  },
  {
   "cell_type": "code",
   "execution_count": 99,
   "id": "7774bada",
   "metadata": {
    "ExecuteTime": {
     "end_time": "2022-09-21T04:57:41.922892Z",
     "start_time": "2022-09-21T04:57:41.880345Z"
    }
   },
   "outputs": [
    {
     "name": "stderr",
     "output_type": "stream",
     "text": [
      "C:\\Users\\18602\\AppData\\Local\\Temp\\ipykernel_10444\\1133552032.py:1: SettingWithCopyWarning: \n",
      "A value is trying to be set on a copy of a slice from a DataFrame.\n",
      "Try using .loc[row_indexer,col_indexer] = value instead\n",
      "\n",
      "See the caveats in the documentation: https://pandas.pydata.org/pandas-docs/stable/user_guide/indexing.html#returning-a-view-versus-a-copy\n",
      "  df4['Deaths'] = df4['Deaths'].astype(str)\n"
     ]
    }
   ],
   "source": [
    "# convert to string to convert to int\n",
    "df4['Deaths'] = df4['Deaths'].astype(str)"
   ]
  },
  {
   "cell_type": "code",
   "execution_count": 100,
   "id": "799ae5f9",
   "metadata": {
    "ExecuteTime": {
     "end_time": "2022-09-21T04:57:55.309288Z",
     "start_time": "2022-09-21T04:57:55.267508Z"
    }
   },
   "outputs": [
    {
     "name": "stderr",
     "output_type": "stream",
     "text": [
      "C:\\Users\\18602\\AppData\\Local\\Temp\\ipykernel_10444\\1444489774.py:1: SettingWithCopyWarning: \n",
      "A value is trying to be set on a copy of a slice from a DataFrame.\n",
      "Try using .loc[row_indexer,col_indexer] = value instead\n",
      "\n",
      "See the caveats in the documentation: https://pandas.pydata.org/pandas-docs/stable/user_guide/indexing.html#returning-a-view-versus-a-copy\n",
      "  df4['Deaths'] = df4['Deaths'].astype(int)\n"
     ]
    }
   ],
   "source": [
    "df4['Deaths'] = df4['Deaths'].astype(int)"
   ]
  },
  {
   "cell_type": "code",
   "execution_count": 102,
   "id": "4d93e12f",
   "metadata": {
    "ExecuteTime": {
     "end_time": "2022-09-21T04:58:37.828759Z",
     "start_time": "2022-09-21T04:58:37.776108Z"
    }
   },
   "outputs": [
    {
     "name": "stderr",
     "output_type": "stream",
     "text": [
      "C:\\Users\\18602\\AppData\\Local\\Temp\\ipykernel_10444\\1995568616.py:1: SettingWithCopyWarning: \n",
      "A value is trying to be set on a copy of a slice from a DataFrame.\n",
      "Try using .loc[row_indexer,col_indexer] = value instead\n",
      "\n",
      "See the caveats in the documentation: https://pandas.pydata.org/pandas-docs/stable/user_guide/indexing.html#returning-a-view-versus-a-copy\n",
      "  df4['Deaths / million'] = df4['Deaths / million'].astype(str)\n"
     ]
    }
   ],
   "source": [
    "df4['Deaths / million'] = df4['Deaths / million'].astype(str)"
   ]
  },
  {
   "cell_type": "code",
   "execution_count": 103,
   "id": "9819b3b8",
   "metadata": {
    "ExecuteTime": {
     "end_time": "2022-09-21T04:58:48.588118Z",
     "start_time": "2022-09-21T04:58:48.544455Z"
    }
   },
   "outputs": [
    {
     "name": "stderr",
     "output_type": "stream",
     "text": [
      "C:\\Users\\18602\\AppData\\Local\\Temp\\ipykernel_10444\\3069000063.py:1: SettingWithCopyWarning: \n",
      "A value is trying to be set on a copy of a slice from a DataFrame.\n",
      "Try using .loc[row_indexer,col_indexer] = value instead\n",
      "\n",
      "See the caveats in the documentation: https://pandas.pydata.org/pandas-docs/stable/user_guide/indexing.html#returning-a-view-versus-a-copy\n",
      "  df4['Deaths / million'] = df4['Deaths / million'].astype(int)\n"
     ]
    }
   ],
   "source": [
    "df4['Deaths / million'] = df4['Deaths / million'].astype(int)"
   ]
  },
  {
   "cell_type": "code",
   "execution_count": 104,
   "id": "fd7e9d02",
   "metadata": {
    "ExecuteTime": {
     "end_time": "2022-09-21T04:58:55.640127Z",
     "start_time": "2022-09-21T04:58:55.613253Z"
    }
   },
   "outputs": [
    {
     "data": {
      "text/html": [
       "<div>\n",
       "<style scoped>\n",
       "    .dataframe tbody tr th:only-of-type {\n",
       "        vertical-align: middle;\n",
       "    }\n",
       "\n",
       "    .dataframe tbody tr th {\n",
       "        vertical-align: top;\n",
       "    }\n",
       "\n",
       "    .dataframe thead th {\n",
       "        text-align: right;\n",
       "    }\n",
       "</style>\n",
       "<table border=\"1\" class=\"dataframe\">\n",
       "  <thead>\n",
       "    <tr style=\"text-align: right;\">\n",
       "      <th></th>\n",
       "      <th>Rank</th>\n",
       "      <th>Score</th>\n",
       "      <th>Deaths</th>\n",
       "      <th>Deaths / million</th>\n",
       "    </tr>\n",
       "  </thead>\n",
       "  <tbody>\n",
       "    <tr>\n",
       "      <th>Rank</th>\n",
       "      <td>1.000000</td>\n",
       "      <td>-0.989096</td>\n",
       "      <td>-0.196165</td>\n",
       "      <td>-0.376225</td>\n",
       "    </tr>\n",
       "    <tr>\n",
       "      <th>Score</th>\n",
       "      <td>-0.989096</td>\n",
       "      <td>1.000000</td>\n",
       "      <td>0.223362</td>\n",
       "      <td>0.355303</td>\n",
       "    </tr>\n",
       "    <tr>\n",
       "      <th>Deaths</th>\n",
       "      <td>-0.196165</td>\n",
       "      <td>0.223362</td>\n",
       "      <td>1.000000</td>\n",
       "      <td>-0.000083</td>\n",
       "    </tr>\n",
       "    <tr>\n",
       "      <th>Deaths / million</th>\n",
       "      <td>-0.376225</td>\n",
       "      <td>0.355303</td>\n",
       "      <td>-0.000083</td>\n",
       "      <td>1.000000</td>\n",
       "    </tr>\n",
       "  </tbody>\n",
       "</table>\n",
       "</div>"
      ],
      "text/plain": [
       "                      Rank     Score    Deaths  Deaths / million\n",
       "Rank              1.000000 -0.989096 -0.196165         -0.376225\n",
       "Score            -0.989096  1.000000  0.223362          0.355303\n",
       "Deaths           -0.196165  0.223362  1.000000         -0.000083\n",
       "Deaths / million -0.376225  0.355303 -0.000083          1.000000"
      ]
     },
     "execution_count": 104,
     "metadata": {},
     "output_type": "execute_result"
    }
   ],
   "source": [
    "# create correlation matric\n",
    "df4.corr()"
   ]
  },
  {
   "cell_type": "code",
   "execution_count": 106,
   "id": "55cc28a0",
   "metadata": {
    "ExecuteTime": {
     "end_time": "2022-09-21T04:59:08.353260Z",
     "start_time": "2022-09-21T04:59:08.124702Z"
    }
   },
   "outputs": [
    {
     "data": {
      "image/png": "[encoded data removed]",
      "text/plain": [
       "<Figure size 288x288 with 1 Axes>"
      ]
     },
     "metadata": {
      "needs_background": "light"
     },
     "output_type": "display_data"
    }
   ],
   "source": [
    "# Create a correlation heatmap using matplotlib\n",
    "\n",
    "plt.matshow(df4.corr())\n",
    "plt.show()"
   ]
  },
  {
   "cell_type": "code",
   "execution_count": 107,
   "id": "1d53707e",
   "metadata": {
    "ExecuteTime": {
     "end_time": "2022-09-21T04:59:27.495718Z",
     "start_time": "2022-09-21T04:59:27.106759Z"
    }
   },
   "outputs": [
    {
     "data": {
      "text/plain": [
       "Text(0.5, 1.0, 'Correlation Matrix')"
      ]
     },
     "execution_count": 107,
     "metadata": {},
     "output_type": "execute_result"
    },
    {
     "data": {
      "image/png": "[encoded data removed]",
      "text/plain": [
       "<Figure size 576x576 with 2 Axes>"
      ]
     },
     "metadata": {
      "needs_background": "light"
     },
     "output_type": "display_data"
    }
   ],
   "source": [
    "# create detailed correlation heatmap\n",
    "f = plt.figure(figsize=(8, 8)) # figure size \n",
    "plt.matshow(df4.corr(), fignum=f.number) # type of plot\n",
    "plt.xticks(range(df4.shape[1]), df4.columns, fontsize=14, rotation=45) # x axis labels\n",
    "plt.yticks(range(df4.shape[1]), df4.columns, fontsize=14) # y axis labels\n",
    "cb = plt.colorbar() # add a colour legend (called colorbar)\n",
    "cb.ax.tick_params(labelsize=14) # add font size\n",
    "plt.title('Correlation Matrix', fontsize=14) # add title"
   ]
  },
  {
   "cell_type": "code",
   "execution_count": 108,
   "id": "a33d61d5",
   "metadata": {
    "ExecuteTime": {
     "end_time": "2022-09-21T04:59:36.740283Z",
     "start_time": "2022-09-21T04:59:36.330663Z"
    }
   },
   "outputs": [
    {
     "data": {
      "image/png": "[encoded data removed]",
      "text/plain": [
       "<Figure size 720x720 with 2 Axes>"
      ]
     },
     "metadata": {
      "needs_background": "light"
     },
     "output_type": "display_data"
    }
   ],
   "source": [
    "# Create a subplot with matplotlib\n",
    "f,ax = plt.subplots(figsize=(10,10))\n",
    "\n",
    "# Create the correlation heatmap in seaborn by applying a heatmap onto the correlation matrix and the subplots defined above.\n",
    "corr = sns.heatmap(df4.corr(), annot = True, ax = ax) # The `annot` argument allows the plot to \n",
    "#place the correlation coefficients onto the heatmap."
   ]
  },
  {
   "cell_type": "markdown",
   "id": "9dffe073",
   "metadata": {},
   "source": [
    "There is a moderate relationship between Rank/Score and deaths per million.There is not a strong relationship deaths and score/rank."
   ]
  },
  {
   "cell_type": "code",
   "execution_count": null,
   "id": "6546491d",
   "metadata": {},
   "outputs": [],
   "source": [
    "# export data\n",
    "df3.to_csv(os.path.join(path, '02 Data','Prepared Data', 'orders_wrangled.csv'))"
   ]
  }
 ],
 "metadata": {
  "kernelspec": {
   "display_name": "Python 3 (ipykernel)",
   "language": "python",
   "name": "python3"
  },
  "language_info": {
   "codemirror_mode": {
    "name": "ipython",
    "version": 3
   },
   "file_extension": ".py",
   "mimetype": "text/x-python",
   "name": "python",
   "nbconvert_exporter": "python",
   "pygments_lexer": "ipython3",
   "version": "3.9.12"
  },
  "toc": {
   "base_numbering": 1,
   "nav_menu": {},
   "number_sections": true,
   "sideBar": true,
   "skip_h1_title": false,
   "title_cell": "Table of Contents",
   "title_sidebar": "Contents",
   "toc_cell": false,
   "toc_position": {},
   "toc_section_display": true,
   "toc_window_display": false
  }
 },
 "nbformat": 4,
 "nbformat_minor": 5
}
